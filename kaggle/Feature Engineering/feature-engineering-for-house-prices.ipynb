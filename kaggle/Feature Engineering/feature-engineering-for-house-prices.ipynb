{
 "cells": [
  {
   "cell_type": "markdown",
   "id": "59e5366e",
   "metadata": {
    "papermill": {
     "duration": 0.030825,
     "end_time": "2022-07-14T14:36:38.230627",
     "exception": false,
     "start_time": "2022-07-14T14:36:38.199802",
     "status": "completed"
    },
    "tags": []
   },
   "source": [
    "# Introduction #\n",
    "\n",
    "Welcome to the feature engineering project for the [House Prices - Advanced Regression Techniques](https://www.kaggle.com/c/house-prices-advanced-regression-techniques) competition! This competition uses nearly the same data you used in the exercises of the [Feature Engineering](https://www.kaggle.com/learn/feature-engineering) course. We'll collect together the work you did into a complete project which you can build off of with ideas of your own.\n",
    "\n",
    "<blockquote style=\"margin-right:auto; margin-left:auto; background-color: #ebf9ff; padding: 1em; margin:24px;\">\n",
    "    <strong>Fork This Notebook!</strong><br>\n",
    "Create your own editable copy of this notebook by clicking on the <strong>Copy and Edit</strong> button in the top right corner.\n",
    "</blockquote>\n",
    "\n",
    "# Step 1 - Preliminaries #\n",
    "## Imports and Configuration ##\n",
    "\n",
    "We'll start by importing the packages we used in the exercises and setting some notebook defaults. Unhide this cell if you'd like to see the libraries we'll use:"
   ]
  },
  {
   "cell_type": "code",
   "execution_count": 1,
   "id": "d3f3f38e",
   "metadata": {
    "_kg_hide-input": true,
    "execution": {
     "iopub.execute_input": "2022-07-14T14:36:38.286418Z",
     "iopub.status.busy": "2022-07-14T14:36:38.285823Z",
     "iopub.status.idle": "2022-07-14T14:36:40.427100Z",
     "shell.execute_reply": "2022-07-14T14:36:40.425923Z"
    },
    "papermill": {
     "duration": 2.172271,
     "end_time": "2022-07-14T14:36:40.430123",
     "exception": false,
     "start_time": "2022-07-14T14:36:38.257852",
     "status": "completed"
    },
    "tags": []
   },
   "outputs": [],
   "source": [
    "\n",
    "import os\n",
    "import warnings\n",
    "from pathlib import Path\n",
    "\n",
    "import matplotlib.pyplot as plt\n",
    "import numpy as np\n",
    "import pandas as pd\n",
    "import seaborn as sns\n",
    "from IPython.display import display\n",
    "from pandas.api.types import CategoricalDtype\n",
    "\n",
    "from category_encoders import MEstimateEncoder\n",
    "from category_encoders import CatBoostEncoder\n",
    "from sklearn.cluster import KMeans\n",
    "from sklearn.decomposition import PCA\n",
    "from sklearn.feature_selection import mutual_info_regression\n",
    "from sklearn.model_selection import KFold, cross_val_score\n",
    "from xgboost import XGBRegressor\n",
    "\n",
    "\n",
    "# Set Matplotlib defaults\n",
    "plt.style.use(\"seaborn-whitegrid\")\n",
    "plt.rc(\"figure\", autolayout=True)\n",
    "plt.rc(\n",
    "    \"axes\",\n",
    "    labelweight=\"bold\",\n",
    "    labelsize=\"large\",\n",
    "    titleweight=\"bold\",\n",
    "    titlesize=14,\n",
    "    titlepad=10,\n",
    ")\n",
    "\n",
    "# Mute warnings\n",
    "warnings.filterwarnings('ignore')\n"
   ]
  },
  {
   "cell_type": "markdown",
   "id": "f2f58ca7",
   "metadata": {
    "papermill": {
     "duration": 0.025684,
     "end_time": "2022-07-14T14:36:40.483261",
     "exception": false,
     "start_time": "2022-07-14T14:36:40.457577",
     "status": "completed"
    },
    "tags": []
   },
   "source": [
    "## Data Preprocessing ##\n",
    "\n",
    "Before we can do any feature engineering, we need to *preprocess* the data to get it in a form suitable for analysis. The data we used in the course was a bit simpler than the competition data. For the *Ames* competition dataset, we'll need to:\n",
    "- **Load** the data from CSV files\n",
    "- **Clean** the data to fix any errors or inconsistencies\n",
    "- **Encode** the statistical data type (numeric, categorical)\n",
    "- **Impute** any missing values\n",
    "\n",
    "We'll wrap all these steps up in a function, which will make easy for you to get a fresh dataframe whenever you need. After reading the CSV file, we'll apply three preprocessing steps, `clean`, `encode`, and `impute`, and then create the data splits: one (`df_train`) for training the model, and one (`df_test`) for making the predictions that you'll submit to the competition for scoring on the leaderboard."
   ]
  },
  {
   "cell_type": "code",
   "execution_count": 2,
   "id": "b45fcf1a",
   "metadata": {
    "execution": {
     "iopub.execute_input": "2022-07-14T14:36:40.538878Z",
     "iopub.status.busy": "2022-07-14T14:36:40.538356Z",
     "iopub.status.idle": "2022-07-14T14:36:40.546393Z",
     "shell.execute_reply": "2022-07-14T14:36:40.545135Z"
    },
    "papermill": {
     "duration": 0.039204,
     "end_time": "2022-07-14T14:36:40.548731",
     "exception": false,
     "start_time": "2022-07-14T14:36:40.509527",
     "status": "completed"
    },
    "tags": []
   },
   "outputs": [],
   "source": [
    "def load_data():\n",
    "    # Read data\n",
    "    data_dir = Path(\"../input/house-prices-advanced-regression-techniques/\")\n",
    "    df_train = pd.read_csv(data_dir / \"train.csv\", index_col=\"Id\")\n",
    "    df_test = pd.read_csv(data_dir / \"test.csv\", index_col=\"Id\")\n",
    "    # Merge the splits so we can process them together\n",
    "    df = pd.concat([df_train, df_test])\n",
    "    # Preprocessing\n",
    "    df = clean(df)\n",
    "    df = encode(df)\n",
    "    df = impute(df)\n",
    "    # Reform splits\n",
    "    df_train = df.loc[df_train.index, :]\n",
    "    df_test = df.loc[df_test.index, :]\n",
    "    return df_train, df_test\n"
   ]
  },
  {
   "cell_type": "markdown",
   "id": "aaf81b86",
   "metadata": {
    "papermill": {
     "duration": 0.028049,
     "end_time": "2022-07-14T14:36:40.603757",
     "exception": false,
     "start_time": "2022-07-14T14:36:40.575708",
     "status": "completed"
    },
    "tags": []
   },
   "source": [
    "### Clean Data ###\n",
    "\n",
    "Some of the categorical features in this dataset have what are apparently typos in their categories:"
   ]
  },
  {
   "cell_type": "code",
   "execution_count": 3,
   "id": "10f6dd5c",
   "metadata": {
    "execution": {
     "iopub.execute_input": "2022-07-14T14:36:40.658570Z",
     "iopub.status.busy": "2022-07-14T14:36:40.657820Z",
     "iopub.status.idle": "2022-07-14T14:36:40.723090Z",
     "shell.execute_reply": "2022-07-14T14:36:40.721697Z"
    },
    "papermill": {
     "duration": 0.096142,
     "end_time": "2022-07-14T14:36:40.726525",
     "exception": false,
     "start_time": "2022-07-14T14:36:40.630383",
     "status": "completed"
    },
    "tags": []
   },
   "outputs": [
    {
     "data": {
      "text/plain": [
       "array(['VinylSd', 'MetalSd', 'Wd Shng', 'HdBoard', 'Plywood', 'Wd Sdng',\n",
       "       'CmentBd', 'BrkFace', 'Stucco', 'AsbShng', 'Brk Cmn', 'ImStucc',\n",
       "       'AsphShn', 'Stone', 'Other', 'CBlock'], dtype=object)"
      ]
     },
     "execution_count": 3,
     "metadata": {},
     "output_type": "execute_result"
    }
   ],
   "source": [
    "data_dir = Path(\"../input/house-prices-advanced-regression-techniques/\")\n",
    "df = pd.read_csv(data_dir / \"train.csv\", index_col=\"Id\")\n",
    "\n",
    "df.Exterior2nd.unique()"
   ]
  },
  {
   "cell_type": "markdown",
   "id": "bf9fd2e1",
   "metadata": {
    "papermill": {
     "duration": 0.025693,
     "end_time": "2022-07-14T14:36:40.778540",
     "exception": false,
     "start_time": "2022-07-14T14:36:40.752847",
     "status": "completed"
    },
    "tags": []
   },
   "source": [
    "Comparing these to `data_description.txt` shows us what needs cleaning. We'll take care of a couple of issues here, but you might want to evaluate this data further."
   ]
  },
  {
   "cell_type": "code",
   "execution_count": 4,
   "id": "77c5d5bb",
   "metadata": {
    "execution": {
     "iopub.execute_input": "2022-07-14T14:36:40.832996Z",
     "iopub.status.busy": "2022-07-14T14:36:40.832120Z",
     "iopub.status.idle": "2022-07-14T14:36:40.839173Z",
     "shell.execute_reply": "2022-07-14T14:36:40.838199Z"
    },
    "papermill": {
     "duration": 0.036827,
     "end_time": "2022-07-14T14:36:40.841546",
     "exception": false,
     "start_time": "2022-07-14T14:36:40.804719",
     "status": "completed"
    },
    "tags": []
   },
   "outputs": [],
   "source": [
    "def clean(df):\n",
    "    df[\"Exterior2nd\"] = df[\"Exterior2nd\"].replace({\"Brk Cmn\": \"BrkComm\"})\n",
    "    # Some values of GarageYrBlt are corrupt, so we'll replace them\n",
    "    # with the year the house was built\n",
    "    df[\"GarageYrBlt\"] = df[\"GarageYrBlt\"].where(df.GarageYrBlt <= 2010, df.YearBuilt)\n",
    "    # Names beginning with numbers are awkward to work with\n",
    "    df.rename(columns={\n",
    "        \"1stFlrSF\": \"FirstFlrSF\",\n",
    "        \"2ndFlrSF\": \"SecondFlrSF\",\n",
    "        \"3SsnPorch\": \"Threeseasonporch\",\n",
    "    }, inplace=True,\n",
    "    )\n",
    "    return df\n"
   ]
  },
  {
   "cell_type": "markdown",
   "id": "2b7d31e8",
   "metadata": {
    "papermill": {
     "duration": 0.025638,
     "end_time": "2022-07-14T14:36:40.892974",
     "exception": false,
     "start_time": "2022-07-14T14:36:40.867336",
     "status": "completed"
    },
    "tags": []
   },
   "source": [
    "### Encode the Statistical Data Type ###\n",
    "\n",
    "Pandas has Python types corresponding to the standard statistical types (numeric, categorical, etc.). Encoding each feature with its correct type helps ensure each feature is treated appropriately by whatever functions we use, and makes it easier for us to apply transformations consistently. This hidden cell defines the `encode` function:"
   ]
  },
  {
   "cell_type": "code",
   "execution_count": 5,
   "id": "edd5291f",
   "metadata": {
    "_kg_hide-input": true,
    "execution": {
     "iopub.execute_input": "2022-07-14T14:36:40.947847Z",
     "iopub.status.busy": "2022-07-14T14:36:40.946268Z",
     "iopub.status.idle": "2022-07-14T14:36:40.962275Z",
     "shell.execute_reply": "2022-07-14T14:36:40.961258Z"
    },
    "papermill": {
     "duration": 0.046178,
     "end_time": "2022-07-14T14:36:40.965111",
     "exception": false,
     "start_time": "2022-07-14T14:36:40.918933",
     "status": "completed"
    },
    "tags": []
   },
   "outputs": [],
   "source": [
    "\n",
    "# The numeric features are already encoded correctly (`float` for\n",
    "# continuous, `int` for discrete), but the categoricals we'll need to\n",
    "# do ourselves. Note in particular, that the `MSSubClass` feature is\n",
    "# read as an `int` type, but is actually a (nominative) categorical.\n",
    "\n",
    "# The nominative (unordered) categorical features\n",
    "features_nom = [\"MSSubClass\", \"MSZoning\", \"Street\", \"Alley\", \"LandContour\", \"LotConfig\", \"Neighborhood\", \"Condition1\", \"Condition2\", \"BldgType\", \"HouseStyle\", \"RoofStyle\", \"RoofMatl\", \"Exterior1st\", \"Exterior2nd\", \"MasVnrType\", \"Foundation\", \"Heating\", \"CentralAir\", \"GarageType\", \"MiscFeature\", \"SaleType\", \"SaleCondition\"]\n",
    "\n",
    "\n",
    "# The ordinal (ordered) categorical features \n",
    "\n",
    "# Pandas calls the categories \"levels\"\n",
    "five_levels = [\"Po\", \"Fa\", \"TA\", \"Gd\", \"Ex\"]\n",
    "ten_levels = list(range(10))\n",
    "\n",
    "ordered_levels = {\n",
    "    \"OverallQual\": ten_levels,\n",
    "    \"OverallCond\": ten_levels,\n",
    "    \"ExterQual\": five_levels,\n",
    "    \"ExterCond\": five_levels,\n",
    "    \"BsmtQual\": five_levels,\n",
    "    \"BsmtCond\": five_levels,\n",
    "    \"HeatingQC\": five_levels,\n",
    "    \"KitchenQual\": five_levels,\n",
    "    \"FireplaceQu\": five_levels,\n",
    "    \"GarageQual\": five_levels,\n",
    "    \"GarageCond\": five_levels,\n",
    "    \"PoolQC\": five_levels,\n",
    "    \"LotShape\": [\"Reg\", \"IR1\", \"IR2\", \"IR3\"],\n",
    "    \"LandSlope\": [\"Sev\", \"Mod\", \"Gtl\"],\n",
    "    \"BsmtExposure\": [\"No\", \"Mn\", \"Av\", \"Gd\"],\n",
    "    \"BsmtFinType1\": [\"Unf\", \"LwQ\", \"Rec\", \"BLQ\", \"ALQ\", \"GLQ\"],\n",
    "    \"BsmtFinType2\": [\"Unf\", \"LwQ\", \"Rec\", \"BLQ\", \"ALQ\", \"GLQ\"],\n",
    "    \"Functional\": [\"Sal\", \"Sev\", \"Maj1\", \"Maj2\", \"Mod\", \"Min2\", \"Min1\", \"Typ\"],\n",
    "    \"GarageFinish\": [\"Unf\", \"RFn\", \"Fin\"],\n",
    "    \"PavedDrive\": [\"N\", \"P\", \"Y\"],\n",
    "    \"Utilities\": [\"NoSeWa\", \"NoSewr\", \"AllPub\"],\n",
    "    \"CentralAir\": [\"N\", \"Y\"],\n",
    "    \"Electrical\": [\"Mix\", \"FuseP\", \"FuseF\", \"FuseA\", \"SBrkr\"],\n",
    "    \"Fence\": [\"MnWw\", \"GdWo\", \"MnPrv\", \"GdPrv\"],\n",
    "}\n",
    "\n",
    "# Add a None level for missing values\n",
    "ordered_levels = {key: [\"None\"] + value for key, value in\n",
    "                  ordered_levels.items()}\n",
    "\n",
    "\n",
    "def encode(df):\n",
    "    # Nominal categories\n",
    "    for name in features_nom:\n",
    "        df[name] = df[name].astype(\"category\")\n",
    "        # Add a None category for missing values\n",
    "        if \"None\" not in df[name].cat.categories:\n",
    "            df[name].cat.add_categories(\"None\", inplace=True)\n",
    "    # Ordinal categories\n",
    "    for name, levels in ordered_levels.items():\n",
    "        df[name] = df[name].astype(CategoricalDtype(levels,\n",
    "                                                    ordered=True))\n",
    "    return df\n"
   ]
  },
  {
   "cell_type": "markdown",
   "id": "6638ee9b",
   "metadata": {
    "papermill": {
     "duration": 0.026738,
     "end_time": "2022-07-14T14:36:41.020837",
     "exception": false,
     "start_time": "2022-07-14T14:36:40.994099",
     "status": "completed"
    },
    "tags": []
   },
   "source": [
    "### Handle Missing Values ###\n",
    "\n",
    "Handling missing values now will make the feature engineering go more smoothly. We'll impute `0` for missing numeric values and `\"None\"` for missing categorical values. You might like to experiment with other imputation strategies. In particular, you could try creating \"missing value\" indicators: `1` whenever a value was imputed and `0` otherwise."
   ]
  },
  {
   "cell_type": "code",
   "execution_count": 6,
   "id": "e14bed52",
   "metadata": {
    "execution": {
     "iopub.execute_input": "2022-07-14T14:36:41.075124Z",
     "iopub.status.busy": "2022-07-14T14:36:41.074368Z",
     "iopub.status.idle": "2022-07-14T14:36:41.080741Z",
     "shell.execute_reply": "2022-07-14T14:36:41.079728Z"
    },
    "papermill": {
     "duration": 0.036436,
     "end_time": "2022-07-14T14:36:41.083161",
     "exception": false,
     "start_time": "2022-07-14T14:36:41.046725",
     "status": "completed"
    },
    "tags": []
   },
   "outputs": [],
   "source": [
    "def impute(df):\n",
    "    for name in df.select_dtypes(\"number\"):\n",
    "\n",
    "# I found adding features for numerical missing values was useful for \n",
    "# random forest, but not for XGBoost.\n",
    "        #df[name + \"_missing_value\"] = 0\n",
    "        #for i,a in enumerate(df[name]):\n",
    "         #    if np.isnan(a):\n",
    "          #            df.loc[i, name + \"_missing_value\"] = 1\n",
    "        df[name] = df[name].fillna(0)\n",
    "    for name in df.select_dtypes(\"category\"):\n",
    "# I did not find adding features for nominal missing values useful for either\n",
    "# random forest or for XGBoost.\n",
    "        #df[name + \"_missing_value\"] = 0\n",
    "        df[name] = df[name].fillna(\"None\")\n",
    "        #for i,a in enumerate(df[name]):\n",
    "         #   if a == \"None\":\n",
    "          #         df.loc[i, name + \"_missing_value\"] = 1\n",
    "    return df\n"
   ]
  },
  {
   "cell_type": "markdown",
   "id": "7ca70030",
   "metadata": {
    "papermill": {
     "duration": 0.02763,
     "end_time": "2022-07-14T14:36:41.136856",
     "exception": false,
     "start_time": "2022-07-14T14:36:41.109226",
     "status": "completed"
    },
    "tags": []
   },
   "source": [
    "***Please Note:*** I tried creating \"missing value\" indicators: 1 whenever a value was imputed and 0 otherwise. I tried to do so for both numerical and/or categorical features with missing values, for both the XGBoost model and for the RandomForest model. The resultant RMSLE scores are presented below. The RMSLE was lowest (best) for the RandomForest model, when missing values indicators were created only for numerical features, not for categorical features, see RMSLE table below."
   ]
  },
  {
   "cell_type": "markdown",
   "id": "0bc3d842",
   "metadata": {
    "papermill": {
     "duration": 0.025585,
     "end_time": "2022-07-14T14:36:41.189048",
     "exception": false,
     "start_time": "2022-07-14T14:36:41.163463",
     "status": "completed"
    },
    "tags": []
   },
   "source": [
    "## Load Data ##\n",
    "\n",
    "And now we can call the data loader and get the processed data splits:"
   ]
  },
  {
   "cell_type": "code",
   "execution_count": 7,
   "id": "a9af9a4f",
   "metadata": {
    "execution": {
     "iopub.execute_input": "2022-07-14T14:36:41.243113Z",
     "iopub.status.busy": "2022-07-14T14:36:41.242350Z",
     "iopub.status.idle": "2022-07-14T14:36:41.450012Z",
     "shell.execute_reply": "2022-07-14T14:36:41.448794Z"
    },
    "papermill": {
     "duration": 0.237773,
     "end_time": "2022-07-14T14:36:41.452669",
     "exception": false,
     "start_time": "2022-07-14T14:36:41.214896",
     "status": "completed"
    },
    "tags": []
   },
   "outputs": [],
   "source": [
    "df_train, df_test = load_data()"
   ]
  },
  {
   "cell_type": "markdown",
   "id": "b26b48c4",
   "metadata": {
    "papermill": {
     "duration": 0.026608,
     "end_time": "2022-07-14T14:36:41.505070",
     "exception": false,
     "start_time": "2022-07-14T14:36:41.478462",
     "status": "completed"
    },
    "tags": []
   },
   "source": [
    "Uncomment and run this cell if you'd like to see what they contain. Notice that `df_test` is\n",
    "missing values for `SalePrice`. (`NA`s were willed with 0's in the imputation step.)"
   ]
  },
  {
   "cell_type": "code",
   "execution_count": 8,
   "id": "47d1b8e2",
   "metadata": {
    "execution": {
     "iopub.execute_input": "2022-07-14T14:36:41.560311Z",
     "iopub.status.busy": "2022-07-14T14:36:41.559874Z",
     "iopub.status.idle": "2022-07-14T14:36:41.564099Z",
     "shell.execute_reply": "2022-07-14T14:36:41.563204Z"
    },
    "papermill": {
     "duration": 0.035082,
     "end_time": "2022-07-14T14:36:41.566593",
     "exception": false,
     "start_time": "2022-07-14T14:36:41.531511",
     "status": "completed"
    },
    "tags": []
   },
   "outputs": [],
   "source": [
    "# LogLotFrontage = np.log(df_train.LotFrontage)\n",
    "# LogLotFrontage.hist()"
   ]
  },
  {
   "cell_type": "code",
   "execution_count": 9,
   "id": "8e7d7f94",
   "metadata": {
    "execution": {
     "iopub.execute_input": "2022-07-14T14:36:41.624557Z",
     "iopub.status.busy": "2022-07-14T14:36:41.623810Z",
     "iopub.status.idle": "2022-07-14T14:36:41.780853Z",
     "shell.execute_reply": "2022-07-14T14:36:41.779110Z"
    },
    "papermill": {
     "duration": 0.189112,
     "end_time": "2022-07-14T14:36:41.783269",
     "exception": false,
     "start_time": "2022-07-14T14:36:41.594157",
     "status": "completed"
    },
    "tags": []
   },
   "outputs": [
    {
     "data": {
      "text/html": [
       "<div>\n",
       "<style scoped>\n",
       "    .dataframe tbody tr th:only-of-type {\n",
       "        vertical-align: middle;\n",
       "    }\n",
       "\n",
       "    .dataframe tbody tr th {\n",
       "        vertical-align: top;\n",
       "    }\n",
       "\n",
       "    .dataframe thead th {\n",
       "        text-align: right;\n",
       "    }\n",
       "</style>\n",
       "<table border=\"1\" class=\"dataframe\">\n",
       "  <thead>\n",
       "    <tr style=\"text-align: right;\">\n",
       "      <th></th>\n",
       "      <th>MSSubClass</th>\n",
       "      <th>MSZoning</th>\n",
       "      <th>LotFrontage</th>\n",
       "      <th>LotArea</th>\n",
       "      <th>Street</th>\n",
       "      <th>Alley</th>\n",
       "      <th>LotShape</th>\n",
       "      <th>LandContour</th>\n",
       "      <th>Utilities</th>\n",
       "      <th>LotConfig</th>\n",
       "      <th>...</th>\n",
       "      <th>PoolArea</th>\n",
       "      <th>PoolQC</th>\n",
       "      <th>Fence</th>\n",
       "      <th>MiscFeature</th>\n",
       "      <th>MiscVal</th>\n",
       "      <th>MoSold</th>\n",
       "      <th>YrSold</th>\n",
       "      <th>SaleType</th>\n",
       "      <th>SaleCondition</th>\n",
       "      <th>SalePrice</th>\n",
       "    </tr>\n",
       "    <tr>\n",
       "      <th>Id</th>\n",
       "      <th></th>\n",
       "      <th></th>\n",
       "      <th></th>\n",
       "      <th></th>\n",
       "      <th></th>\n",
       "      <th></th>\n",
       "      <th></th>\n",
       "      <th></th>\n",
       "      <th></th>\n",
       "      <th></th>\n",
       "      <th></th>\n",
       "      <th></th>\n",
       "      <th></th>\n",
       "      <th></th>\n",
       "      <th></th>\n",
       "      <th></th>\n",
       "      <th></th>\n",
       "      <th></th>\n",
       "      <th></th>\n",
       "      <th></th>\n",
       "      <th></th>\n",
       "    </tr>\n",
       "  </thead>\n",
       "  <tbody>\n",
       "    <tr>\n",
       "      <th>1</th>\n",
       "      <td>60</td>\n",
       "      <td>RL</td>\n",
       "      <td>65.0</td>\n",
       "      <td>8450</td>\n",
       "      <td>Pave</td>\n",
       "      <td>None</td>\n",
       "      <td>Reg</td>\n",
       "      <td>Lvl</td>\n",
       "      <td>AllPub</td>\n",
       "      <td>Inside</td>\n",
       "      <td>...</td>\n",
       "      <td>0</td>\n",
       "      <td>None</td>\n",
       "      <td>None</td>\n",
       "      <td>None</td>\n",
       "      <td>0</td>\n",
       "      <td>2</td>\n",
       "      <td>2008</td>\n",
       "      <td>WD</td>\n",
       "      <td>Normal</td>\n",
       "      <td>208500.0</td>\n",
       "    </tr>\n",
       "    <tr>\n",
       "      <th>2</th>\n",
       "      <td>20</td>\n",
       "      <td>RL</td>\n",
       "      <td>80.0</td>\n",
       "      <td>9600</td>\n",
       "      <td>Pave</td>\n",
       "      <td>None</td>\n",
       "      <td>Reg</td>\n",
       "      <td>Lvl</td>\n",
       "      <td>AllPub</td>\n",
       "      <td>FR2</td>\n",
       "      <td>...</td>\n",
       "      <td>0</td>\n",
       "      <td>None</td>\n",
       "      <td>None</td>\n",
       "      <td>None</td>\n",
       "      <td>0</td>\n",
       "      <td>5</td>\n",
       "      <td>2007</td>\n",
       "      <td>WD</td>\n",
       "      <td>Normal</td>\n",
       "      <td>181500.0</td>\n",
       "    </tr>\n",
       "    <tr>\n",
       "      <th>3</th>\n",
       "      <td>60</td>\n",
       "      <td>RL</td>\n",
       "      <td>68.0</td>\n",
       "      <td>11250</td>\n",
       "      <td>Pave</td>\n",
       "      <td>None</td>\n",
       "      <td>IR1</td>\n",
       "      <td>Lvl</td>\n",
       "      <td>AllPub</td>\n",
       "      <td>Inside</td>\n",
       "      <td>...</td>\n",
       "      <td>0</td>\n",
       "      <td>None</td>\n",
       "      <td>None</td>\n",
       "      <td>None</td>\n",
       "      <td>0</td>\n",
       "      <td>9</td>\n",
       "      <td>2008</td>\n",
       "      <td>WD</td>\n",
       "      <td>Normal</td>\n",
       "      <td>223500.0</td>\n",
       "    </tr>\n",
       "    <tr>\n",
       "      <th>4</th>\n",
       "      <td>70</td>\n",
       "      <td>RL</td>\n",
       "      <td>60.0</td>\n",
       "      <td>9550</td>\n",
       "      <td>Pave</td>\n",
       "      <td>None</td>\n",
       "      <td>IR1</td>\n",
       "      <td>Lvl</td>\n",
       "      <td>AllPub</td>\n",
       "      <td>Corner</td>\n",
       "      <td>...</td>\n",
       "      <td>0</td>\n",
       "      <td>None</td>\n",
       "      <td>None</td>\n",
       "      <td>None</td>\n",
       "      <td>0</td>\n",
       "      <td>2</td>\n",
       "      <td>2006</td>\n",
       "      <td>WD</td>\n",
       "      <td>Abnorml</td>\n",
       "      <td>140000.0</td>\n",
       "    </tr>\n",
       "    <tr>\n",
       "      <th>5</th>\n",
       "      <td>60</td>\n",
       "      <td>RL</td>\n",
       "      <td>84.0</td>\n",
       "      <td>14260</td>\n",
       "      <td>Pave</td>\n",
       "      <td>None</td>\n",
       "      <td>IR1</td>\n",
       "      <td>Lvl</td>\n",
       "      <td>AllPub</td>\n",
       "      <td>FR2</td>\n",
       "      <td>...</td>\n",
       "      <td>0</td>\n",
       "      <td>None</td>\n",
       "      <td>None</td>\n",
       "      <td>None</td>\n",
       "      <td>0</td>\n",
       "      <td>12</td>\n",
       "      <td>2008</td>\n",
       "      <td>WD</td>\n",
       "      <td>Normal</td>\n",
       "      <td>250000.0</td>\n",
       "    </tr>\n",
       "    <tr>\n",
       "      <th>...</th>\n",
       "      <td>...</td>\n",
       "      <td>...</td>\n",
       "      <td>...</td>\n",
       "      <td>...</td>\n",
       "      <td>...</td>\n",
       "      <td>...</td>\n",
       "      <td>...</td>\n",
       "      <td>...</td>\n",
       "      <td>...</td>\n",
       "      <td>...</td>\n",
       "      <td>...</td>\n",
       "      <td>...</td>\n",
       "      <td>...</td>\n",
       "      <td>...</td>\n",
       "      <td>...</td>\n",
       "      <td>...</td>\n",
       "      <td>...</td>\n",
       "      <td>...</td>\n",
       "      <td>...</td>\n",
       "      <td>...</td>\n",
       "      <td>...</td>\n",
       "    </tr>\n",
       "    <tr>\n",
       "      <th>1456</th>\n",
       "      <td>60</td>\n",
       "      <td>RL</td>\n",
       "      <td>62.0</td>\n",
       "      <td>7917</td>\n",
       "      <td>Pave</td>\n",
       "      <td>None</td>\n",
       "      <td>Reg</td>\n",
       "      <td>Lvl</td>\n",
       "      <td>AllPub</td>\n",
       "      <td>Inside</td>\n",
       "      <td>...</td>\n",
       "      <td>0</td>\n",
       "      <td>None</td>\n",
       "      <td>None</td>\n",
       "      <td>None</td>\n",
       "      <td>0</td>\n",
       "      <td>8</td>\n",
       "      <td>2007</td>\n",
       "      <td>WD</td>\n",
       "      <td>Normal</td>\n",
       "      <td>175000.0</td>\n",
       "    </tr>\n",
       "    <tr>\n",
       "      <th>1457</th>\n",
       "      <td>20</td>\n",
       "      <td>RL</td>\n",
       "      <td>85.0</td>\n",
       "      <td>13175</td>\n",
       "      <td>Pave</td>\n",
       "      <td>None</td>\n",
       "      <td>Reg</td>\n",
       "      <td>Lvl</td>\n",
       "      <td>AllPub</td>\n",
       "      <td>Inside</td>\n",
       "      <td>...</td>\n",
       "      <td>0</td>\n",
       "      <td>None</td>\n",
       "      <td>MnPrv</td>\n",
       "      <td>None</td>\n",
       "      <td>0</td>\n",
       "      <td>2</td>\n",
       "      <td>2010</td>\n",
       "      <td>WD</td>\n",
       "      <td>Normal</td>\n",
       "      <td>210000.0</td>\n",
       "    </tr>\n",
       "    <tr>\n",
       "      <th>1458</th>\n",
       "      <td>70</td>\n",
       "      <td>RL</td>\n",
       "      <td>66.0</td>\n",
       "      <td>9042</td>\n",
       "      <td>Pave</td>\n",
       "      <td>None</td>\n",
       "      <td>Reg</td>\n",
       "      <td>Lvl</td>\n",
       "      <td>AllPub</td>\n",
       "      <td>Inside</td>\n",
       "      <td>...</td>\n",
       "      <td>0</td>\n",
       "      <td>None</td>\n",
       "      <td>GdPrv</td>\n",
       "      <td>Shed</td>\n",
       "      <td>2500</td>\n",
       "      <td>5</td>\n",
       "      <td>2010</td>\n",
       "      <td>WD</td>\n",
       "      <td>Normal</td>\n",
       "      <td>266500.0</td>\n",
       "    </tr>\n",
       "    <tr>\n",
       "      <th>1459</th>\n",
       "      <td>20</td>\n",
       "      <td>RL</td>\n",
       "      <td>68.0</td>\n",
       "      <td>9717</td>\n",
       "      <td>Pave</td>\n",
       "      <td>None</td>\n",
       "      <td>Reg</td>\n",
       "      <td>Lvl</td>\n",
       "      <td>AllPub</td>\n",
       "      <td>Inside</td>\n",
       "      <td>...</td>\n",
       "      <td>0</td>\n",
       "      <td>None</td>\n",
       "      <td>None</td>\n",
       "      <td>None</td>\n",
       "      <td>0</td>\n",
       "      <td>4</td>\n",
       "      <td>2010</td>\n",
       "      <td>WD</td>\n",
       "      <td>Normal</td>\n",
       "      <td>142125.0</td>\n",
       "    </tr>\n",
       "    <tr>\n",
       "      <th>1460</th>\n",
       "      <td>20</td>\n",
       "      <td>RL</td>\n",
       "      <td>75.0</td>\n",
       "      <td>9937</td>\n",
       "      <td>Pave</td>\n",
       "      <td>None</td>\n",
       "      <td>Reg</td>\n",
       "      <td>Lvl</td>\n",
       "      <td>AllPub</td>\n",
       "      <td>Inside</td>\n",
       "      <td>...</td>\n",
       "      <td>0</td>\n",
       "      <td>None</td>\n",
       "      <td>None</td>\n",
       "      <td>None</td>\n",
       "      <td>0</td>\n",
       "      <td>6</td>\n",
       "      <td>2008</td>\n",
       "      <td>WD</td>\n",
       "      <td>Normal</td>\n",
       "      <td>147500.0</td>\n",
       "    </tr>\n",
       "  </tbody>\n",
       "</table>\n",
       "<p>1460 rows × 80 columns</p>\n",
       "</div>"
      ],
      "text/plain": [
       "     MSSubClass MSZoning  LotFrontage  LotArea Street Alley LotShape  \\\n",
       "Id                                                                     \n",
       "1            60       RL         65.0     8450   Pave  None      Reg   \n",
       "2            20       RL         80.0     9600   Pave  None      Reg   \n",
       "3            60       RL         68.0    11250   Pave  None      IR1   \n",
       "4            70       RL         60.0     9550   Pave  None      IR1   \n",
       "5            60       RL         84.0    14260   Pave  None      IR1   \n",
       "...         ...      ...          ...      ...    ...   ...      ...   \n",
       "1456         60       RL         62.0     7917   Pave  None      Reg   \n",
       "1457         20       RL         85.0    13175   Pave  None      Reg   \n",
       "1458         70       RL         66.0     9042   Pave  None      Reg   \n",
       "1459         20       RL         68.0     9717   Pave  None      Reg   \n",
       "1460         20       RL         75.0     9937   Pave  None      Reg   \n",
       "\n",
       "     LandContour Utilities LotConfig  ... PoolArea PoolQC  Fence MiscFeature  \\\n",
       "Id                                    ...                                      \n",
       "1            Lvl    AllPub    Inside  ...        0   None   None        None   \n",
       "2            Lvl    AllPub       FR2  ...        0   None   None        None   \n",
       "3            Lvl    AllPub    Inside  ...        0   None   None        None   \n",
       "4            Lvl    AllPub    Corner  ...        0   None   None        None   \n",
       "5            Lvl    AllPub       FR2  ...        0   None   None        None   \n",
       "...          ...       ...       ...  ...      ...    ...    ...         ...   \n",
       "1456         Lvl    AllPub    Inside  ...        0   None   None        None   \n",
       "1457         Lvl    AllPub    Inside  ...        0   None  MnPrv        None   \n",
       "1458         Lvl    AllPub    Inside  ...        0   None  GdPrv        Shed   \n",
       "1459         Lvl    AllPub    Inside  ...        0   None   None        None   \n",
       "1460         Lvl    AllPub    Inside  ...        0   None   None        None   \n",
       "\n",
       "     MiscVal MoSold YrSold SaleType  SaleCondition  SalePrice  \n",
       "Id                                                             \n",
       "1          0      2   2008       WD         Normal   208500.0  \n",
       "2          0      5   2007       WD         Normal   181500.0  \n",
       "3          0      9   2008       WD         Normal   223500.0  \n",
       "4          0      2   2006       WD        Abnorml   140000.0  \n",
       "5          0     12   2008       WD         Normal   250000.0  \n",
       "...      ...    ...    ...      ...            ...        ...  \n",
       "1456       0      8   2007       WD         Normal   175000.0  \n",
       "1457       0      2   2010       WD         Normal   210000.0  \n",
       "1458    2500      5   2010       WD         Normal   266500.0  \n",
       "1459       0      4   2010       WD         Normal   142125.0  \n",
       "1460       0      6   2008       WD         Normal   147500.0  \n",
       "\n",
       "[1460 rows x 80 columns]"
      ]
     },
     "metadata": {},
     "output_type": "display_data"
    },
    {
     "data": {
      "text/html": [
       "<div>\n",
       "<style scoped>\n",
       "    .dataframe tbody tr th:only-of-type {\n",
       "        vertical-align: middle;\n",
       "    }\n",
       "\n",
       "    .dataframe tbody tr th {\n",
       "        vertical-align: top;\n",
       "    }\n",
       "\n",
       "    .dataframe thead th {\n",
       "        text-align: right;\n",
       "    }\n",
       "</style>\n",
       "<table border=\"1\" class=\"dataframe\">\n",
       "  <thead>\n",
       "    <tr style=\"text-align: right;\">\n",
       "      <th></th>\n",
       "      <th>MSSubClass</th>\n",
       "      <th>MSZoning</th>\n",
       "      <th>LotFrontage</th>\n",
       "      <th>LotArea</th>\n",
       "      <th>Street</th>\n",
       "      <th>Alley</th>\n",
       "      <th>LotShape</th>\n",
       "      <th>LandContour</th>\n",
       "      <th>Utilities</th>\n",
       "      <th>LotConfig</th>\n",
       "      <th>...</th>\n",
       "      <th>PoolArea</th>\n",
       "      <th>PoolQC</th>\n",
       "      <th>Fence</th>\n",
       "      <th>MiscFeature</th>\n",
       "      <th>MiscVal</th>\n",
       "      <th>MoSold</th>\n",
       "      <th>YrSold</th>\n",
       "      <th>SaleType</th>\n",
       "      <th>SaleCondition</th>\n",
       "      <th>SalePrice</th>\n",
       "    </tr>\n",
       "    <tr>\n",
       "      <th>Id</th>\n",
       "      <th></th>\n",
       "      <th></th>\n",
       "      <th></th>\n",
       "      <th></th>\n",
       "      <th></th>\n",
       "      <th></th>\n",
       "      <th></th>\n",
       "      <th></th>\n",
       "      <th></th>\n",
       "      <th></th>\n",
       "      <th></th>\n",
       "      <th></th>\n",
       "      <th></th>\n",
       "      <th></th>\n",
       "      <th></th>\n",
       "      <th></th>\n",
       "      <th></th>\n",
       "      <th></th>\n",
       "      <th></th>\n",
       "      <th></th>\n",
       "      <th></th>\n",
       "    </tr>\n",
       "  </thead>\n",
       "  <tbody>\n",
       "    <tr>\n",
       "      <th>1461</th>\n",
       "      <td>20</td>\n",
       "      <td>RH</td>\n",
       "      <td>80.0</td>\n",
       "      <td>11622</td>\n",
       "      <td>Pave</td>\n",
       "      <td>None</td>\n",
       "      <td>Reg</td>\n",
       "      <td>Lvl</td>\n",
       "      <td>AllPub</td>\n",
       "      <td>Inside</td>\n",
       "      <td>...</td>\n",
       "      <td>0</td>\n",
       "      <td>None</td>\n",
       "      <td>MnPrv</td>\n",
       "      <td>None</td>\n",
       "      <td>0</td>\n",
       "      <td>6</td>\n",
       "      <td>2010</td>\n",
       "      <td>WD</td>\n",
       "      <td>Normal</td>\n",
       "      <td>0.0</td>\n",
       "    </tr>\n",
       "    <tr>\n",
       "      <th>1462</th>\n",
       "      <td>20</td>\n",
       "      <td>RL</td>\n",
       "      <td>81.0</td>\n",
       "      <td>14267</td>\n",
       "      <td>Pave</td>\n",
       "      <td>None</td>\n",
       "      <td>IR1</td>\n",
       "      <td>Lvl</td>\n",
       "      <td>AllPub</td>\n",
       "      <td>Corner</td>\n",
       "      <td>...</td>\n",
       "      <td>0</td>\n",
       "      <td>None</td>\n",
       "      <td>None</td>\n",
       "      <td>Gar2</td>\n",
       "      <td>12500</td>\n",
       "      <td>6</td>\n",
       "      <td>2010</td>\n",
       "      <td>WD</td>\n",
       "      <td>Normal</td>\n",
       "      <td>0.0</td>\n",
       "    </tr>\n",
       "    <tr>\n",
       "      <th>1463</th>\n",
       "      <td>60</td>\n",
       "      <td>RL</td>\n",
       "      <td>74.0</td>\n",
       "      <td>13830</td>\n",
       "      <td>Pave</td>\n",
       "      <td>None</td>\n",
       "      <td>IR1</td>\n",
       "      <td>Lvl</td>\n",
       "      <td>AllPub</td>\n",
       "      <td>Inside</td>\n",
       "      <td>...</td>\n",
       "      <td>0</td>\n",
       "      <td>None</td>\n",
       "      <td>MnPrv</td>\n",
       "      <td>None</td>\n",
       "      <td>0</td>\n",
       "      <td>3</td>\n",
       "      <td>2010</td>\n",
       "      <td>WD</td>\n",
       "      <td>Normal</td>\n",
       "      <td>0.0</td>\n",
       "    </tr>\n",
       "    <tr>\n",
       "      <th>1464</th>\n",
       "      <td>60</td>\n",
       "      <td>RL</td>\n",
       "      <td>78.0</td>\n",
       "      <td>9978</td>\n",
       "      <td>Pave</td>\n",
       "      <td>None</td>\n",
       "      <td>IR1</td>\n",
       "      <td>Lvl</td>\n",
       "      <td>AllPub</td>\n",
       "      <td>Inside</td>\n",
       "      <td>...</td>\n",
       "      <td>0</td>\n",
       "      <td>None</td>\n",
       "      <td>None</td>\n",
       "      <td>None</td>\n",
       "      <td>0</td>\n",
       "      <td>6</td>\n",
       "      <td>2010</td>\n",
       "      <td>WD</td>\n",
       "      <td>Normal</td>\n",
       "      <td>0.0</td>\n",
       "    </tr>\n",
       "    <tr>\n",
       "      <th>1465</th>\n",
       "      <td>120</td>\n",
       "      <td>RL</td>\n",
       "      <td>43.0</td>\n",
       "      <td>5005</td>\n",
       "      <td>Pave</td>\n",
       "      <td>None</td>\n",
       "      <td>IR1</td>\n",
       "      <td>HLS</td>\n",
       "      <td>AllPub</td>\n",
       "      <td>Inside</td>\n",
       "      <td>...</td>\n",
       "      <td>0</td>\n",
       "      <td>None</td>\n",
       "      <td>None</td>\n",
       "      <td>None</td>\n",
       "      <td>0</td>\n",
       "      <td>1</td>\n",
       "      <td>2010</td>\n",
       "      <td>WD</td>\n",
       "      <td>Normal</td>\n",
       "      <td>0.0</td>\n",
       "    </tr>\n",
       "    <tr>\n",
       "      <th>...</th>\n",
       "      <td>...</td>\n",
       "      <td>...</td>\n",
       "      <td>...</td>\n",
       "      <td>...</td>\n",
       "      <td>...</td>\n",
       "      <td>...</td>\n",
       "      <td>...</td>\n",
       "      <td>...</td>\n",
       "      <td>...</td>\n",
       "      <td>...</td>\n",
       "      <td>...</td>\n",
       "      <td>...</td>\n",
       "      <td>...</td>\n",
       "      <td>...</td>\n",
       "      <td>...</td>\n",
       "      <td>...</td>\n",
       "      <td>...</td>\n",
       "      <td>...</td>\n",
       "      <td>...</td>\n",
       "      <td>...</td>\n",
       "      <td>...</td>\n",
       "    </tr>\n",
       "    <tr>\n",
       "      <th>2915</th>\n",
       "      <td>160</td>\n",
       "      <td>RM</td>\n",
       "      <td>21.0</td>\n",
       "      <td>1936</td>\n",
       "      <td>Pave</td>\n",
       "      <td>None</td>\n",
       "      <td>Reg</td>\n",
       "      <td>Lvl</td>\n",
       "      <td>AllPub</td>\n",
       "      <td>Inside</td>\n",
       "      <td>...</td>\n",
       "      <td>0</td>\n",
       "      <td>None</td>\n",
       "      <td>None</td>\n",
       "      <td>None</td>\n",
       "      <td>0</td>\n",
       "      <td>6</td>\n",
       "      <td>2006</td>\n",
       "      <td>WD</td>\n",
       "      <td>Normal</td>\n",
       "      <td>0.0</td>\n",
       "    </tr>\n",
       "    <tr>\n",
       "      <th>2916</th>\n",
       "      <td>160</td>\n",
       "      <td>RM</td>\n",
       "      <td>21.0</td>\n",
       "      <td>1894</td>\n",
       "      <td>Pave</td>\n",
       "      <td>None</td>\n",
       "      <td>Reg</td>\n",
       "      <td>Lvl</td>\n",
       "      <td>AllPub</td>\n",
       "      <td>Inside</td>\n",
       "      <td>...</td>\n",
       "      <td>0</td>\n",
       "      <td>None</td>\n",
       "      <td>None</td>\n",
       "      <td>None</td>\n",
       "      <td>0</td>\n",
       "      <td>4</td>\n",
       "      <td>2006</td>\n",
       "      <td>WD</td>\n",
       "      <td>Abnorml</td>\n",
       "      <td>0.0</td>\n",
       "    </tr>\n",
       "    <tr>\n",
       "      <th>2917</th>\n",
       "      <td>20</td>\n",
       "      <td>RL</td>\n",
       "      <td>160.0</td>\n",
       "      <td>20000</td>\n",
       "      <td>Pave</td>\n",
       "      <td>None</td>\n",
       "      <td>Reg</td>\n",
       "      <td>Lvl</td>\n",
       "      <td>AllPub</td>\n",
       "      <td>Inside</td>\n",
       "      <td>...</td>\n",
       "      <td>0</td>\n",
       "      <td>None</td>\n",
       "      <td>None</td>\n",
       "      <td>None</td>\n",
       "      <td>0</td>\n",
       "      <td>9</td>\n",
       "      <td>2006</td>\n",
       "      <td>WD</td>\n",
       "      <td>Abnorml</td>\n",
       "      <td>0.0</td>\n",
       "    </tr>\n",
       "    <tr>\n",
       "      <th>2918</th>\n",
       "      <td>85</td>\n",
       "      <td>RL</td>\n",
       "      <td>62.0</td>\n",
       "      <td>10441</td>\n",
       "      <td>Pave</td>\n",
       "      <td>None</td>\n",
       "      <td>Reg</td>\n",
       "      <td>Lvl</td>\n",
       "      <td>AllPub</td>\n",
       "      <td>Inside</td>\n",
       "      <td>...</td>\n",
       "      <td>0</td>\n",
       "      <td>None</td>\n",
       "      <td>MnPrv</td>\n",
       "      <td>Shed</td>\n",
       "      <td>700</td>\n",
       "      <td>7</td>\n",
       "      <td>2006</td>\n",
       "      <td>WD</td>\n",
       "      <td>Normal</td>\n",
       "      <td>0.0</td>\n",
       "    </tr>\n",
       "    <tr>\n",
       "      <th>2919</th>\n",
       "      <td>60</td>\n",
       "      <td>RL</td>\n",
       "      <td>74.0</td>\n",
       "      <td>9627</td>\n",
       "      <td>Pave</td>\n",
       "      <td>None</td>\n",
       "      <td>Reg</td>\n",
       "      <td>Lvl</td>\n",
       "      <td>AllPub</td>\n",
       "      <td>Inside</td>\n",
       "      <td>...</td>\n",
       "      <td>0</td>\n",
       "      <td>None</td>\n",
       "      <td>None</td>\n",
       "      <td>None</td>\n",
       "      <td>0</td>\n",
       "      <td>11</td>\n",
       "      <td>2006</td>\n",
       "      <td>WD</td>\n",
       "      <td>Normal</td>\n",
       "      <td>0.0</td>\n",
       "    </tr>\n",
       "  </tbody>\n",
       "</table>\n",
       "<p>1459 rows × 80 columns</p>\n",
       "</div>"
      ],
      "text/plain": [
       "     MSSubClass MSZoning  LotFrontage  LotArea Street Alley LotShape  \\\n",
       "Id                                                                     \n",
       "1461         20       RH         80.0    11622   Pave  None      Reg   \n",
       "1462         20       RL         81.0    14267   Pave  None      IR1   \n",
       "1463         60       RL         74.0    13830   Pave  None      IR1   \n",
       "1464         60       RL         78.0     9978   Pave  None      IR1   \n",
       "1465        120       RL         43.0     5005   Pave  None      IR1   \n",
       "...         ...      ...          ...      ...    ...   ...      ...   \n",
       "2915        160       RM         21.0     1936   Pave  None      Reg   \n",
       "2916        160       RM         21.0     1894   Pave  None      Reg   \n",
       "2917         20       RL        160.0    20000   Pave  None      Reg   \n",
       "2918         85       RL         62.0    10441   Pave  None      Reg   \n",
       "2919         60       RL         74.0     9627   Pave  None      Reg   \n",
       "\n",
       "     LandContour Utilities LotConfig  ... PoolArea PoolQC  Fence MiscFeature  \\\n",
       "Id                                    ...                                      \n",
       "1461         Lvl    AllPub    Inside  ...        0   None  MnPrv        None   \n",
       "1462         Lvl    AllPub    Corner  ...        0   None   None        Gar2   \n",
       "1463         Lvl    AllPub    Inside  ...        0   None  MnPrv        None   \n",
       "1464         Lvl    AllPub    Inside  ...        0   None   None        None   \n",
       "1465         HLS    AllPub    Inside  ...        0   None   None        None   \n",
       "...          ...       ...       ...  ...      ...    ...    ...         ...   \n",
       "2915         Lvl    AllPub    Inside  ...        0   None   None        None   \n",
       "2916         Lvl    AllPub    Inside  ...        0   None   None        None   \n",
       "2917         Lvl    AllPub    Inside  ...        0   None   None        None   \n",
       "2918         Lvl    AllPub    Inside  ...        0   None  MnPrv        Shed   \n",
       "2919         Lvl    AllPub    Inside  ...        0   None   None        None   \n",
       "\n",
       "     MiscVal MoSold YrSold SaleType  SaleCondition  SalePrice  \n",
       "Id                                                             \n",
       "1461       0      6   2010       WD         Normal        0.0  \n",
       "1462   12500      6   2010       WD         Normal        0.0  \n",
       "1463       0      3   2010       WD         Normal        0.0  \n",
       "1464       0      6   2010       WD         Normal        0.0  \n",
       "1465       0      1   2010       WD         Normal        0.0  \n",
       "...      ...    ...    ...      ...            ...        ...  \n",
       "2915       0      6   2006       WD         Normal        0.0  \n",
       "2916       0      4   2006       WD        Abnorml        0.0  \n",
       "2917       0      9   2006       WD        Abnorml        0.0  \n",
       "2918     700      7   2006       WD         Normal        0.0  \n",
       "2919       0     11   2006       WD         Normal        0.0  \n",
       "\n",
       "[1459 rows x 80 columns]"
      ]
     },
     "metadata": {},
     "output_type": "display_data"
    },
    {
     "name": "stdout",
     "output_type": "stream",
     "text": [
      "<class 'pandas.core.frame.DataFrame'>\n",
      "Int64Index: 1460 entries, 1 to 1460\n",
      "Data columns (total 80 columns):\n",
      " #   Column            Non-Null Count  Dtype   \n",
      "---  ------            --------------  -----   \n",
      " 0   MSSubClass        1460 non-null   category\n",
      " 1   MSZoning          1460 non-null   category\n",
      " 2   LotFrontage       1460 non-null   float64 \n",
      " 3   LotArea           1460 non-null   int64   \n",
      " 4   Street            1460 non-null   category\n",
      " 5   Alley             1460 non-null   category\n",
      " 6   LotShape          1460 non-null   category\n",
      " 7   LandContour       1460 non-null   category\n",
      " 8   Utilities         1460 non-null   category\n",
      " 9   LotConfig         1460 non-null   category\n",
      " 10  LandSlope         1460 non-null   category\n",
      " 11  Neighborhood      1460 non-null   category\n",
      " 12  Condition1        1460 non-null   category\n",
      " 13  Condition2        1460 non-null   category\n",
      " 14  BldgType          1460 non-null   category\n",
      " 15  HouseStyle        1460 non-null   category\n",
      " 16  OverallQual       1460 non-null   category\n",
      " 17  OverallCond       1460 non-null   category\n",
      " 18  YearBuilt         1460 non-null   int64   \n",
      " 19  YearRemodAdd      1460 non-null   int64   \n",
      " 20  RoofStyle         1460 non-null   category\n",
      " 21  RoofMatl          1460 non-null   category\n",
      " 22  Exterior1st       1460 non-null   category\n",
      " 23  Exterior2nd       1460 non-null   category\n",
      " 24  MasVnrType        1460 non-null   category\n",
      " 25  MasVnrArea        1460 non-null   float64 \n",
      " 26  ExterQual         1460 non-null   category\n",
      " 27  ExterCond         1460 non-null   category\n",
      " 28  Foundation        1460 non-null   category\n",
      " 29  BsmtQual          1460 non-null   category\n",
      " 30  BsmtCond          1460 non-null   category\n",
      " 31  BsmtExposure      1460 non-null   category\n",
      " 32  BsmtFinType1      1460 non-null   category\n",
      " 33  BsmtFinSF1        1460 non-null   float64 \n",
      " 34  BsmtFinType2      1460 non-null   category\n",
      " 35  BsmtFinSF2        1460 non-null   float64 \n",
      " 36  BsmtUnfSF         1460 non-null   float64 \n",
      " 37  TotalBsmtSF       1460 non-null   float64 \n",
      " 38  Heating           1460 non-null   category\n",
      " 39  HeatingQC         1460 non-null   category\n",
      " 40  CentralAir        1460 non-null   category\n",
      " 41  Electrical        1460 non-null   category\n",
      " 42  FirstFlrSF        1460 non-null   int64   \n",
      " 43  SecondFlrSF       1460 non-null   int64   \n",
      " 44  LowQualFinSF      1460 non-null   int64   \n",
      " 45  GrLivArea         1460 non-null   int64   \n",
      " 46  BsmtFullBath      1460 non-null   float64 \n",
      " 47  BsmtHalfBath      1460 non-null   float64 \n",
      " 48  FullBath          1460 non-null   int64   \n",
      " 49  HalfBath          1460 non-null   int64   \n",
      " 50  BedroomAbvGr      1460 non-null   int64   \n",
      " 51  KitchenAbvGr      1460 non-null   int64   \n",
      " 52  KitchenQual       1460 non-null   category\n",
      " 53  TotRmsAbvGrd      1460 non-null   int64   \n",
      " 54  Functional        1460 non-null   category\n",
      " 55  Fireplaces        1460 non-null   int64   \n",
      " 56  FireplaceQu       1460 non-null   category\n",
      " 57  GarageType        1460 non-null   category\n",
      " 58  GarageYrBlt       1460 non-null   float64 \n",
      " 59  GarageFinish      1460 non-null   category\n",
      " 60  GarageCars        1460 non-null   float64 \n",
      " 61  GarageArea        1460 non-null   float64 \n",
      " 62  GarageQual        1460 non-null   category\n",
      " 63  GarageCond        1460 non-null   category\n",
      " 64  PavedDrive        1460 non-null   category\n",
      " 65  WoodDeckSF        1460 non-null   int64   \n",
      " 66  OpenPorchSF       1460 non-null   int64   \n",
      " 67  EnclosedPorch     1460 non-null   int64   \n",
      " 68  Threeseasonporch  1460 non-null   int64   \n",
      " 69  ScreenPorch       1460 non-null   int64   \n",
      " 70  PoolArea          1460 non-null   int64   \n",
      " 71  PoolQC            1460 non-null   category\n",
      " 72  Fence             1460 non-null   category\n",
      " 73  MiscFeature       1460 non-null   category\n",
      " 74  MiscVal           1460 non-null   int64   \n",
      " 75  MoSold            1460 non-null   int64   \n",
      " 76  YrSold            1460 non-null   int64   \n",
      " 77  SaleType          1460 non-null   category\n",
      " 78  SaleCondition     1460 non-null   category\n",
      " 79  SalePrice         1460 non-null   float64 \n",
      "dtypes: category(46), float64(12), int64(22)\n",
      "memory usage: 478.9 KB\n"
     ]
    },
    {
     "data": {
      "text/plain": [
       "None"
      ]
     },
     "metadata": {},
     "output_type": "display_data"
    },
    {
     "name": "stdout",
     "output_type": "stream",
     "text": [
      "<class 'pandas.core.frame.DataFrame'>\n",
      "Int64Index: 1459 entries, 1461 to 2919\n",
      "Data columns (total 80 columns):\n",
      " #   Column            Non-Null Count  Dtype   \n",
      "---  ------            --------------  -----   \n",
      " 0   MSSubClass        1459 non-null   category\n",
      " 1   MSZoning          1459 non-null   category\n",
      " 2   LotFrontage       1459 non-null   float64 \n",
      " 3   LotArea           1459 non-null   int64   \n",
      " 4   Street            1459 non-null   category\n",
      " 5   Alley             1459 non-null   category\n",
      " 6   LotShape          1459 non-null   category\n",
      " 7   LandContour       1459 non-null   category\n",
      " 8   Utilities         1459 non-null   category\n",
      " 9   LotConfig         1459 non-null   category\n",
      " 10  LandSlope         1459 non-null   category\n",
      " 11  Neighborhood      1459 non-null   category\n",
      " 12  Condition1        1459 non-null   category\n",
      " 13  Condition2        1459 non-null   category\n",
      " 14  BldgType          1459 non-null   category\n",
      " 15  HouseStyle        1459 non-null   category\n",
      " 16  OverallQual       1459 non-null   category\n",
      " 17  OverallCond       1459 non-null   category\n",
      " 18  YearBuilt         1459 non-null   int64   \n",
      " 19  YearRemodAdd      1459 non-null   int64   \n",
      " 20  RoofStyle         1459 non-null   category\n",
      " 21  RoofMatl          1459 non-null   category\n",
      " 22  Exterior1st       1459 non-null   category\n",
      " 23  Exterior2nd       1459 non-null   category\n",
      " 24  MasVnrType        1459 non-null   category\n",
      " 25  MasVnrArea        1459 non-null   float64 \n",
      " 26  ExterQual         1459 non-null   category\n",
      " 27  ExterCond         1459 non-null   category\n",
      " 28  Foundation        1459 non-null   category\n",
      " 29  BsmtQual          1459 non-null   category\n",
      " 30  BsmtCond          1459 non-null   category\n",
      " 31  BsmtExposure      1459 non-null   category\n",
      " 32  BsmtFinType1      1459 non-null   category\n",
      " 33  BsmtFinSF1        1459 non-null   float64 \n",
      " 34  BsmtFinType2      1459 non-null   category\n",
      " 35  BsmtFinSF2        1459 non-null   float64 \n",
      " 36  BsmtUnfSF         1459 non-null   float64 \n",
      " 37  TotalBsmtSF       1459 non-null   float64 \n",
      " 38  Heating           1459 non-null   category\n",
      " 39  HeatingQC         1459 non-null   category\n",
      " 40  CentralAir        1459 non-null   category\n",
      " 41  Electrical        1459 non-null   category\n",
      " 42  FirstFlrSF        1459 non-null   int64   \n",
      " 43  SecondFlrSF       1459 non-null   int64   \n",
      " 44  LowQualFinSF      1459 non-null   int64   \n",
      " 45  GrLivArea         1459 non-null   int64   \n",
      " 46  BsmtFullBath      1459 non-null   float64 \n",
      " 47  BsmtHalfBath      1459 non-null   float64 \n",
      " 48  FullBath          1459 non-null   int64   \n",
      " 49  HalfBath          1459 non-null   int64   \n",
      " 50  BedroomAbvGr      1459 non-null   int64   \n",
      " 51  KitchenAbvGr      1459 non-null   int64   \n",
      " 52  KitchenQual       1459 non-null   category\n",
      " 53  TotRmsAbvGrd      1459 non-null   int64   \n",
      " 54  Functional        1459 non-null   category\n",
      " 55  Fireplaces        1459 non-null   int64   \n",
      " 56  FireplaceQu       1459 non-null   category\n",
      " 57  GarageType        1459 non-null   category\n",
      " 58  GarageYrBlt       1459 non-null   float64 \n",
      " 59  GarageFinish      1459 non-null   category\n",
      " 60  GarageCars        1459 non-null   float64 \n",
      " 61  GarageArea        1459 non-null   float64 \n",
      " 62  GarageQual        1459 non-null   category\n",
      " 63  GarageCond        1459 non-null   category\n",
      " 64  PavedDrive        1459 non-null   category\n",
      " 65  WoodDeckSF        1459 non-null   int64   \n",
      " 66  OpenPorchSF       1459 non-null   int64   \n",
      " 67  EnclosedPorch     1459 non-null   int64   \n",
      " 68  Threeseasonporch  1459 non-null   int64   \n",
      " 69  ScreenPorch       1459 non-null   int64   \n",
      " 70  PoolArea          1459 non-null   int64   \n",
      " 71  PoolQC            1459 non-null   category\n",
      " 72  Fence             1459 non-null   category\n",
      " 73  MiscFeature       1459 non-null   category\n",
      " 74  MiscVal           1459 non-null   int64   \n",
      " 75  MoSold            1459 non-null   int64   \n",
      " 76  YrSold            1459 non-null   int64   \n",
      " 77  SaleType          1459 non-null   category\n",
      " 78  SaleCondition     1459 non-null   category\n",
      " 79  SalePrice         1459 non-null   float64 \n",
      "dtypes: category(46), float64(12), int64(22)\n",
      "memory usage: 478.6 KB\n"
     ]
    },
    {
     "data": {
      "text/plain": [
       "None"
      ]
     },
     "metadata": {},
     "output_type": "display_data"
    }
   ],
   "source": [
    "# Peek at the values\n",
    "display(df_train)\n",
    "display(df_test)\n",
    "\n",
    "# Display information about dtypes and missing values\n",
    "display(df_train.info())\n",
    "display(df_test.info())"
   ]
  },
  {
   "cell_type": "markdown",
   "id": "1353f8f6",
   "metadata": {
    "papermill": {
     "duration": 0.029839,
     "end_time": "2022-07-14T14:36:41.842182",
     "exception": false,
     "start_time": "2022-07-14T14:36:41.812343",
     "status": "completed"
    },
    "tags": []
   },
   "source": [
    "## Establish Baseline ##\n",
    "\n",
    "Finally, let's establish a baseline score to judge our feature engineering against.\n",
    "\n",
    "Here is the function we created in Lesson 1 that will compute the cross-validated RMSLE score for a feature set. We've used XGBoost for our model, but you might want to experiment with other models.\n"
   ]
  },
  {
   "cell_type": "code",
   "execution_count": 10,
   "id": "833c6c7c",
   "metadata": {
    "_kg_hide-input": true,
    "execution": {
     "iopub.execute_input": "2022-07-14T14:36:41.900562Z",
     "iopub.status.busy": "2022-07-14T14:36:41.900131Z",
     "iopub.status.idle": "2022-07-14T14:36:41.909300Z",
     "shell.execute_reply": "2022-07-14T14:36:41.908054Z"
    },
    "papermill": {
     "duration": 0.041107,
     "end_time": "2022-07-14T14:36:41.911659",
     "exception": false,
     "start_time": "2022-07-14T14:36:41.870552",
     "status": "completed"
    },
    "tags": []
   },
   "outputs": [],
   "source": [
    "# from sklearn.ensemble import RandomForestRegressor\n",
    "\n",
    "# from sklearn.preprocessing import OneHotEncoder\n",
    "\n",
    "\n",
    "#def score_dataset(X, y, model=RandomForestRegressor(random_state = 0)):\n",
    "def score_dataset(X, y, model=XGBRegressor()):\n",
    "    # Label encoding for categoricals\n",
    "    #\n",
    "    # Label encoding is good for XGBoost and RandomForest, but one-hot\n",
    "    # would be better for models like Lasso or Ridge. The `cat.codes`\n",
    "    # attribute holds the category levels.\n",
    "    \n",
    "    # I tried one-hot encoding for the RandomForest model \n",
    "    # for low-cardinality features.\n",
    "    # low_cardinality_cols = [cname for cname in X.columns if \n",
    "    #                          X[cname].nunique() < 10 and\n",
    "     #                         cname in X.select_dtypes([\"category\"])]\n",
    "    #high_cardinality_cols = [cname for cname in X.columns if \n",
    "#                               X[cname].nunique() >= 10 and\n",
    "#                               cname in X.select_dtypes([\"category\"])]\n",
    "    \n",
    "    # one-hot encoding using pd.get_dummies\n",
    "    #one_hot_encoded_cols = pd.get_dummies(X[low_cardinality_cols])\n",
    "    \n",
    "    # one-hot encoding using OneHotEncoder\n",
    "    #OH_encoder = OneHotEncoder(handle_unknown='ignore', sparse=False)\n",
    "    #OH_cols = pd.DataFrame(OH_encoder.fit_transform(X[low_cardinality_cols]))\n",
    "    \n",
    "    # One-hot encoding removed index; put it back\n",
    "    #OH_cols.index = X.index\n",
    "    \n",
    "    # Remove categorical columns (will replace with one-hot encoding)\n",
    "    #num_X = X.drop(low_cardinality_cols, axis=1)\n",
    "    \n",
    "    # Add one-hot encoded columns to numerical features\n",
    "    #X = pd.concat([num_X, OH_cols], axis=1)\n",
    "    \n",
    "    #for colname in X[high_cardinality_cols]:\n",
    "     #     X[colname] = X[colname].cat.codes\n",
    "    #X.drop(low_cardinality_cols, inplace = True, axis = 1)\n",
    "    #X = pd.concat([X, one_hot_encoded_cols], axis = 1)\n",
    "    for colname in X.select_dtypes([\"category\"]):\n",
    "        X[colname] = X[colname].cat.codes\n",
    "    # Metric for Housing competition is RMSLE (Root Mean Squared Log Error)\n",
    "    log_y = np.log(y)\n",
    "    score = cross_val_score(\n",
    "        model, X, log_y, cv=5, scoring=\"neg_mean_squared_error\",\n",
    "    )\n",
    "    score = -1 * score.mean()\n",
    "    score = np.sqrt(score)\n",
    "    return score\n"
   ]
  },
  {
   "cell_type": "markdown",
   "id": "e0a0f5ea",
   "metadata": {
    "papermill": {
     "duration": 0.028663,
     "end_time": "2022-07-14T14:36:41.970378",
     "exception": false,
     "start_time": "2022-07-14T14:36:41.941715",
     "status": "completed"
    },
    "tags": []
   },
   "source": [
    "I tried one-hot encoding for low-cardinality columns for the **Lasso** and **Ridge** models. The code below is commented, as these models yielded higher RMSLE scores in comparison with RandomForest, see RMSLE table below."
   ]
  },
  {
   "cell_type": "code",
   "execution_count": 11,
   "id": "90a311c9",
   "metadata": {
    "execution": {
     "iopub.execute_input": "2022-07-14T14:36:42.031894Z",
     "iopub.status.busy": "2022-07-14T14:36:42.031493Z",
     "iopub.status.idle": "2022-07-14T14:36:42.038312Z",
     "shell.execute_reply": "2022-07-14T14:36:42.037377Z"
    },
    "papermill": {
     "duration": 0.041625,
     "end_time": "2022-07-14T14:36:42.040659",
     "exception": false,
     "start_time": "2022-07-14T14:36:41.999034",
     "status": "completed"
    },
    "tags": []
   },
   "outputs": [],
   "source": [
    "# This cell is commented and was previously used for running \n",
    "# the Lasso and Ridge models.\n",
    "\n",
    "# from sklearn.linear_model import Lasso\n",
    "# from sklearn.linear_model import Ridge\n",
    "# from sklearn.preprocessing import OneHotEncoder\n",
    "\n",
    "# This function uses the Ridge model, and adds one-hot encoding\n",
    "# for low-cardinality columns.\n",
    "\n",
    "#def score_dataset(X, y, model=Ridge()):\n",
    "    # Label encoding for categoricals\n",
    "    #\n",
    "    # Label encoding is good for XGBoost and RandomForest, but one-hot\n",
    "    # would be better for models like Lasso or Ridge. The `cat.codes`\n",
    "    # attribute holds the category levels.\n",
    "   # low_cardinality_cols = [cname for cname in X.columns if \n",
    "    #                           X[cname].nunique() < 10 and\n",
    "     #                          cname in X.select_dtypes([\"category\"])]\n",
    "    #high_cardinality_cols = [cname for cname in X.columns if \n",
    "     #                          X[cname].nunique() >= 10 and\n",
    "      #                         cname in X.select_dtypes([\"category\"])]\n",
    "    \n",
    "    # one-hot encoding using pd.get_dummies\n",
    "    #one_hot_encoded_cols = pd.get_dummies(X[low_cardinality_cols])\n",
    "    \n",
    "    # one-hot encoding using OneHotEncoder\n",
    "    #OH_encoder = OneHotEncoder(handle_unknown='ignore', sparse=False)\n",
    "    #OH_cols = pd.DataFrame(OH_encoder.fit_transform(X[low_cardinality_cols]))\n",
    "    \n",
    "    # One-hot encoding removed index; put it back\n",
    "    #OH_cols.index = X.index\n",
    "    \n",
    "    # Remove categorical columns (will replace with one-hot encoding)\n",
    "    #num_X = X.drop(low_cardinality_cols, axis=1)\n",
    "    \n",
    "    # Add one-hot encoded columns to numerical features\n",
    "    #X = pd.concat([num_X, OH_cols], axis=1)\n",
    "    \n",
    "    #for colname in X[high_cardinality_cols]:\n",
    "     #      X[colname] = X[colname].cat.codes\n",
    "    #X.drop(low_cardinality_cols, inplace = True, axis = 1)\n",
    "    #X = pd.concat([X, one_hot_encoded_cols], axis = 1)\n",
    "    # Metric for Housing competition is RMSLE (Root Mean Squared Log Error)\n",
    "    #log_y = np.log(y)\n",
    "    #score = cross_val_score(\n",
    "     #  model, X, log_y, cv=5, scoring=\"neg_mean_squared_error\",\n",
    "    #)\n",
    "    #score = -1 * score.mean()\n",
    "    #score = np.sqrt(score)\n",
    "    #return score"
   ]
  },
  {
   "cell_type": "markdown",
   "id": "5b487a29",
   "metadata": {
    "papermill": {
     "duration": 0.029301,
     "end_time": "2022-07-14T14:36:42.099981",
     "exception": false,
     "start_time": "2022-07-14T14:36:42.070680",
     "status": "completed"
    },
    "tags": []
   },
   "source": [
    "**Please note**: I tried both `pd.get_dummies` and `OneHotEncoder` in order to perform one-hot encoding for Ridge and Lasso models. Those two methods of one-hot encoding acheived exactly the same RMSLE for these two models, the RMSLE for these two models is shown in the RMSLE table displayed below."
   ]
  },
  {
   "cell_type": "markdown",
   "id": "1b92efd1",
   "metadata": {
    "papermill": {
     "duration": 0.029605,
     "end_time": "2022-07-14T14:36:42.159127",
     "exception": false,
     "start_time": "2022-07-14T14:36:42.129522",
     "status": "completed"
    },
    "tags": []
   },
   "source": [
    "We can reuse this scoring function anytime we want to try out a new feature set. We'll run it now on the processed data with no additional features and get a baseline score:"
   ]
  },
  {
   "cell_type": "code",
   "execution_count": 12,
   "id": "ab2cc320",
   "metadata": {
    "execution": {
     "iopub.execute_input": "2022-07-14T14:36:42.219651Z",
     "iopub.status.busy": "2022-07-14T14:36:42.218935Z",
     "iopub.status.idle": "2022-07-14T14:36:46.339942Z",
     "shell.execute_reply": "2022-07-14T14:36:46.338846Z"
    },
    "papermill": {
     "duration": 4.155032,
     "end_time": "2022-07-14T14:36:46.342551",
     "exception": false,
     "start_time": "2022-07-14T14:36:42.187519",
     "status": "completed"
    },
    "tags": []
   },
   "outputs": [
    {
     "name": "stdout",
     "output_type": "stream",
     "text": [
      "Baseline score: 0.14351 RMSLE\n"
     ]
    }
   ],
   "source": [
    "X = df_train.copy()\n",
    "y = X.pop(\"SalePrice\")\n",
    "\n",
    "baseline_score = score_dataset(X, y)\n",
    "print(f\"Baseline score: {baseline_score:.5f} RMSLE\")"
   ]
  },
  {
   "cell_type": "markdown",
   "id": "e2d10076",
   "metadata": {
    "papermill": {
     "duration": 0.02987,
     "end_time": "2022-07-14T14:36:46.401765",
     "exception": false,
     "start_time": "2022-07-14T14:36:46.371895",
     "status": "completed"
    },
    "tags": []
   },
   "source": [
    "RMSLE scores acheived with different models for the baseline model, ordered from lowest to highest RMSLE, are displayed below. \n",
    "  \n",
    "**Please note**: For reproducibility reasons, `random_state = 0` was used for all models based on the `RandomForestRegressor`."
   ]
  },
  {
   "cell_type": "markdown",
   "id": "154bea28",
   "metadata": {
    "papermill": {
     "duration": 0.027856,
     "end_time": "2022-07-14T14:36:46.459668",
     "exception": false,
     "start_time": "2022-07-14T14:36:46.431812",
     "status": "completed"
    },
    "tags": []
   },
   "source": [
    "## **RMSLE Table**"
   ]
  },
  {
   "cell_type": "code",
   "execution_count": 13,
   "id": "9a46491a",
   "metadata": {
    "execution": {
     "iopub.execute_input": "2022-07-14T14:36:46.520106Z",
     "iopub.status.busy": "2022-07-14T14:36:46.519661Z",
     "iopub.status.idle": "2022-07-14T14:36:46.539207Z",
     "shell.execute_reply": "2022-07-14T14:36:46.537990Z"
    },
    "papermill": {
     "duration": 0.053069,
     "end_time": "2022-07-14T14:36:46.542391",
     "exception": false,
     "start_time": "2022-07-14T14:36:46.489322",
     "status": "completed"
    },
    "tags": []
   },
   "outputs": [
    {
     "data": {
      "text/html": [
       "<div>\n",
       "<style scoped>\n",
       "    .dataframe tbody tr th:only-of-type {\n",
       "        vertical-align: middle;\n",
       "    }\n",
       "\n",
       "    .dataframe tbody tr th {\n",
       "        vertical-align: top;\n",
       "    }\n",
       "\n",
       "    .dataframe thead th {\n",
       "        text-align: right;\n",
       "    }\n",
       "</style>\n",
       "<table border=\"1\" class=\"dataframe\">\n",
       "  <thead>\n",
       "    <tr style=\"text-align: right;\">\n",
       "      <th></th>\n",
       "      <th>Model</th>\n",
       "      <th>Missing values indicators</th>\n",
       "      <th>One-hot encoding</th>\n",
       "      <th>RMSLE</th>\n",
       "    </tr>\n",
       "  </thead>\n",
       "  <tbody>\n",
       "    <tr>\n",
       "      <th>6</th>\n",
       "      <td>RandomForest</td>\n",
       "      <td>Numerical</td>\n",
       "      <td>No</td>\n",
       "      <td>0.13897</td>\n",
       "    </tr>\n",
       "    <tr>\n",
       "      <th>7</th>\n",
       "      <td>RandomForest</td>\n",
       "      <td>Categorical and Numerical</td>\n",
       "      <td>No</td>\n",
       "      <td>0.13950</td>\n",
       "    </tr>\n",
       "    <tr>\n",
       "      <th>4</th>\n",
       "      <td>RandomForest</td>\n",
       "      <td>None</td>\n",
       "      <td>No</td>\n",
       "      <td>0.13997</td>\n",
       "    </tr>\n",
       "    <tr>\n",
       "      <th>5</th>\n",
       "      <td>RandomForest</td>\n",
       "      <td>Categorical</td>\n",
       "      <td>No</td>\n",
       "      <td>0.14022</td>\n",
       "    </tr>\n",
       "    <tr>\n",
       "      <th>8</th>\n",
       "      <td>RandomForest</td>\n",
       "      <td>None</td>\n",
       "      <td>Yes</td>\n",
       "      <td>0.14158</td>\n",
       "    </tr>\n",
       "    <tr>\n",
       "      <th>9</th>\n",
       "      <td>RandomForest</td>\n",
       "      <td>Numerical</td>\n",
       "      <td>Yes</td>\n",
       "      <td>0.14220</td>\n",
       "    </tr>\n",
       "    <tr>\n",
       "      <th>0</th>\n",
       "      <td>XGBoost</td>\n",
       "      <td>None</td>\n",
       "      <td>No</td>\n",
       "      <td>0.14351</td>\n",
       "    </tr>\n",
       "    <tr>\n",
       "      <th>1</th>\n",
       "      <td>XGBoost</td>\n",
       "      <td>Categorical</td>\n",
       "      <td>No</td>\n",
       "      <td>0.14362</td>\n",
       "    </tr>\n",
       "    <tr>\n",
       "      <th>3</th>\n",
       "      <td>XGBoost</td>\n",
       "      <td>Categorical and Numerical</td>\n",
       "      <td>No</td>\n",
       "      <td>0.14401</td>\n",
       "    </tr>\n",
       "    <tr>\n",
       "      <th>2</th>\n",
       "      <td>XGBoost</td>\n",
       "      <td>Numerical</td>\n",
       "      <td>No</td>\n",
       "      <td>0.14414</td>\n",
       "    </tr>\n",
       "    <tr>\n",
       "      <th>11</th>\n",
       "      <td>Ridge</td>\n",
       "      <td>None</td>\n",
       "      <td>Yes</td>\n",
       "      <td>0.15413</td>\n",
       "    </tr>\n",
       "    <tr>\n",
       "      <th>10</th>\n",
       "      <td>Lasso</td>\n",
       "      <td>None</td>\n",
       "      <td>Yes</td>\n",
       "      <td>0.20100</td>\n",
       "    </tr>\n",
       "  </tbody>\n",
       "</table>\n",
       "</div>"
      ],
      "text/plain": [
       "           Model  Missing values indicators One-hot encoding    RMSLE\n",
       "6   RandomForest                  Numerical               No  0.13897\n",
       "7   RandomForest  Categorical and Numerical               No  0.13950\n",
       "4   RandomForest                       None               No  0.13997\n",
       "5   RandomForest                Categorical               No  0.14022\n",
       "8   RandomForest                       None              Yes  0.14158\n",
       "9   RandomForest                  Numerical              Yes  0.14220\n",
       "0        XGBoost                       None               No  0.14351\n",
       "1        XGBoost                Categorical               No  0.14362\n",
       "3        XGBoost  Categorical and Numerical               No  0.14401\n",
       "2        XGBoost                  Numerical               No  0.14414\n",
       "11         Ridge                       None              Yes  0.15413\n",
       "10         Lasso                       None              Yes  0.20100"
      ]
     },
     "metadata": {},
     "output_type": "display_data"
    }
   ],
   "source": [
    "d = {'Model': ['XGBoost', 'XGBoost', 'XGBoost', 'XGBoost',\\\n",
    "               'RandomForest', 'RandomForest', 'RandomForest', 'RandomForest',\\\n",
    "               'RandomForest', 'RandomForest',\\\n",
    "               'Lasso', 'Ridge'],\\\n",
    "     'Missing values indicators': ['None', 'Categorical', 'Numerical',\\\n",
    "                                  'Categorical and Numerical', 'None', 'Categorical', 'Numerical',\\\n",
    "                                  'Categorical and Numerical', 'None',\\\n",
    "                                   'Numerical', 'None', 'None'],\\\n",
    "     'One-hot encoding': ['No', 'No', 'No', 'No', 'No', 'No',\\\n",
    "                         'No', 'No', 'Yes', 'Yes', 'Yes', 'Yes'], 'RMSLE': \\\n",
    "    [0.14351, 0.14362, 0.14414, 0.14401, 0.13997,\\\n",
    "    0.14022, 0.13897, 0.13950, 0.14158, 0.14220, \\\n",
    "    0.20100, 0.15413]}\n",
    "df1 = pd.DataFrame(d)\n",
    "display(df1.sort_values(by = 'RMSLE'))"
   ]
  },
  {
   "cell_type": "markdown",
   "id": "5f09d075",
   "metadata": {
    "papermill": {
     "duration": 0.03029,
     "end_time": "2022-07-14T14:36:46.603998",
     "exception": false,
     "start_time": "2022-07-14T14:36:46.573708",
     "status": "completed"
    },
    "tags": []
   },
   "source": [
    "The lowest RMSLE for the baseline model, 0.13897, was acheived with the RandomForestRegressor, with missing values indicators used for numerical features only, and without one-hot encoding."
   ]
  },
  {
   "cell_type": "markdown",
   "id": "b3bf906e",
   "metadata": {
    "papermill": {
     "duration": 0.02813,
     "end_time": "2022-07-14T14:36:46.660858",
     "exception": false,
     "start_time": "2022-07-14T14:36:46.632728",
     "status": "completed"
    },
    "tags": []
   },
   "source": [
    "This baseline score helps us to know whether some set of features we've assembled has actually led to any improvement or not.\n",
    "\n",
    "# Step 2 - Feature Utility Scores #\n",
    "\n",
    "In Lesson 2 we saw how to use mutual information to compute a *utility score* for a feature, giving you an indication of how much potential the feature has. This hidden cell defines the two utility functions we used, `make_mi_scores` and `plot_mi_scores`: "
   ]
  },
  {
   "cell_type": "code",
   "execution_count": 14,
   "id": "c7628bab",
   "metadata": {
    "_kg_hide-input": true,
    "execution": {
     "iopub.execute_input": "2022-07-14T14:36:46.720455Z",
     "iopub.status.busy": "2022-07-14T14:36:46.719413Z",
     "iopub.status.idle": "2022-07-14T14:36:46.730568Z",
     "shell.execute_reply": "2022-07-14T14:36:46.728784Z"
    },
    "papermill": {
     "duration": 0.043647,
     "end_time": "2022-07-14T14:36:46.733212",
     "exception": false,
     "start_time": "2022-07-14T14:36:46.689565",
     "status": "completed"
    },
    "tags": []
   },
   "outputs": [],
   "source": [
    "\n",
    "def make_mi_scores(X, y):\n",
    "    X = X.copy()\n",
    "    for colname in X.select_dtypes([\"object\", \"category\"]):\n",
    "        X[colname], _ = X[colname].factorize()\n",
    "    # All discrete features should now have integer dtypes\n",
    "    discrete_features = [pd.api.types.is_integer_dtype(t) for t in X.dtypes]\n",
    "    mi_scores = mutual_info_regression(X, y, discrete_features=discrete_features, random_state=0)\n",
    "    mi_scores = pd.Series(mi_scores, name=\"MI Scores\", index=X.columns)\n",
    "    mi_scores = mi_scores.sort_values(ascending=False)\n",
    "    return mi_scores\n",
    "\n",
    "\n",
    "def plot_mi_scores(scores):\n",
    "    scores = scores.sort_values(ascending=True)\n",
    "    width = np.arange(len(scores))\n",
    "    ticks = list(scores.index)\n",
    "    plt.barh(width, scores)\n",
    "    plt.yticks(width, ticks)\n",
    "    plt.title(\"Mutual Information Scores\")"
   ]
  },
  {
   "cell_type": "markdown",
   "id": "6859d760",
   "metadata": {
    "papermill": {
     "duration": 0.029706,
     "end_time": "2022-07-14T14:36:46.792855",
     "exception": false,
     "start_time": "2022-07-14T14:36:46.763149",
     "status": "completed"
    },
    "tags": []
   },
   "source": [
    "Let's look at our feature scores again:"
   ]
  },
  {
   "cell_type": "code",
   "execution_count": 15,
   "id": "1e9b6405",
   "metadata": {
    "execution": {
     "iopub.execute_input": "2022-07-14T14:36:46.851908Z",
     "iopub.status.busy": "2022-07-14T14:36:46.851488Z",
     "iopub.status.idle": "2022-07-14T14:36:48.517002Z",
     "shell.execute_reply": "2022-07-14T14:36:48.515557Z"
    },
    "papermill": {
     "duration": 1.698289,
     "end_time": "2022-07-14T14:36:48.519609",
     "exception": false,
     "start_time": "2022-07-14T14:36:46.821320",
     "status": "completed"
    },
    "tags": []
   },
   "outputs": [
    {
     "data": {
      "text/plain": [
       "OverallQual     0.571457\n",
       "Neighborhood    0.526220\n",
       "GrLivArea       0.430395\n",
       "YearBuilt       0.407974\n",
       "LotArea         0.394468\n",
       "                  ...   \n",
       "PoolQC          0.000000\n",
       "MiscFeature     0.000000\n",
       "MiscVal         0.000000\n",
       "MoSold          0.000000\n",
       "YrSold          0.000000\n",
       "Name: MI Scores, Length: 79, dtype: float64"
      ]
     },
     "execution_count": 15,
     "metadata": {},
     "output_type": "execute_result"
    }
   ],
   "source": [
    "X = df_train.copy()\n",
    "y = X.pop(\"SalePrice\")\n",
    "\n",
    "mi_scores = make_mi_scores(X, y)\n",
    "mi_scores"
   ]
  },
  {
   "cell_type": "markdown",
   "id": "6001c2bf",
   "metadata": {
    "papermill": {
     "duration": 0.030726,
     "end_time": "2022-07-14T14:36:48.579952",
     "exception": false,
     "start_time": "2022-07-14T14:36:48.549226",
     "status": "completed"
    },
    "tags": []
   },
   "source": [
    "You can see that we have a number of features that are highly informative and also some that don't seem to be informative at all (at least by themselves). As we talked about in Tutorial 2, the top scoring features will usually pay-off the most during feature development, so it could be a good idea to focus your efforts on those. On the other hand, training on uninformative features can lead to overfitting. So, the features with 0.0 scores we'll drop entirely:"
   ]
  },
  {
   "cell_type": "code",
   "execution_count": 16,
   "id": "676de84e",
   "metadata": {
    "execution": {
     "iopub.execute_input": "2022-07-14T14:36:48.642510Z",
     "iopub.status.busy": "2022-07-14T14:36:48.642078Z",
     "iopub.status.idle": "2022-07-14T14:36:48.647412Z",
     "shell.execute_reply": "2022-07-14T14:36:48.646181Z"
    },
    "papermill": {
     "duration": 0.040116,
     "end_time": "2022-07-14T14:36:48.650181",
     "exception": false,
     "start_time": "2022-07-14T14:36:48.610065",
     "status": "completed"
    },
    "tags": []
   },
   "outputs": [],
   "source": [
    "def drop_uninformative(df, mi_scores):\n",
    "    return df.loc[:, mi_scores > 0.0]\n"
   ]
  },
  {
   "cell_type": "markdown",
   "id": "0335ce5c",
   "metadata": {
    "papermill": {
     "duration": 0.029062,
     "end_time": "2022-07-14T14:36:48.708293",
     "exception": false,
     "start_time": "2022-07-14T14:36:48.679231",
     "status": "completed"
    },
    "tags": []
   },
   "source": [
    "Removing them does lead to a modest performance gain:"
   ]
  },
  {
   "cell_type": "code",
   "execution_count": 17,
   "id": "4c3eed93",
   "metadata": {
    "execution": {
     "iopub.execute_input": "2022-07-14T14:36:48.771546Z",
     "iopub.status.busy": "2022-07-14T14:36:48.771075Z",
     "iopub.status.idle": "2022-07-14T14:36:51.831524Z",
     "shell.execute_reply": "2022-07-14T14:36:51.830455Z"
    },
    "papermill": {
     "duration": 3.09664,
     "end_time": "2022-07-14T14:36:51.834290",
     "exception": false,
     "start_time": "2022-07-14T14:36:48.737650",
     "status": "completed"
    },
    "tags": []
   },
   "outputs": [
    {
     "data": {
      "text/plain": [
       "0.14338026718687277"
      ]
     },
     "execution_count": 17,
     "metadata": {},
     "output_type": "execute_result"
    }
   ],
   "source": [
    "X = df_train.copy()\n",
    "y = X.pop(\"SalePrice\")\n",
    "X = drop_uninformative(X, mi_scores)\n",
    "\n",
    "score_dataset(X, y)"
   ]
  },
  {
   "cell_type": "markdown",
   "id": "95f05505",
   "metadata": {
    "papermill": {
     "duration": 0.028482,
     "end_time": "2022-07-14T14:36:51.892656",
     "exception": false,
     "start_time": "2022-07-14T14:36:51.864174",
     "status": "completed"
    },
    "tags": []
   },
   "source": [
    "Later, we'll add the `drop_uninformative` function to our feature-creation pipeline.\n",
    "\n",
    "# Step 3 - Create Features #\n",
    "\n",
    "Now we'll start developing our feature set.\n",
    "\n",
    "To make our feature engineering workflow more modular, we'll define a function that will take a prepared dataframe and pass it through a pipeline of transformations to get the final feature set. It will look something like this:\n",
    "\n",
    "```\n",
    "def create_features(df):\n",
    "    X = df.copy()\n",
    "    y = X.pop(\"SalePrice\")\n",
    "    X = X.join(create_features_1(X))\n",
    "    X = X.join(create_features_2(X))\n",
    "    X = X.join(create_features_3(X))\n",
    "    # ...\n",
    "    return X\n",
    "```\n",
    "\n",
    "Let's go ahead and define one transformation now, a [label encoding](https://www.kaggle.com/alexisbcook/categorical-variables) for the categorical features:"
   ]
  },
  {
   "cell_type": "code",
   "execution_count": 18,
   "id": "318f1a0a",
   "metadata": {
    "execution": {
     "iopub.execute_input": "2022-07-14T14:36:51.951714Z",
     "iopub.status.busy": "2022-07-14T14:36:51.951318Z",
     "iopub.status.idle": "2022-07-14T14:36:51.956230Z",
     "shell.execute_reply": "2022-07-14T14:36:51.955459Z"
    },
    "papermill": {
     "duration": 0.037059,
     "end_time": "2022-07-14T14:36:51.958466",
     "exception": false,
     "start_time": "2022-07-14T14:36:51.921407",
     "status": "completed"
    },
    "tags": []
   },
   "outputs": [],
   "source": [
    "def label_encode(df):\n",
    "    X = df.copy()\n",
    "    for colname in X.select_dtypes([\"category\"]):\n",
    "        X[colname] = X[colname].cat.codes\n",
    "    return X\n"
   ]
  },
  {
   "cell_type": "markdown",
   "id": "4955f6d1",
   "metadata": {
    "papermill": {
     "duration": 0.029916,
     "end_time": "2022-07-14T14:36:52.017713",
     "exception": false,
     "start_time": "2022-07-14T14:36:51.987797",
     "status": "completed"
    },
    "tags": []
   },
   "source": [
    "A label encoding is okay for any kind of categorical feature when you're using a tree-ensemble like XGBoost, even for unordered categories. If you wanted to try a linear regression model (also popular in this competition), you would instead want to use a one-hot encoding, especially for the features with unordered categories.\n",
    "\n",
    "## Create Features with Pandas ##\n",
    "\n",
    "This cell reproduces the work you did in Exercise 3, where you applied strategies for creating features in Pandas. Modify or add to these functions to try out other feature combinations."
   ]
  },
  {
   "cell_type": "markdown",
   "id": "4f77fefa",
   "metadata": {
    "papermill": {
     "duration": 0.030122,
     "end_time": "2022-07-14T14:36:52.078137",
     "exception": false,
     "start_time": "2022-07-14T14:36:52.048015",
     "status": "completed"
    },
    "tags": []
   },
   "source": [
    "**Histograms** for some of the features are presented below, in order to observe the distirbution pattern of these features."
   ]
  },
  {
   "cell_type": "code",
   "execution_count": 19,
   "id": "211acab5",
   "metadata": {
    "execution": {
     "iopub.execute_input": "2022-07-14T14:36:52.139044Z",
     "iopub.status.busy": "2022-07-14T14:36:52.138289Z",
     "iopub.status.idle": "2022-07-14T14:36:52.449562Z",
     "shell.execute_reply": "2022-07-14T14:36:52.448443Z"
    },
    "papermill": {
     "duration": 0.344294,
     "end_time": "2022-07-14T14:36:52.452015",
     "exception": false,
     "start_time": "2022-07-14T14:36:52.107721",
     "status": "completed"
    },
    "tags": []
   },
   "outputs": [
    {
     "data": {
      "text/plain": [
       "<AxesSubplot:>"
      ]
     },
     "execution_count": 19,
     "metadata": {},
     "output_type": "execute_result"
    },
    {
     "data": {
      "image/png": "[encoded data removed]",
      "text/plain": [
       "<Figure size 432x288 with 1 Axes>"
      ]
     },
     "metadata": {},
     "output_type": "display_data"
    }
   ],
   "source": [
    "df_train.MasVnrArea.hist()"
   ]
  },
  {
   "cell_type": "code",
   "execution_count": 20,
   "id": "21322440",
   "metadata": {
    "execution": {
     "iopub.execute_input": "2022-07-14T14:36:52.512332Z",
     "iopub.status.busy": "2022-07-14T14:36:52.511911Z",
     "iopub.status.idle": "2022-07-14T14:36:52.747465Z",
     "shell.execute_reply": "2022-07-14T14:36:52.746238Z"
    },
    "papermill": {
     "duration": 0.269114,
     "end_time": "2022-07-14T14:36:52.750269",
     "exception": false,
     "start_time": "2022-07-14T14:36:52.481155",
     "status": "completed"
    },
    "tags": []
   },
   "outputs": [
    {
     "data": {
      "text/plain": [
       "(array([919., 417., 114.,   8.,   1.,   0.,   0.,   0.,   0.,   1.]),\n",
       " array([   0. ,  564.4, 1128.8, 1693.2, 2257.6, 2822. , 3386.4, 3950.8,\n",
       "        4515.2, 5079.6, 5644. ]),\n",
       " <BarContainer object of 10 artists>)"
      ]
     },
     "execution_count": 20,
     "metadata": {},
     "output_type": "execute_result"
    },
    {
     "data": {
      "image/png": "[encoded data removed]",
      "text/plain": [
       "<Figure size 432x288 with 1 Axes>"
      ]
     },
     "metadata": {},
     "output_type": "display_data"
    }
   ],
   "source": [
    "plt.hist(df_train.BsmtFinSF1)"
   ]
  },
  {
   "cell_type": "code",
   "execution_count": 21,
   "id": "1e0fcb6d",
   "metadata": {
    "execution": {
     "iopub.execute_input": "2022-07-14T14:36:52.811934Z",
     "iopub.status.busy": "2022-07-14T14:36:52.809796Z",
     "iopub.status.idle": "2022-07-14T14:36:53.057096Z",
     "shell.execute_reply": "2022-07-14T14:36:53.055881Z"
    },
    "papermill": {
     "duration": 0.280658,
     "end_time": "2022-07-14T14:36:53.059946",
     "exception": false,
     "start_time": "2022-07-14T14:36:52.779288",
     "status": "completed"
    },
    "tags": []
   },
   "outputs": [
    {
     "data": {
      "text/plain": [
       "<AxesSubplot:>"
      ]
     },
     "execution_count": 21,
     "metadata": {},
     "output_type": "execute_result"
    },
    {
     "data": {
      "image/png": "[encoded data removed]",
      "text/plain": [
       "<Figure size 432x288 with 1 Axes>"
      ]
     },
     "metadata": {},
     "output_type": "display_data"
    }
   ],
   "source": [
    "df_train.BsmtFinSF2.hist()"
   ]
  },
  {
   "cell_type": "code",
   "execution_count": 22,
   "id": "d52caf3d",
   "metadata": {
    "execution": {
     "iopub.execute_input": "2022-07-14T14:36:53.121368Z",
     "iopub.status.busy": "2022-07-14T14:36:53.120971Z",
     "iopub.status.idle": "2022-07-14T14:36:53.356889Z",
     "shell.execute_reply": "2022-07-14T14:36:53.354934Z"
    },
    "papermill": {
     "duration": 0.269634,
     "end_time": "2022-07-14T14:36:53.359479",
     "exception": false,
     "start_time": "2022-07-14T14:36:53.089845",
     "status": "completed"
    },
    "tags": []
   },
   "outputs": [
    {
     "data": {
      "text/plain": [
       "<AxesSubplot:>"
      ]
     },
     "execution_count": 22,
     "metadata": {},
     "output_type": "execute_result"
    },
    {
     "data": {
      "image/png": "[encoded data removed]",
      "text/plain": [
       "<Figure size 432x288 with 1 Axes>"
      ]
     },
     "metadata": {},
     "output_type": "display_data"
    }
   ],
   "source": [
    "df_train.BsmtUnfSF.hist()"
   ]
  },
  {
   "cell_type": "code",
   "execution_count": 23,
   "id": "66a57fbf",
   "metadata": {
    "execution": {
     "iopub.execute_input": "2022-07-14T14:36:53.421599Z",
     "iopub.status.busy": "2022-07-14T14:36:53.420861Z",
     "iopub.status.idle": "2022-07-14T14:36:53.652637Z",
     "shell.execute_reply": "2022-07-14T14:36:53.651753Z"
    },
    "papermill": {
     "duration": 0.265754,
     "end_time": "2022-07-14T14:36:53.655106",
     "exception": false,
     "start_time": "2022-07-14T14:36:53.389352",
     "status": "completed"
    },
    "tags": []
   },
   "outputs": [
    {
     "data": {
      "text/plain": [
       "<AxesSubplot:>"
      ]
     },
     "execution_count": 23,
     "metadata": {},
     "output_type": "execute_result"
    },
    {
     "data": {
      "image/png": "[encoded data removed]",
      "text/plain": [
       "<Figure size 432x288 with 1 Axes>"
      ]
     },
     "metadata": {},
     "output_type": "display_data"
    }
   ],
   "source": [
    "df_train.TotalBsmtSF.hist()"
   ]
  },
  {
   "cell_type": "code",
   "execution_count": 24,
   "id": "0aea44fc",
   "metadata": {
    "execution": {
     "iopub.execute_input": "2022-07-14T14:36:53.719586Z",
     "iopub.status.busy": "2022-07-14T14:36:53.719176Z",
     "iopub.status.idle": "2022-07-14T14:36:53.989203Z",
     "shell.execute_reply": "2022-07-14T14:36:53.988038Z"
    },
    "papermill": {
     "duration": 0.305201,
     "end_time": "2022-07-14T14:36:53.991813",
     "exception": false,
     "start_time": "2022-07-14T14:36:53.686612",
     "status": "completed"
    },
    "tags": []
   },
   "outputs": [
    {
     "data": {
      "text/plain": [
       "<AxesSubplot:>"
      ]
     },
     "execution_count": 24,
     "metadata": {},
     "output_type": "execute_result"
    },
    {
     "data": {
      "image/png": "[encoded data removed]",
      "text/plain": [
       "<Figure size 432x288 with 1 Axes>"
      ]
     },
     "metadata": {},
     "output_type": "display_data"
    }
   ],
   "source": [
    "df_train.BsmtFullBath.hist()"
   ]
  },
  {
   "cell_type": "code",
   "execution_count": 25,
   "id": "941033d8",
   "metadata": {
    "execution": {
     "iopub.execute_input": "2022-07-14T14:36:54.057840Z",
     "iopub.status.busy": "2022-07-14T14:36:54.057422Z",
     "iopub.status.idle": "2022-07-14T14:36:54.332669Z",
     "shell.execute_reply": "2022-07-14T14:36:54.331320Z"
    },
    "papermill": {
     "duration": 0.311606,
     "end_time": "2022-07-14T14:36:54.336112",
     "exception": false,
     "start_time": "2022-07-14T14:36:54.024506",
     "status": "completed"
    },
    "tags": []
   },
   "outputs": [
    {
     "data": {
      "text/plain": [
       "<AxesSubplot:>"
      ]
     },
     "execution_count": 25,
     "metadata": {},
     "output_type": "execute_result"
    },
    {
     "data": {
      "image/png": "[encoded data removed]",
      "text/plain": [
       "<Figure size 432x288 with 1 Axes>"
      ]
     },
     "metadata": {},
     "output_type": "display_data"
    }
   ],
   "source": [
    "df_train.BsmtHalfBath.hist()"
   ]
  },
  {
   "cell_type": "markdown",
   "id": "10ba48d7",
   "metadata": {
    "papermill": {
     "duration": 0.030924,
     "end_time": "2022-07-14T14:36:54.399187",
     "exception": false,
     "start_time": "2022-07-14T14:36:54.368263",
     "status": "completed"
    },
    "tags": []
   },
   "source": [
    "The numerical features of dtype `float64` are presented below."
   ]
  },
  {
   "cell_type": "code",
   "execution_count": 26,
   "id": "b6dd01d3",
   "metadata": {
    "execution": {
     "iopub.execute_input": "2022-07-14T14:36:54.465001Z",
     "iopub.status.busy": "2022-07-14T14:36:54.464612Z",
     "iopub.status.idle": "2022-07-14T14:36:54.474136Z",
     "shell.execute_reply": "2022-07-14T14:36:54.473206Z"
    },
    "papermill": {
     "duration": 0.045166,
     "end_time": "2022-07-14T14:36:54.476675",
     "exception": false,
     "start_time": "2022-07-14T14:36:54.431509",
     "status": "completed"
    },
    "tags": []
   },
   "outputs": [
    {
     "data": {
      "text/plain": [
       "LotFrontage     float64\n",
       "MasVnrArea      float64\n",
       "BsmtFinSF1      float64\n",
       "BsmtFinSF2      float64\n",
       "BsmtUnfSF       float64\n",
       "TotalBsmtSF     float64\n",
       "BsmtFullBath    float64\n",
       "BsmtHalfBath    float64\n",
       "GarageYrBlt     float64\n",
       "GarageCars      float64\n",
       "GarageArea      float64\n",
       "SalePrice       float64\n",
       "dtype: object"
      ]
     },
     "execution_count": 26,
     "metadata": {},
     "output_type": "execute_result"
    }
   ],
   "source": [
    "df_train.dtypes[df_train.dtypes == \"float64\"]"
   ]
  },
  {
   "cell_type": "code",
   "execution_count": 27,
   "id": "634bf37e",
   "metadata": {
    "execution": {
     "iopub.execute_input": "2022-07-14T14:36:54.540491Z",
     "iopub.status.busy": "2022-07-14T14:36:54.540050Z",
     "iopub.status.idle": "2022-07-14T14:36:54.802253Z",
     "shell.execute_reply": "2022-07-14T14:36:54.800999Z"
    },
    "papermill": {
     "duration": 0.297608,
     "end_time": "2022-07-14T14:36:54.804828",
     "exception": false,
     "start_time": "2022-07-14T14:36:54.507220",
     "status": "completed"
    },
    "tags": []
   },
   "outputs": [
    {
     "data": {
      "text/plain": [
       "<AxesSubplot:>"
      ]
     },
     "execution_count": 27,
     "metadata": {},
     "output_type": "execute_result"
    },
    {
     "data": {
      "image/png": "[encoded data removed]",
      "text/plain": [
       "<Figure size 432x288 with 1 Axes>"
      ]
     },
     "metadata": {},
     "output_type": "display_data"
    }
   ],
   "source": [
    "df_train.GarageArea.hist()"
   ]
  },
  {
   "cell_type": "code",
   "execution_count": 28,
   "id": "3a67af87",
   "metadata": {
    "execution": {
     "iopub.execute_input": "2022-07-14T14:36:54.872648Z",
     "iopub.status.busy": "2022-07-14T14:36:54.871653Z",
     "iopub.status.idle": "2022-07-14T14:36:55.081242Z",
     "shell.execute_reply": "2022-07-14T14:36:55.080289Z"
    },
    "papermill": {
     "duration": 0.246637,
     "end_time": "2022-07-14T14:36:55.084427",
     "exception": false,
     "start_time": "2022-07-14T14:36:54.837790",
     "status": "completed"
    },
    "tags": []
   },
   "outputs": [
    {
     "data": {
      "text/plain": [
       "<AxesSubplot:>"
      ]
     },
     "execution_count": 28,
     "metadata": {},
     "output_type": "execute_result"
    },
    {
     "data": {
      "image/png": "[encoded data removed]",
      "text/plain": [
       "<Figure size 432x288 with 1 Axes>"
      ]
     },
     "metadata": {},
     "output_type": "display_data"
    }
   ],
   "source": [
    "df_train.GarageCars.hist()"
   ]
  },
  {
   "cell_type": "code",
   "execution_count": 29,
   "id": "e83386ab",
   "metadata": {
    "execution": {
     "iopub.execute_input": "2022-07-14T14:36:55.155769Z",
     "iopub.status.busy": "2022-07-14T14:36:55.154910Z",
     "iopub.status.idle": "2022-07-14T14:36:55.571800Z",
     "shell.execute_reply": "2022-07-14T14:36:55.570402Z"
    },
    "papermill": {
     "duration": 0.456499,
     "end_time": "2022-07-14T14:36:55.574679",
     "exception": false,
     "start_time": "2022-07-14T14:36:55.118180",
     "status": "completed"
    },
    "tags": []
   },
   "outputs": [
    {
     "data": {
      "text/plain": [
       "<AxesSubplot:>"
      ]
     },
     "execution_count": 29,
     "metadata": {},
     "output_type": "execute_result"
    },
    {
     "data": {
      "image/png": "[encoded data removed]",
      "text/plain": [
       "<Figure size 432x288 with 1 Axes>"
      ]
     },
     "metadata": {},
     "output_type": "display_data"
    }
   ],
   "source": [
    "df_train.GarageYrBlt.hist()"
   ]
  },
  {
   "cell_type": "code",
   "execution_count": 30,
   "id": "b27d05dc",
   "metadata": {
    "_kg_hide-input": true,
    "execution": {
     "iopub.execute_input": "2022-07-14T14:36:55.645313Z",
     "iopub.status.busy": "2022-07-14T14:36:55.644234Z",
     "iopub.status.idle": "2022-07-14T14:36:55.668607Z",
     "shell.execute_reply": "2022-07-14T14:36:55.666982Z"
    },
    "papermill": {
     "duration": 0.063095,
     "end_time": "2022-07-14T14:36:55.671908",
     "exception": false,
     "start_time": "2022-07-14T14:36:55.608813",
     "status": "completed"
    },
    "tags": []
   },
   "outputs": [],
   "source": [
    "\n",
    "def mathematical_transforms(df):\n",
    "    X = pd.DataFrame()  # dataframe to hold new features\n",
    "    X[\"LivLotRatio\"] = df.GrLivArea / df.LotArea\n",
    "    X[\"Spaciousness\"] = (df.FirstFlrSF + df.SecondFlrSF) / df.TotRmsAbvGrd\n",
    "    # This feature ended up not helping performance\n",
    "    # X[\"TotalOutsideSF\"] = \\\n",
    "    #     df.WoodDeckSF + df.OpenPorchSF + df.EnclosedPorch + \\\n",
    "    #     df.Threeseasonporch + df.ScreenPorch\n",
    "    \n",
    "    # The following mathematical transformations were added by myself.\n",
    "    \n",
    "    # A feature incorporating OverallCond with OverallQual\n",
    "    X[\"Overall\"] = df.OverallCond.cat.codes * df.OverallQual.cat.codes\n",
    "    \n",
    "    # Features for feet - instead of square feet\n",
    "    X[\"LotF\"] = np.sqrt(df.LotArea)\n",
    "    X[\"MasVnrF\"] = np.sqrt(df.MasVnrArea)\n",
    "    X[\"BsmtFin1F\"] = np.sqrt(df.BsmtFinSF1)\n",
    "    X[\"BsmtFin2F\"] = np.sqrt(df.BsmtFinSF2)\n",
    "    X[\"BsmtUnfF\"] = np.sqrt(df.BsmtUnfSF)\n",
    "    X[\"TotalBsmtF\"] = np.sqrt(df.TotalBsmtSF)\n",
    "    X[\"FirstFlrF\"] = np.sqrt(df.FirstFlrSF)\n",
    "    X[\"SecondFlrF\"] = np.sqrt(df.SecondFlrSF)\n",
    "    X[\"GrLivF\"] = np.sqrt(df.GrLivArea)\n",
    "    X[\"GarageF\"] = np.sqrt(df.GarageArea)\n",
    "    X[\"WoodDeckF\"] = np.sqrt(df.WoodDeckSF)\n",
    "    X[\"OpenPorchF\"] = np.sqrt(df.OpenPorchSF)\n",
    "    X[\"EnclosedPorchF\"] = np.sqrt(df.EnclosedPorch)\n",
    "    X[\"ThreeseasonporchF\"] = np.sqrt(df.Threeseasonporch)\n",
    "    X[\"ScreenPorchF\"] = np.sqrt(df.ScreenPorch)\n",
    "    X[\"PoolAreaF\"] = np.sqrt(df.PoolArea)\n",
    "    \n",
    "    # Log transforms of skewed numerical features,\n",
    "    # See histograms above for these features.\n",
    "    X[\"LotFrontageLog\"] = np.log(df.LotFrontage + 1)\n",
    "    X[\"MasVnrAreaLog\"] = np.log(df.MasVnrArea + 1)\n",
    "    X[\"BsmtFinSF1Log\"] = np.log(df.BsmtFinSF1 + 1)\n",
    "    X[\"BsmtFinSF2Log\"] = np.log(df.BsmtFinSF2 + 1)\n",
    "    X[\"BsmtUnfSFLog\"] = np.log(df.BsmtUnfSF + 1)\n",
    "    X[\"TotalBsmtSFLog\"] = np.log(df.TotalBsmtSF + 1)\n",
    "    #X[\"BsmtFullBathLog\"] = np.log(df.BsmtFullBath)\n",
    "    X[\"GarageYrBltLog\"] = np.log(df.GarageYrBlt + 1)\n",
    "    return X\n",
    "\n",
    "\n",
    "def interactions(df):\n",
    "    X = pd.get_dummies(df.BldgType, prefix=\"Bldg\")\n",
    "    X = X.mul(df.GrLivArea, axis=0)\n",
    "    return X\n",
    "\n",
    "\n",
    "def counts(df):\n",
    "    X = pd.DataFrame()\n",
    "    X[\"PorchTypes\"] = df[[\n",
    "        \"WoodDeckSF\",\n",
    "        \"OpenPorchSF\",\n",
    "        \"EnclosedPorch\",\n",
    "        \"Threeseasonporch\",\n",
    "        \"ScreenPorch\",\n",
    "    ]].gt(0.0).sum(axis=1)\n",
    "    return X\n",
    "\n",
    "\n",
    "def break_down(df):\n",
    "    X = pd.DataFrame()\n",
    "    X[\"MSClass\"] = df.MSSubClass.str.split(\"_\", n=1, expand=True)[0]\n",
    "    return X\n",
    "\n",
    "\n",
    "def group_transforms(df):\n",
    "    X = pd.DataFrame()\n",
    "    X[\"MedNhbdArea\"] = df.groupby(\"Neighborhood\")[\"GrLivArea\"].transform(\"median\")\n",
    "    # An sns catplot can be seen below for the interaction\n",
    "    # between BsmtQual and TotalBsmtSF.\n",
    "    X[\"AVGBsmtSF\"] = df.groupby(\"BsmtQual\")[\"TotalBsmtSF\"].transform(\"mean\")\n",
    "    # Other group transforms of neighborhood.\n",
    "    X[\"AVGNhbdArea\"] = df.groupby(\"Neighborhood\")[\"GrLivArea\"].transform(\"mean\")\n",
    "    X[\"STDNhbdArea\"] = df.groupby(\"Neighborhood\")[\"GrLivArea\"].transform(\"std\")\n",
    "    X[\"CountNhbd\"] = df.groupby(\"Neighborhood\")[\"Neighborhood\"].transform(\"count\")\n",
    "    X[\"DiffNhbdArea\"] = df.GrLivArea - X.MedNhbdArea\n",
    "    return X\n"
   ]
  },
  {
   "cell_type": "markdown",
   "id": "94b613c9",
   "metadata": {
    "papermill": {
     "duration": 0.032954,
     "end_time": "2022-07-14T14:36:55.740423",
     "exception": false,
     "start_time": "2022-07-14T14:36:55.707469",
     "status": "completed"
    },
    "tags": []
   },
   "source": [
    "A categorical plot showing the relationship between **BsmtQual** and **TotalBsmtSF** is displayed below."
   ]
  },
  {
   "cell_type": "code",
   "execution_count": 31,
   "id": "3a6f034b",
   "metadata": {
    "execution": {
     "iopub.execute_input": "2022-07-14T14:36:55.811627Z",
     "iopub.status.busy": "2022-07-14T14:36:55.810163Z",
     "iopub.status.idle": "2022-07-14T14:36:56.161478Z",
     "shell.execute_reply": "2022-07-14T14:36:56.158318Z"
    },
    "papermill": {
     "duration": 0.391709,
     "end_time": "2022-07-14T14:36:56.165772",
     "exception": false,
     "start_time": "2022-07-14T14:36:55.774063",
     "status": "completed"
    },
    "tags": []
   },
   "outputs": [
    {
     "data": {
      "text/plain": [
       "<seaborn.axisgrid.FacetGrid at 0x7f2255679cd0>"
      ]
     },
     "execution_count": 31,
     "metadata": {},
     "output_type": "execute_result"
    },
    {
     "data": {
      "image/png": "[encoded data removed]",
      "text/plain": [
       "<Figure size 360x360 with 1 Axes>"
      ]
     },
     "metadata": {},
     "output_type": "display_data"
    }
   ],
   "source": [
    "sns.catplot(x = \"BsmtQual\", y = \"TotalBsmtSF\",\\\n",
    "            data = df_train)"
   ]
  },
  {
   "cell_type": "code",
   "execution_count": 32,
   "id": "1b931abb",
   "metadata": {
    "execution": {
     "iopub.execute_input": "2022-07-14T14:36:56.238327Z",
     "iopub.status.busy": "2022-07-14T14:36:56.237108Z",
     "iopub.status.idle": "2022-07-14T14:36:56.243193Z",
     "shell.execute_reply": "2022-07-14T14:36:56.242214Z"
    },
    "papermill": {
     "duration": 0.043455,
     "end_time": "2022-07-14T14:36:56.246520",
     "exception": false,
     "start_time": "2022-07-14T14:36:56.203065",
     "status": "completed"
    },
    "tags": []
   },
   "outputs": [],
   "source": [
    "#display(df_train[\"OverallQual\"].cat.codes.head())\n",
    "#display(df_train[\"OverallCond\"].cat.codes.head())"
   ]
  },
  {
   "cell_type": "markdown",
   "id": "2b2c6e6e",
   "metadata": {
    "papermill": {
     "duration": 0.034293,
     "end_time": "2022-07-14T14:36:56.316090",
     "exception": false,
     "start_time": "2022-07-14T14:36:56.281797",
     "status": "completed"
    },
    "tags": []
   },
   "source": [
    "Here are some ideas for other transforms you could explore:\n",
    "- Interactions between the quality `Qual` and condition `Cond` features. `OverallQual`, for instance, was a high-scoring feature. You could try combining it with `OverallCond` by converting both to integer type and taking a product.\n",
    "- Square roots of area features. This would convert units of square feet to just feet.\n",
    "- Logarithms of numeric features. If a feature has a skewed distribution, applying a logarithm can help normalize it.\n",
    "- Interactions between numeric and categorical features that describe the same thing. You could look at interactions between `BsmtQual` and `TotalBsmtSF`, for instance.\n",
    "- Other group statistics in `Neighboorhood`. We did the median of `GrLivArea`. Looking at `mean`, `std`, or `count` could be interesting. You could also try combining the group statistics with other features. Maybe the *difference* of `GrLivArea` and the median is important?\n",
    "\n",
    "## k-Means Clustering ##\n",
    "\n",
    "The first unsupervised algorithm we used to create features was k-means clustering. We saw that you could either use the cluster labels as a feature (a column with `0, 1, 2, ...`) or you could use the *distance* of the observations to each cluster. We saw how these features can sometimes be effective at untangling complicated spatial relationships."
   ]
  },
  {
   "cell_type": "code",
   "execution_count": 33,
   "id": "a3945e18",
   "metadata": {
    "_kg_hide-input": true,
    "execution": {
     "iopub.execute_input": "2022-07-14T14:36:56.386387Z",
     "iopub.status.busy": "2022-07-14T14:36:56.385758Z",
     "iopub.status.idle": "2022-07-14T14:36:56.396961Z",
     "shell.execute_reply": "2022-07-14T14:36:56.395874Z"
    },
    "lines_to_next_cell": 2,
    "papermill": {
     "duration": 0.050562,
     "end_time": "2022-07-14T14:36:56.399847",
     "exception": false,
     "start_time": "2022-07-14T14:36:56.349285",
     "status": "completed"
    },
    "tags": []
   },
   "outputs": [],
   "source": [
    "\n",
    "cluster_features = [\n",
    "    \"LotArea\",\n",
    "    \"TotalBsmtSF\",\n",
    "    \"FirstFlrSF\",\n",
    "    \"SecondFlrSF\",\n",
    "    \"GrLivArea\",\n",
    "]\n",
    "\n",
    "\n",
    "def cluster_labels(df, features, n_clusters=20):\n",
    "    X = df.copy()\n",
    "    X_scaled = X.loc[:, features]\n",
    "    X_scaled = (X_scaled - X_scaled.mean(axis=0)) / X_scaled.std(axis=0)\n",
    "    kmeans = KMeans(n_clusters=n_clusters, n_init=50, random_state=0)\n",
    "    X_new = pd.DataFrame()\n",
    "    X_new[\"Cluster\"] = kmeans.fit_predict(X_scaled)\n",
    "    return X_new\n",
    "\n",
    "\n",
    "def cluster_distance(df, features, n_clusters=20):\n",
    "    X = df.copy()\n",
    "    X_scaled = X.loc[:, features]\n",
    "    X_scaled = (X_scaled - X_scaled.mean(axis=0)) / X_scaled.std(axis=0)\n",
    "    kmeans = KMeans(n_clusters=20, n_init=50, random_state=0)\n",
    "    X_cd = kmeans.fit_transform(X_scaled)\n",
    "    # Label features and join to dataset\n",
    "    X_cd = pd.DataFrame(\n",
    "        X_cd, columns=[f\"Centroid_{i}\" for i in range(X_cd.shape[1])]\n",
    "    )\n",
    "    return X_cd\n"
   ]
  },
  {
   "cell_type": "markdown",
   "id": "df582f4f",
   "metadata": {
    "papermill": {
     "duration": 0.033278,
     "end_time": "2022-07-14T14:36:56.467173",
     "exception": false,
     "start_time": "2022-07-14T14:36:56.433895",
     "status": "completed"
    },
    "tags": []
   },
   "source": [
    "## Principal Component Analysis ##\n",
    "\n",
    "PCA was the second unsupervised model we used for feature creation. We saw how it could be used to decompose the variational structure in the data. The PCA algorithm gave us *loadings* which described each component of variation, and also the *components* which were the transformed datapoints. The loadings can suggest features to create and the components we can use as features directly.\n",
    "\n",
    "Here are the utility functions from the PCA lesson:"
   ]
  },
  {
   "cell_type": "code",
   "execution_count": 34,
   "id": "f2335a55",
   "metadata": {
    "_kg_hide-input": true,
    "execution": {
     "iopub.execute_input": "2022-07-14T14:36:56.538459Z",
     "iopub.status.busy": "2022-07-14T14:36:56.537791Z",
     "iopub.status.idle": "2022-07-14T14:36:56.550967Z",
     "shell.execute_reply": "2022-07-14T14:36:56.549998Z"
    },
    "papermill": {
     "duration": 0.053386,
     "end_time": "2022-07-14T14:36:56.554094",
     "exception": false,
     "start_time": "2022-07-14T14:36:56.500708",
     "status": "completed"
    },
    "tags": []
   },
   "outputs": [],
   "source": [
    "\n",
    "def apply_pca(X, standardize=True):\n",
    "    # Standardize\n",
    "    if standardize:\n",
    "        X = (X - X.mean(axis=0)) / X.std(axis=0)\n",
    "    # Create principal components\n",
    "    pca = PCA()\n",
    "    X_pca = pca.fit_transform(X)\n",
    "    # Convert to dataframe\n",
    "    component_names = [f\"PC{i+1}\" for i in range(X_pca.shape[1])]\n",
    "    X_pca = pd.DataFrame(X_pca, columns=component_names)\n",
    "    # Create loadings\n",
    "    loadings = pd.DataFrame(\n",
    "        pca.components_.T,  # transpose the matrix of loadings\n",
    "        columns=component_names,  # so the columns are the principal components\n",
    "        index=X.columns,  # and the rows are the original features\n",
    "    )\n",
    "    return pca, X_pca, loadings\n",
    "\n",
    "\n",
    "def plot_variance(pca, width=8, dpi=100):\n",
    "    # Create figure\n",
    "    fig, axs = plt.subplots(1, 2)\n",
    "    n = pca.n_components_\n",
    "    grid = np.arange(1, n + 1)\n",
    "    # Explained variance\n",
    "    evr = pca.explained_variance_ratio_\n",
    "    axs[0].bar(grid, evr)\n",
    "    axs[0].set(\n",
    "        xlabel=\"Component\", title=\"% Explained Variance\", ylim=(0.0, 1.0)\n",
    "    )\n",
    "    # Cumulative Variance\n",
    "    cv = np.cumsum(evr)\n",
    "    axs[1].plot(np.r_[0, grid], np.r_[0, cv], \"o-\")\n",
    "    axs[1].set(\n",
    "        xlabel=\"Component\", title=\"% Cumulative Variance\", ylim=(0.0, 1.0)\n",
    "    )\n",
    "    # Set up figure\n",
    "    fig.set(figwidth=8, dpi=100)\n",
    "    return axs\n"
   ]
  },
  {
   "cell_type": "markdown",
   "id": "c8f74c30",
   "metadata": {
    "papermill": {
     "duration": 0.032984,
     "end_time": "2022-07-14T14:36:56.622139",
     "exception": false,
     "start_time": "2022-07-14T14:36:56.589155",
     "status": "completed"
    },
    "tags": []
   },
   "source": [
    "And here are transforms that produce the features from the Exercise 5. You might want to change these if you came up with a different answer.\n"
   ]
  },
  {
   "cell_type": "code",
   "execution_count": 35,
   "id": "3491bd12",
   "metadata": {
    "_kg_hide-input": true,
    "execution": {
     "iopub.execute_input": "2022-07-14T14:36:56.695606Z",
     "iopub.status.busy": "2022-07-14T14:36:56.694884Z",
     "iopub.status.idle": "2022-07-14T14:36:56.702286Z",
     "shell.execute_reply": "2022-07-14T14:36:56.701294Z"
    },
    "papermill": {
     "duration": 0.047656,
     "end_time": "2022-07-14T14:36:56.704926",
     "exception": false,
     "start_time": "2022-07-14T14:36:56.657270",
     "status": "completed"
    },
    "tags": []
   },
   "outputs": [],
   "source": [
    "\n",
    "def pca_inspired(df):\n",
    "    X = pd.DataFrame()\n",
    "    X[\"Feature1\"] = df.GrLivArea + df.TotalBsmtSF\n",
    "    X[\"Feature2\"] = df.YearRemodAdd * df.TotalBsmtSF\n",
    "    return X\n",
    "\n",
    "\n",
    "def pca_components(df, features):\n",
    "    X = df.loc[:, features]\n",
    "    _, X_pca, _ = apply_pca(X)\n",
    "    return X_pca\n",
    "\n",
    "\n",
    "#pca_features = [\n",
    " #   \"GarageArea\",\n",
    "  #  \"YearRemodAdd\",\n",
    "   # \"TotalBsmtSF\",\n",
    "    #\"GrLivArea\",\n",
    "#]"
   ]
  },
  {
   "cell_type": "markdown",
   "id": "19257036",
   "metadata": {
    "execution": {
     "iopub.execute_input": "2022-07-11T11:31:57.219431Z",
     "iopub.status.busy": "2022-07-11T11:31:57.219017Z",
     "iopub.status.idle": "2022-07-11T11:31:57.305316Z",
     "shell.execute_reply": "2022-07-11T11:31:57.304191Z",
     "shell.execute_reply.started": "2022-07-11T11:31:57.21939Z"
    },
    "papermill": {
     "duration": 0.034372,
     "end_time": "2022-07-14T14:36:56.773922",
     "exception": false,
     "start_time": "2022-07-14T14:36:56.739550",
     "status": "completed"
    },
    "tags": []
   },
   "source": [
    "### This is a cell I don't currently run.\n",
    "\n",
    "X_pca = pca_components(df_train, cluster_features)\n",
    "X1 = df_train.copy()\n",
    "y = X1.pop(\"SalePrice\")\n",
    "\n",
    "mi_scores = make_mi_scores(X_pca, y)\n",
    "mi_scores"
   ]
  },
  {
   "cell_type": "code",
   "execution_count": 36,
   "id": "387d46e7",
   "metadata": {
    "execution": {
     "iopub.execute_input": "2022-07-14T14:36:56.842485Z",
     "iopub.status.busy": "2022-07-14T14:36:56.841731Z",
     "iopub.status.idle": "2022-07-14T14:36:56.847975Z",
     "shell.execute_reply": "2022-07-14T14:36:56.846842Z"
    },
    "papermill": {
     "duration": 0.043533,
     "end_time": "2022-07-14T14:36:56.850565",
     "exception": false,
     "start_time": "2022-07-14T14:36:56.807032",
     "status": "completed"
    },
    "tags": []
   },
   "outputs": [],
   "source": [
    "def pca_components1(df, features):\n",
    "    X = df.loc[:, features]\n",
    "    pca, X_pca, _ = apply_pca(X)\n",
    "    return pca, X_pca"
   ]
  },
  {
   "cell_type": "markdown",
   "id": "15e0b56c",
   "metadata": {
    "execution": {
     "iopub.execute_input": "2022-07-08T10:23:25.844225Z",
     "iopub.status.busy": "2022-07-08T10:23:25.843658Z",
     "iopub.status.idle": "2022-07-08T10:23:26.231615Z",
     "shell.execute_reply": "2022-07-08T10:23:26.23031Z",
     "shell.execute_reply.started": "2022-07-08T10:23:25.844176Z"
    },
    "papermill": {
     "duration": 0.03821,
     "end_time": "2022-07-14T14:36:56.923528",
     "exception": false,
     "start_time": "2022-07-14T14:36:56.885318",
     "status": "completed"
    },
    "tags": []
   },
   "source": [
    "### This is a cell I don't currently run.\n",
    "pca, _ = pca_components1(df_train, cluster_features)\n",
    "plot_variance(pca)"
   ]
  },
  {
   "cell_type": "markdown",
   "id": "dd0570a2",
   "metadata": {
    "papermill": {
     "duration": 0.032169,
     "end_time": "2022-07-14T14:36:56.988764",
     "exception": false,
     "start_time": "2022-07-14T14:36:56.956595",
     "status": "completed"
    },
    "tags": []
   },
   "source": [
    "These are only a couple ways you could use the principal components. You could also try clustering using one or more components. One thing to note is that PCA doesn't change the distance between points -- it's just like a rotation. So clustering with the full set of components is the same as clustering with the original features. Instead, pick some subset of components, maybe those with the most variance or the highest MI scores.\n",
    "\n",
    "For further analysis, you might want to look at a correlation matrix for the dataset:"
   ]
  },
  {
   "cell_type": "markdown",
   "id": "16eabea3",
   "metadata": {
    "papermill": {
     "duration": 0.034181,
     "end_time": "2022-07-14T14:36:57.057874",
     "exception": false,
     "start_time": "2022-07-14T14:36:57.023693",
     "status": "completed"
    },
    "tags": []
   },
   "source": [
    "Based on highest MI scores and on components with the most variance, it may be useful to do clustering with PC1 and PC2."
   ]
  },
  {
   "cell_type": "code",
   "execution_count": 37,
   "id": "67e3a759",
   "metadata": {
    "execution": {
     "iopub.execute_input": "2022-07-14T14:36:57.125487Z",
     "iopub.status.busy": "2022-07-14T14:36:57.125073Z",
     "iopub.status.idle": "2022-07-14T14:36:58.352922Z",
     "shell.execute_reply": "2022-07-14T14:36:58.351633Z"
    },
    "papermill": {
     "duration": 1.264793,
     "end_time": "2022-07-14T14:36:58.356126",
     "exception": false,
     "start_time": "2022-07-14T14:36:57.091333",
     "status": "completed"
    },
    "tags": []
   },
   "outputs": [
    {
     "data": {
      "image/png": "[encoded data removed]",
      "text/plain": [
       "<Figure size 720x720 with 4 Axes>"
      ]
     },
     "metadata": {},
     "output_type": "display_data"
    }
   ],
   "source": [
    "def corrplot(df, method=\"pearson\", annot=True, **kwargs):\n",
    "    sns.clustermap(\n",
    "        df.corr(method),\n",
    "        vmin=-1.0,\n",
    "        vmax=1.0,\n",
    "        cmap=\"icefire\",\n",
    "        method=\"complete\",\n",
    "        annot=annot,\n",
    "        **kwargs,\n",
    "    )\n",
    "\n",
    "\n",
    "corrplot(df_train, annot=None)"
   ]
  },
  {
   "cell_type": "code",
   "execution_count": 38,
   "id": "5d595ce1",
   "metadata": {
    "execution": {
     "iopub.execute_input": "2022-07-14T14:36:58.428645Z",
     "iopub.status.busy": "2022-07-14T14:36:58.427961Z",
     "iopub.status.idle": "2022-07-14T14:36:58.433666Z",
     "shell.execute_reply": "2022-07-14T14:36:58.432471Z"
    },
    "papermill": {
     "duration": 0.04487,
     "end_time": "2022-07-14T14:36:58.436121",
     "exception": false,
     "start_time": "2022-07-14T14:36:58.391251",
     "status": "completed"
    },
    "tags": []
   },
   "outputs": [],
   "source": [
    "# These features were selected by myself, based on the corrplot above.\n",
    "pca_features = [\"BsmtUnfSF\", \"FullBath\", \"GrLivArea\",\"TotRmsAbvGrd\", \\\n",
    "               \"YearRemodAdd\", \"YearBuilt\", \"GarageYrBlt\",\\\n",
    "               \"TotalBsmtSF\", \"FirstFlrSF\", \"GarageCars\",\\\n",
    "               \"BsmtFinSF1\", \"BsmtFullBath\"]"
   ]
  },
  {
   "cell_type": "code",
   "execution_count": 39,
   "id": "020734a6",
   "metadata": {
    "execution": {
     "iopub.execute_input": "2022-07-14T14:36:58.508759Z",
     "iopub.status.busy": "2022-07-14T14:36:58.507963Z",
     "iopub.status.idle": "2022-07-14T14:36:59.104866Z",
     "shell.execute_reply": "2022-07-14T14:36:59.103502Z"
    },
    "papermill": {
     "duration": 0.63701,
     "end_time": "2022-07-14T14:36:59.107687",
     "exception": false,
     "start_time": "2022-07-14T14:36:58.470677",
     "status": "completed"
    },
    "tags": []
   },
   "outputs": [
    {
     "data": {
      "text/plain": [
       "PC1     0.878397\n",
       "PC5     0.215645\n",
       "PC2     0.182153\n",
       "PC3     0.146871\n",
       "PC4     0.099779\n",
       "PC6     0.073958\n",
       "PC7     0.065790\n",
       "PC12    0.063813\n",
       "PC11    0.062807\n",
       "PC9     0.053690\n",
       "PC8     0.028507\n",
       "PC10    0.000000\n",
       "Name: MI Scores, dtype: float64"
      ]
     },
     "execution_count": 39,
     "metadata": {},
     "output_type": "execute_result"
    },
    {
     "data": {
      "image/png": "[encoded data removed]",
      "text/plain": [
       "<Figure size 800x400 with 2 Axes>"
      ]
     },
     "metadata": {},
     "output_type": "display_data"
    }
   ],
   "source": [
    "pca, X_pca = pca_components1(df_train, pca_features)\n",
    "plot_variance(pca)\n",
    "X1 = df_train.copy()\n",
    "y = X1.pop(\"SalePrice\")\n",
    "\n",
    "mi_scores = make_mi_scores(X_pca, y)\n",
    "mi_scores"
   ]
  },
  {
   "cell_type": "markdown",
   "id": "add49e0f",
   "metadata": {
    "papermill": {
     "duration": 0.035759,
     "end_time": "2022-07-14T14:36:59.178867",
     "exception": false,
     "start_time": "2022-07-14T14:36:59.143108",
     "status": "completed"
    },
    "tags": []
   },
   "source": [
    "Based on the group of features selected based on the corrlation matrix above, the first component PC1 has the highest MI score and captures the most variance."
   ]
  },
  {
   "cell_type": "markdown",
   "id": "4ece43c1",
   "metadata": {
    "papermill": {
     "duration": 0.034519,
     "end_time": "2022-07-14T14:36:59.249334",
     "exception": false,
     "start_time": "2022-07-14T14:36:59.214815",
     "status": "completed"
    },
    "tags": []
   },
   "source": [
    "Groups of highly correlated features often yield interesting loadings.\n",
    "\n",
    "### PCA Application - Indicate Outliers ###\n",
    "\n",
    "In Exercise 5, you applied PCA to determine houses that were **outliers**, that is, houses having values not well represented in the rest of the data. You saw that there was a group of houses in the `Edwards` neighborhood having a `SaleCondition` of `Partial` whose values were especially extreme.\n",
    "\n",
    "Some models can benefit from having these outliers indicated, which is what this next transform will do."
   ]
  },
  {
   "cell_type": "code",
   "execution_count": 40,
   "id": "0d3da139",
   "metadata": {
    "execution": {
     "iopub.execute_input": "2022-07-14T14:36:59.323834Z",
     "iopub.status.busy": "2022-07-14T14:36:59.323421Z",
     "iopub.status.idle": "2022-07-14T14:36:59.329511Z",
     "shell.execute_reply": "2022-07-14T14:36:59.327869Z"
    },
    "papermill": {
     "duration": 0.04771,
     "end_time": "2022-07-14T14:36:59.331897",
     "exception": false,
     "start_time": "2022-07-14T14:36:59.284187",
     "status": "completed"
    },
    "tags": []
   },
   "outputs": [],
   "source": [
    "def indicate_outliers(df):\n",
    "    X_new = pd.DataFrame()\n",
    "    X_new[\"Outlier\"] = (df.Neighborhood == \"Edwards\") & (df.SaleCondition == \"Partial\")\n",
    "    return X_new\n"
   ]
  },
  {
   "cell_type": "markdown",
   "id": "1f83bb2d",
   "metadata": {
    "papermill": {
     "duration": 0.034985,
     "end_time": "2022-07-14T14:36:59.402004",
     "exception": false,
     "start_time": "2022-07-14T14:36:59.367019",
     "status": "completed"
    },
    "tags": []
   },
   "source": [
    "You could also consider applying some sort of robust scaler from scikit-learn's `sklearn.preprocessing` module to the outlying values, especially those in `GrLivArea`. [Here](https://scikit-learn.org/stable/auto_examples/preprocessing/plot_all_scaling.html) is a tutorial illustrating some of them. Another option could be to create a feature of \"outlier scores\" using one of scikit-learn's [outlier detectors](https://scikit-learn.org/stable/modules/outlier_detection.html)."
   ]
  },
  {
   "cell_type": "code",
   "execution_count": 41,
   "id": "113defd5",
   "metadata": {
    "execution": {
     "iopub.execute_input": "2022-07-14T14:36:59.475031Z",
     "iopub.status.busy": "2022-07-14T14:36:59.474651Z",
     "iopub.status.idle": "2022-07-14T14:36:59.559541Z",
     "shell.execute_reply": "2022-07-14T14:36:59.558365Z"
    },
    "papermill": {
     "duration": 0.12438,
     "end_time": "2022-07-14T14:36:59.562420",
     "exception": false,
     "start_time": "2022-07-14T14:36:59.438040",
     "status": "completed"
    },
    "tags": []
   },
   "outputs": [],
   "source": [
    "# I tried using sklearn IsolationForest to detect outliers. This feature\n",
    "# did not improve the RMSLE and is not used in the create features function\n",
    "# below.\n",
    "from sklearn.ensemble import IsolationForest\n",
    "\n",
    "def outliers(df):\n",
    "    X = pd.DataFrame()\n",
    "    isf = IsolationForest()\n",
    "    X[\"Outliers\"] = isf.fit(df[[\"GrLivArea\"]])\\\n",
    "    .predict(df[[\"GrLivArea\"]])\n",
    "    return X"
   ]
  },
  {
   "cell_type": "code",
   "execution_count": 42,
   "id": "6acb5cc7",
   "metadata": {
    "execution": {
     "iopub.execute_input": "2022-07-14T14:36:59.636044Z",
     "iopub.status.busy": "2022-07-14T14:36:59.635659Z",
     "iopub.status.idle": "2022-07-14T14:36:59.642531Z",
     "shell.execute_reply": "2022-07-14T14:36:59.641161Z"
    },
    "papermill": {
     "duration": 0.04647,
     "end_time": "2022-07-14T14:36:59.645001",
     "exception": false,
     "start_time": "2022-07-14T14:36:59.598531",
     "status": "completed"
    },
    "tags": []
   },
   "outputs": [],
   "source": [
    "# I tried using sklearn PowerTransformer to help deal with outliers. \n",
    "# This feature did not improve the RMSLE and is not used in the create\n",
    "# features function below.\n",
    "from sklearn.preprocessing import PowerTransformer\n",
    "\n",
    "def robust_scaler(df):\n",
    "    pt = PowerTransformer()\n",
    "    X = pd.DataFrame()\n",
    "    X = pd.DataFrame(pt.fit_transform(df[[\"GrLivArea\"]]))\n",
    "    X.columns = [\"GrLivAreaPT\"]\n",
    "    return X"
   ]
  },
  {
   "cell_type": "code",
   "execution_count": 43,
   "id": "56a7175e",
   "metadata": {
    "execution": {
     "iopub.execute_input": "2022-07-14T14:36:59.717091Z",
     "iopub.status.busy": "2022-07-14T14:36:59.716678Z",
     "iopub.status.idle": "2022-07-14T14:36:59.738611Z",
     "shell.execute_reply": "2022-07-14T14:36:59.737378Z"
    },
    "papermill": {
     "duration": 0.060977,
     "end_time": "2022-07-14T14:36:59.741189",
     "exception": false,
     "start_time": "2022-07-14T14:36:59.680212",
     "status": "completed"
    },
    "tags": []
   },
   "outputs": [
    {
     "data": {
      "text/html": [
       "<div>\n",
       "<style scoped>\n",
       "    .dataframe tbody tr th:only-of-type {\n",
       "        vertical-align: middle;\n",
       "    }\n",
       "\n",
       "    .dataframe tbody tr th {\n",
       "        vertical-align: top;\n",
       "    }\n",
       "\n",
       "    .dataframe thead th {\n",
       "        text-align: right;\n",
       "    }\n",
       "</style>\n",
       "<table border=\"1\" class=\"dataframe\">\n",
       "  <thead>\n",
       "    <tr style=\"text-align: right;\">\n",
       "      <th></th>\n",
       "      <th>GrLivAreaPT</th>\n",
       "    </tr>\n",
       "  </thead>\n",
       "  <tbody>\n",
       "    <tr>\n",
       "      <th>0</th>\n",
       "      <td>0.528531</td>\n",
       "    </tr>\n",
       "    <tr>\n",
       "      <th>1</th>\n",
       "      <td>-0.382755</td>\n",
       "    </tr>\n",
       "    <tr>\n",
       "      <th>2</th>\n",
       "      <td>0.659112</td>\n",
       "    </tr>\n",
       "    <tr>\n",
       "      <th>3</th>\n",
       "      <td>0.540797</td>\n",
       "    </tr>\n",
       "    <tr>\n",
       "      <th>4</th>\n",
       "      <td>1.282894</td>\n",
       "    </tr>\n",
       "  </tbody>\n",
       "</table>\n",
       "</div>"
      ],
      "text/plain": [
       "   GrLivAreaPT\n",
       "0     0.528531\n",
       "1    -0.382755\n",
       "2     0.659112\n",
       "3     0.540797\n",
       "4     1.282894"
      ]
     },
     "execution_count": 43,
     "metadata": {},
     "output_type": "execute_result"
    }
   ],
   "source": [
    "# This is just used in order to view data transformed by the robust_scaler \n",
    "# function above.\n",
    "X = robust_scaler(df_train)\n",
    "X.head()\n",
    "# len(X)"
   ]
  },
  {
   "cell_type": "markdown",
   "id": "1b0090e6",
   "metadata": {
    "papermill": {
     "duration": 0.036575,
     "end_time": "2022-07-14T14:36:59.814157",
     "exception": false,
     "start_time": "2022-07-14T14:36:59.777582",
     "status": "completed"
    },
    "tags": []
   },
   "source": [
    "## Target Encoding ##\n",
    "\n",
    "Needing a separate holdout set to create a target encoding is rather wasteful of data. In *Tutorial 6* we used 25% of our dataset just to encode a single feature, `Zipcode`. The data from the other features in that 25% we didn't get to use at all.\n",
    "\n",
    "There is, however, a way you can use target encoding without having to use held-out encoding data. It's basically the same trick used in cross-validation:\n",
    "1. Split the data into folds, each fold having two splits of the dataset.\n",
    "2. Train the encoder on one split but transform the values of the other.\n",
    "3. Repeat for all the splits.\n",
    "\n",
    "This way, training and transformation always take place on independent sets of data, just like when you use a holdout set but without any data going to waste.\n",
    "\n",
    "In the next hidden cell is a wrapper you can use with any target encoder:"
   ]
  },
  {
   "cell_type": "code",
   "execution_count": 44,
   "id": "a6965e66",
   "metadata": {
    "_kg_hide-input": true,
    "execution": {
     "iopub.execute_input": "2022-07-14T14:36:59.889670Z",
     "iopub.status.busy": "2022-07-14T14:36:59.889251Z",
     "iopub.status.idle": "2022-07-14T14:36:59.902141Z",
     "shell.execute_reply": "2022-07-14T14:36:59.901126Z"
    },
    "papermill": {
     "duration": 0.053623,
     "end_time": "2022-07-14T14:36:59.904643",
     "exception": false,
     "start_time": "2022-07-14T14:36:59.851020",
     "status": "completed"
    },
    "tags": []
   },
   "outputs": [],
   "source": [
    "\n",
    "class CrossFoldEncoder:\n",
    "    def __init__(self, encoder, **kwargs):\n",
    "        self.encoder_ = encoder\n",
    "        self.kwargs_ = kwargs  # keyword arguments for the encoder\n",
    "        self.cv_ = KFold(n_splits=5)\n",
    "\n",
    "    # Fit an encoder on one split and transform the feature on the\n",
    "    # other. Iterating over the splits in all folds gives a complete\n",
    "    # transformation. We also now have one trained encoder on each\n",
    "    # fold.\n",
    "    def fit_transform(self, X, y, cols):\n",
    "        self.fitted_encoders_ = []\n",
    "        self.cols_ = cols\n",
    "        X_encoded = []\n",
    "        for idx_encode, idx_train in self.cv_.split(X):\n",
    "            fitted_encoder = self.encoder_(cols=cols, **self.kwargs_)\n",
    "            fitted_encoder.fit(\n",
    "                X.iloc[idx_encode, :], y.iloc[idx_encode],\n",
    "            )\n",
    "            X_encoded.append(fitted_encoder.transform(X.iloc[idx_train, :])[cols])\n",
    "            self.fitted_encoders_.append(fitted_encoder)\n",
    "        X_encoded = pd.concat(X_encoded)\n",
    "        X_encoded.columns = [name + \"_encoded\" for name in X_encoded.columns]\n",
    "        return X_encoded\n",
    "\n",
    "    # To transform the test data, average the encodings learned from\n",
    "    # each fold.\n",
    "    def transform(self, X):\n",
    "        from functools import reduce\n",
    "\n",
    "        X_encoded_list = []\n",
    "        for fitted_encoder in self.fitted_encoders_:\n",
    "            X_encoded = fitted_encoder.transform(X)\n",
    "            X_encoded_list.append(X_encoded[self.cols_])\n",
    "        X_encoded = reduce(\n",
    "            lambda x, y: x.add(y, fill_value=0), X_encoded_list\n",
    "        ) / len(X_encoded_list)\n",
    "        X_encoded.columns = [name + \"_encoded\" for name in X_encoded.columns]\n",
    "        return X_encoded\n"
   ]
  },
  {
   "cell_type": "markdown",
   "id": "edbd2c87",
   "metadata": {
    "papermill": {
     "duration": 0.035072,
     "end_time": "2022-07-14T14:36:59.977168",
     "exception": false,
     "start_time": "2022-07-14T14:36:59.942096",
     "status": "completed"
    },
    "tags": []
   },
   "source": [
    "Use it like:\n",
    "\n",
    "```\n",
    "encoder = CrossFoldEncoder(MEstimateEncoder, m=1)\n",
    "X_encoded = encoder.fit_transform(X, y, cols=[\"MSSubClass\"]))\n",
    "```\n",
    "\n",
    "You can turn any of the encoders from the [`category_encoders`](http://contrib.scikit-learn.org/category_encoders/) library into a cross-fold encoder. The [`CatBoostEncoder`](http://contrib.scikit-learn.org/category_encoders/catboost.html) would be worth trying. It's similar to `MEstimateEncoder` but uses some tricks to better prevent overfitting. Its smoothing parameter is called `a` instead of `m`.\n",
    "\n",
    "## Create Final Feature Set ##\n",
    "\n",
    "Now let's combine everything together. Putting the transformations into separate functions makes it easier to experiment with various combinations. The ones I left uncommented I found gave the best results. You should experiment with you own ideas though! Modify any of these transformations or come up with some of your own to add to the pipeline."
   ]
  },
  {
   "cell_type": "code",
   "execution_count": 45,
   "id": "21eceb63",
   "metadata": {
    "execution": {
     "iopub.execute_input": "2022-07-14T14:37:00.049423Z",
     "iopub.status.busy": "2022-07-14T14:37:00.049024Z",
     "iopub.status.idle": "2022-07-14T14:37:00.059574Z",
     "shell.execute_reply": "2022-07-14T14:37:00.057708Z"
    },
    "papermill": {
     "duration": 0.049331,
     "end_time": "2022-07-14T14:37:00.062216",
     "exception": false,
     "start_time": "2022-07-14T14:37:00.012885",
     "status": "completed"
    },
    "tags": []
   },
   "outputs": [],
   "source": [
    "def cluster_labels1(df, features, n_clusters=20):\n",
    "    X = df.copy()\n",
    "    X_scaled = X.loc[:, features]\n",
    "    #X_scaled = (X_scaled - X_scaled.mean(axis=0)) / X_scaled.std(axis=0)\n",
    "    kmeans = KMeans(n_clusters=n_clusters, n_init=50, random_state=0)\n",
    "    X_new = pd.DataFrame()\n",
    "    X_new[\"Cluster\"] = kmeans.fit_predict(X_scaled)\n",
    "    return X_new\n",
    "\n",
    "\n",
    "def cluster_distance(df, features, n_clusters=20):\n",
    "    X = df.copy()\n",
    "    X_scaled = X.loc[:, features]\n",
    "    X_scaled = (X_scaled - X_scaled.mean(axis=0)) / X_scaled.std(axis=0)\n",
    "    kmeans = KMeans(n_clusters=20, n_init=50, random_state=0)\n",
    "    X_cd = kmeans.fit_transform(X_scaled)\n",
    "    # Label features and join to dataset\n",
    "    X_cd = pd.DataFrame(\n",
    "        X_cd, columns=[f\"Centroid_{i}\" for i in range(X_cd.shape[1])]\n",
    "    )\n",
    "    return X_cd"
   ]
  },
  {
   "cell_type": "code",
   "execution_count": 46,
   "id": "5d9a4f62",
   "metadata": {
    "execution": {
     "iopub.execute_input": "2022-07-14T14:37:00.134986Z",
     "iopub.status.busy": "2022-07-14T14:37:00.134625Z",
     "iopub.status.idle": "2022-07-14T14:37:07.732384Z",
     "shell.execute_reply": "2022-07-14T14:37:07.730968Z"
    },
    "papermill": {
     "duration": 7.638039,
     "end_time": "2022-07-14T14:37:07.735710",
     "exception": false,
     "start_time": "2022-07-14T14:37:00.097671",
     "status": "completed"
    },
    "tags": []
   },
   "outputs": [
    {
     "data": {
      "text/plain": [
       "0.13707156833281423"
      ]
     },
     "execution_count": 46,
     "metadata": {},
     "output_type": "execute_result"
    }
   ],
   "source": [
    "def create_features(df, df_test=None):\n",
    "    X = df.copy()\n",
    "    y = X.pop(\"SalePrice\")\n",
    "    mi_scores = make_mi_scores(X, y)\n",
    "\n",
    "    # Combine splits if test data is given\n",
    "    #\n",
    "    # If we're creating features for test set predictions, we should\n",
    "    # use all the data we have available. After creating our features,\n",
    "    # we'll recreate the splits.\n",
    "    if df_test is not None:\n",
    "        X_test = df_test.copy()\n",
    "        X_test.pop(\"SalePrice\")\n",
    "        X = pd.concat([X, X_test])\n",
    "\n",
    "    # Lesson 2 - Mutual Information\n",
    "    X = drop_uninformative(X, mi_scores)\n",
    "\n",
    "    # Lesson 3 - Transformations\n",
    "    # Notice that I have added some mathematical transformations above.\n",
    "    X = X.join(mathematical_transforms(X))\n",
    "    # X = X.join(mathematical_transforms1(X))\n",
    "    X = X.join(interactions(X))\n",
    "    X = X.join(counts(X))\n",
    "    # X = X.join(break_down(X))\n",
    "    X = X.join(group_transforms(X))\n",
    "\n",
    "    # Lesson 4 - Clustering\n",
    "    # X = X.join(cluster_labels(X, cluster_features, n_clusters=20))\n",
    "    # X = X.join(cluster_distance(X, cluster_features, n_clusters=20))\n",
    "\n",
    "    # Lesson 5 - PCA\n",
    "    X = X.join(pca_inspired(X))\n",
    "    # After trying for different number of components,\n",
    "    # I chose to include the first six components.\n",
    "    # X_pca = pca_components(X, pca_features).iloc[:,:1]\n",
    "    X = X.join(pca_components(X, pca_features).iloc[:,:6])\n",
    "    # X = X.join(indicate_outliers(X))\n",
    "    # X = X.join(outliers(X))\n",
    "    # X = X.join(robust_scaler(X))\n",
    "    X = label_encode(X)\n",
    "    \n",
    "    # Filling missing values with 0 for the pca components that were included.\n",
    "    X[\"PC1\"].fillna(0, inplace = True)\n",
    "    X[\"PC2\"].fillna(0, inplace = True)\n",
    "    X[\"PC3\"].fillna(0, inplace = True)\n",
    "    X[\"PC4\"].fillna(0, inplace = True)\n",
    "    X[\"PC5\"].fillna(0, inplace = True)\n",
    "    X[\"PC6\"].fillna(0, inplace = True)\n",
    "    # X[\"PC7\"].fillna(0, inplace = True)\n",
    "    \n",
    "    # I included Clustering on PCA results with the first component only\n",
    "    #X_pca = pca_components(X, pca_features)\n",
    "    X = X.join(cluster_labels(X, [\"PC1\"], n_clusters=20))\n",
    "    # X = X.join(cluster_distance(X, [\"PC1\"], n_clusters=20))\n",
    "\n",
    "    # Reform splits\n",
    "    if df_test is not None:\n",
    "        X_test = X.loc[df_test.index, :]\n",
    "        X.drop(df_test.index, inplace=True)\n",
    "\n",
    "    # Lesson 6 - Target Encoder\n",
    "    # I use CatBoostEncoder, which had similar results as the MEstimateEncoder,\n",
    "    # at least for the parameters chosen as 'a=1', in comparison with 'm=1'\n",
    "    # used for the MEstimateEncoder.\n",
    "    encoder = CrossFoldEncoder(CatBoostEncoder, a=1)\n",
    "    X = X.join(encoder.fit_transform(X, y, cols=[\"MSSubClass\"]))\n",
    "    if df_test is not None:\n",
    "        X_test = X_test.join(encoder.transform(X_test))\n",
    "\n",
    "    if df_test is not None:\n",
    "        return X, X_test\n",
    "    else:\n",
    "        return X\n",
    "\n",
    "\n",
    "df_train, df_test = load_data()\n",
    "X_train = create_features(df_train)\n",
    "y_train = df_train.loc[:, \"SalePrice\"]\n",
    "\n",
    "score_dataset(X_train, y_train)"
   ]
  },
  {
   "cell_type": "markdown",
   "id": "914728f6",
   "metadata": {
    "papermill": {
     "duration": 0.034643,
     "end_time": "2022-07-14T14:37:07.809389",
     "exception": false,
     "start_time": "2022-07-14T14:37:07.774746",
     "status": "completed"
    },
    "tags": []
   },
   "source": [
    "# Step 4 - Hyperparameter Tuning #\n",
    "\n",
    "At this stage, you might like to do some hyperparameter tuning with XGBoost before creating your final submission."
   ]
  },
  {
   "cell_type": "code",
   "execution_count": 47,
   "id": "344aa3ca",
   "metadata": {
    "execution": {
     "iopub.execute_input": "2022-07-14T14:37:07.881780Z",
     "iopub.status.busy": "2022-07-14T14:37:07.881351Z",
     "iopub.status.idle": "2022-07-14T14:37:40.681540Z",
     "shell.execute_reply": "2022-07-14T14:37:40.680498Z"
    },
    "papermill": {
     "duration": 32.867671,
     "end_time": "2022-07-14T14:37:40.712173",
     "exception": false,
     "start_time": "2022-07-14T14:37:07.844502",
     "status": "completed"
    },
    "tags": []
   },
   "outputs": [
    {
     "data": {
      "text/plain": [
       "0.12242729629858096"
      ]
     },
     "execution_count": 47,
     "metadata": {},
     "output_type": "execute_result"
    }
   ],
   "source": [
    "X_train = create_features(df_train)\n",
    "y_train = df_train.loc[:, \"SalePrice\"]\n",
    "\n",
    "# The values of the parameters 'max_depth' and 'learning_rate' here \n",
    "# were selected based on the results of a run of RandomizedSearchCV below.\n",
    "xgb_params = dict(\n",
    "    max_depth=4,           # maximum depth of each tree - try 2 to 10\n",
    "    learning_rate=0.0601,    # effect of each tree - try 0.0001 to 0.1\n",
    "    n_estimators=1000,     # number of trees (that is, boosting rounds) - try 1000 to 8000\n",
    "    min_child_weight=1,    # minimum number of houses in a leaf - try 1 to 10\n",
    "    colsample_bytree=0.7,  # fraction of features (columns) per tree - try 0.2 to 1.0\n",
    "    subsample=0.7,         # fraction of instances (rows) per tree - try 0.2 to 1.0\n",
    "    reg_alpha=0.5,         # L1 regularization (like LASSO) - try 0.0 to 10.0\n",
    "    reg_lambda=1.0,        # L2 regularization (like Ridge) - try 0.0 to 10.0\n",
    "    num_parallel_tree=1,   # set > 1 for boosted random forests\n",
    ")\n",
    "\n",
    "xgb = XGBRegressor(**xgb_params)\n",
    "score_dataset(X_train, y_train, xgb)"
   ]
  },
  {
   "cell_type": "code",
   "execution_count": 48,
   "id": "57b8e687",
   "metadata": {
    "execution": {
     "iopub.execute_input": "2022-07-14T14:37:40.789200Z",
     "iopub.status.busy": "2022-07-14T14:37:40.788521Z",
     "iopub.status.idle": "2022-07-14T14:38:48.344647Z",
     "shell.execute_reply": "2022-07-14T14:38:48.343140Z"
    },
    "papermill": {
     "duration": 67.626153,
     "end_time": "2022-07-14T14:38:48.376757",
     "exception": false,
     "start_time": "2022-07-14T14:37:40.750604",
     "status": "completed"
    },
    "tags": []
   },
   "outputs": [
    {
     "data": {
      "text/plain": [
       "0.12762820701161942"
      ]
     },
     "execution_count": 48,
     "metadata": {},
     "output_type": "execute_result"
    }
   ],
   "source": [
    "# The values of the parameters below were selected based on \n",
    "# the results of running BayesSearchCV below, WITHOUT\n",
    "# specifying a SCORING method. The RMSLE gained with these parameters\n",
    "# was WORSE than that gained with other parameters values, see above and below.\n",
    "\n",
    "#OrderedDict([('colsample_bytree', 0.33031378603108447),\n",
    " #            ('learning_rate', 0.007130191055161543),\n",
    "  #           ('max_depth', 5),\n",
    "   #          ('min_child_weight', 3),\n",
    "    #         ('n_estimators', 2797),\n",
    "     #        ('num_parallel_tree', 1),\n",
    "      #       ('reg_alpha', 3.576151522896895),\n",
    "       #      ('reg_lambda', 3.801445342683552),\n",
    "        #     ('subsample', 0.8458732968476645)])\n",
    "\n",
    "X_train = create_features(df_train)\n",
    "y_train = df_train.loc[:, \"SalePrice\"]\n",
    "\n",
    "xgb_params = dict(\n",
    "    max_depth=5,           # maximum depth of each tree - try 2 to 10\n",
    "    learning_rate=0.007130191055161543,    # effect of each tree - try 0.0001 to 0.1\n",
    "    n_estimators=2797,     # number of trees (that is, boosting rounds) - try 1000 to 8000\n",
    "    min_child_weight=3,    # minimum number of houses in a leaf - try 1 to 10\n",
    "    colsample_bytree=0.33031378603108447,  # fraction of features (columns) per tree - try 0.2 to 1.0\n",
    "    subsample=0.8458732968476645,         # fraction of instances (rows) per tree - try 0.2 to 1.0\n",
    "    reg_alpha=3.576151522896895,         # L1 regularization (like LASSO) - try 0.0 to 10.0\n",
    "    reg_lambda=3.801445342683552,        # L2 regularization (like Ridge) - try 0.0 to 10.0\n",
    "    num_parallel_tree=1,   # set > 1 for boosted random forests\n",
    ")\n",
    "\n",
    "xgb = XGBRegressor(**xgb_params)\n",
    "score_dataset(X_train, y_train, xgb)"
   ]
  },
  {
   "cell_type": "code",
   "execution_count": 49,
   "id": "3590f04d",
   "metadata": {
    "execution": {
     "iopub.execute_input": "2022-07-14T14:38:48.455867Z",
     "iopub.status.busy": "2022-07-14T14:38:48.454680Z",
     "iopub.status.idle": "2022-07-14T14:40:00.913494Z",
     "shell.execute_reply": "2022-07-14T14:40:00.912019Z"
    },
    "papermill": {
     "duration": 72.527947,
     "end_time": "2022-07-14T14:40:00.943990",
     "exception": false,
     "start_time": "2022-07-14T14:38:48.416043",
     "status": "completed"
    },
    "tags": []
   },
   "outputs": [
    {
     "data": {
      "text/plain": [
       "0.14372525612763679"
      ]
     },
     "execution_count": 49,
     "metadata": {},
     "output_type": "execute_result"
    }
   ],
   "source": [
    "# The values of the paramaters below were selected based on \n",
    "# running BayesSearchCV with scoring = 'neg_mean_squared_log_error'.\n",
    "\n",
    "#('colsample_bytree', 0.46426138664317473),\n",
    " #            ('learning_rate', 0.03955829910880301),\n",
    "  #           ('max_depth', 4),\n",
    "   #          ('min_child_weight', 4),\n",
    "    #         ('n_estimators', 3900),\n",
    "     #        ('num_parallel_tree', 1),\n",
    "      #       ('reg_alpha', 9.733199789995602),\n",
    "       #      ('reg_lambda', 0.9766822781489516),\n",
    "        #     ('subsample', 0.6357633933896558)])\n",
    "                \n",
    "X_train = create_features(df_train)\n",
    "y_train = df_train.loc[:, \"SalePrice\"]\n",
    "\n",
    "xgb_params = dict(\n",
    "    max_depth=4,           # maximum depth of each tree - try 2 to 10\n",
    "    learning_rate=0.03955829910880301,    # effect of each tree - try 0.0001 to 0.1\n",
    "    n_estimators=3900,     # number of trees (that is, boosting rounds) - try 1000 to 8000\n",
    "    min_child_weight=4,    # minimum number of houses in a leaf - try 1 to 10\n",
    "    colsample_bytree=0.46426138664317473,  # fraction of features (columns) per tree - try 0.2 to 1.0\n",
    "    subsample=0.6357633933896558,         # fraction of instances (rows) per tree - try 0.2 to 1.0\n",
    "    reg_alpha=9.733199789995602,         # L1 regularization (like LASSO) - try 0.0 to 10.0\n",
    "    reg_lambda=0.9766822781489516,        # L2 regularization (like Ridge) - try 0.0 to 10.0\n",
    "    num_parallel_tree=1,   # set > 1 for boosted random forests\n",
    ")\n",
    "\n",
    "xgb = XGBRegressor(**xgb_params)\n",
    "score_dataset(X_train, y_train, xgb)"
   ]
  },
  {
   "cell_type": "markdown",
   "id": "6ebf68bc",
   "metadata": {
    "papermill": {
     "duration": 0.038107,
     "end_time": "2022-07-14T14:40:01.017931",
     "exception": false,
     "start_time": "2022-07-14T14:40:00.979824",
     "status": "completed"
    },
    "tags": []
   },
   "source": [
    "The RMSLE gained with the parameters set as above was still higher than that gained for other parameter settings, see parameters settings above and below."
   ]
  },
  {
   "cell_type": "markdown",
   "id": "86376d05",
   "metadata": {
    "execution": {
     "iopub.execute_input": "2022-07-12T13:12:29.411487Z",
     "iopub.status.busy": "2022-07-12T13:12:29.410640Z",
     "iopub.status.idle": "2022-07-12T13:12:57.269729Z",
     "shell.execute_reply": "2022-07-12T13:12:57.267830Z",
     "shell.execute_reply.started": "2022-07-12T13:12:29.411451Z"
    },
    "papermill": {
     "duration": 0.035598,
     "end_time": "2022-07-14T14:40:01.090078",
     "exception": false,
     "start_time": "2022-07-14T14:40:01.054480",
     "status": "completed"
    },
    "tags": []
   },
   "source": [
    "### I don't currently run this cell.\n",
    "`from skopt import BayesSearchCV`\n",
    "###### parameter ranges are specified by one of below\n",
    "`from skopt.space import Real, Categorical, Integer`\n",
    "\n",
    "###### log-uniform: understand as search over p = exp(x) by varying x\n",
    "  `opt = BayesSearchCV(\n",
    "     xgb,\n",
    "     {\n",
    "'max_depth': Integer(2,10),           # maximum depth of each tree - try 2 to 10\n",
    "'learning_rate': Real(0.0001, 0.1),    # effect of each tree - try 0.0001 to 0.1\n",
    " 'n_estimators': Integer(1000, 8000),     # number of trees (that is, boosting rounds) - try 1000 to 8000\n",
    "'min_child_weight': Integer(1, 10),    # minimum number of houses in a leaf - try 1 to 10\n",
    "    'colsample_bytree':Real(0.2,1),  # fraction of features (columns) per tree - try 0.2 to 1.0\n",
    "    'subsample':Real(0.2,1),         # fraction of instances (rows) per tree - try 0.2 to 1.0\n",
    "    'reg_alpha':Real(0.0, 10.0),         # L1 regularization (like LASSO) - try 0.0 to 10.0\n",
    "    'reg_lambda':Real(0.0, 10.0),        # L2 regularization (like Ridge) - try 0.0 to 10.0\n",
    "    'num_parallel_tree':Integer(1, 2),   # set > 1 for boosted random forests        \n",
    "     },\n",
    "     n_iter=32,\n",
    "     random_state=0,\n",
    "   scoring = 'neg_mean_squared_log_error'\n",
    " )`\n",
    "\n",
    " ###### executes bayesian optimization\n",
    "`_ = opt.fit(X_train, y_train)`\n",
    "\n",
    " ###### model can be saved, used for predictions or scoring\n",
    "###### print(opt.score(X_test, y_test))\n",
    "\n",
    "###### Based on this run, opt's best params acheived are:\n",
    "OrderedDict([('colsample_bytree', 0.33031378603108447),\n",
    "            ('learning_rate', 0.007130191055161543),\n",
    "            ('max_depth', 5),\n",
    "          ('min_child_weight', 3),\n",
    "         ('n_estimators', 2797),\n",
    "             ('num_parallel_tree', 1),\n",
    "            ('reg_alpha', 3.576151522896895),\n",
    "           ('reg_lambda', 3.801445342683552),\n",
    "          ('subsample', 0.8458732968476645)])"
   ]
  },
  {
   "cell_type": "code",
   "execution_count": 50,
   "id": "0318e1ef",
   "metadata": {
    "execution": {
     "iopub.execute_input": "2022-07-14T14:40:01.165608Z",
     "iopub.status.busy": "2022-07-14T14:40:01.164846Z",
     "iopub.status.idle": "2022-07-14T14:40:01.168974Z",
     "shell.execute_reply": "2022-07-14T14:40:01.168086Z"
    },
    "papermill": {
     "duration": 0.044642,
     "end_time": "2022-07-14T14:40:01.171552",
     "exception": false,
     "start_time": "2022-07-14T14:40:01.126910",
     "status": "completed"
    },
    "tags": []
   },
   "outputs": [],
   "source": [
    "# opt.best_params_"
   ]
  },
  {
   "cell_type": "markdown",
   "id": "d2877238",
   "metadata": {
    "papermill": {
     "duration": 0.036695,
     "end_time": "2022-07-14T14:40:01.244571",
     "exception": false,
     "start_time": "2022-07-14T14:40:01.207876",
     "status": "completed"
    },
    "tags": []
   },
   "source": [
    "Opt's best parameters gained were as follows -  \n",
    "\n",
    "OrderedDict([('colsample_bytree', 0.46426138664317473),\n",
    "             ('learning_rate', 0.03955829910880301),\n",
    "             ('max_depth', 4),\n",
    "             ('min_child_weight', 4),\n",
    "             ('n_estimators', 3900),\n",
    "             ('num_parallel_tree', 1),\n",
    "             ('reg_alpha', 9.733199789995602),\n",
    "             ('reg_lambda', 0.9766822781489516),\n",
    "             ('subsample', 0.6357633933896558)])"
   ]
  },
  {
   "cell_type": "code",
   "execution_count": 51,
   "id": "f7e314f8",
   "metadata": {
    "execution": {
     "iopub.execute_input": "2022-07-14T14:40:01.319554Z",
     "iopub.status.busy": "2022-07-14T14:40:01.318840Z",
     "iopub.status.idle": "2022-07-14T14:40:01.326469Z",
     "shell.execute_reply": "2022-07-14T14:40:01.325324Z"
    },
    "papermill": {
     "duration": 0.048181,
     "end_time": "2022-07-14T14:40:01.328995",
     "exception": false,
     "start_time": "2022-07-14T14:40:01.280814",
     "status": "completed"
    },
    "tags": []
   },
   "outputs": [
    {
     "data": {
      "text/plain": [
       "['accuracy',\n",
       " 'adjusted_mutual_info_score',\n",
       " 'adjusted_rand_score',\n",
       " 'average_precision',\n",
       " 'balanced_accuracy',\n",
       " 'completeness_score',\n",
       " 'explained_variance',\n",
       " 'f1',\n",
       " 'f1_macro',\n",
       " 'f1_micro',\n",
       " 'f1_samples',\n",
       " 'f1_weighted',\n",
       " 'fowlkes_mallows_score',\n",
       " 'homogeneity_score',\n",
       " 'jaccard',\n",
       " 'jaccard_macro',\n",
       " 'jaccard_micro',\n",
       " 'jaccard_samples',\n",
       " 'jaccard_weighted',\n",
       " 'max_error',\n",
       " 'mutual_info_score',\n",
       " 'neg_brier_score',\n",
       " 'neg_log_loss',\n",
       " 'neg_mean_absolute_error',\n",
       " 'neg_mean_absolute_percentage_error',\n",
       " 'neg_mean_gamma_deviance',\n",
       " 'neg_mean_poisson_deviance',\n",
       " 'neg_mean_squared_error',\n",
       " 'neg_mean_squared_log_error',\n",
       " 'neg_median_absolute_error',\n",
       " 'neg_root_mean_squared_error',\n",
       " 'normalized_mutual_info_score',\n",
       " 'precision',\n",
       " 'precision_macro',\n",
       " 'precision_micro',\n",
       " 'precision_samples',\n",
       " 'precision_weighted',\n",
       " 'r2',\n",
       " 'rand_score',\n",
       " 'recall',\n",
       " 'recall_macro',\n",
       " 'recall_micro',\n",
       " 'recall_samples',\n",
       " 'recall_weighted',\n",
       " 'roc_auc',\n",
       " 'roc_auc_ovo',\n",
       " 'roc_auc_ovo_weighted',\n",
       " 'roc_auc_ovr',\n",
       " 'roc_auc_ovr_weighted',\n",
       " 'top_k_accuracy',\n",
       " 'v_measure_score']"
      ]
     },
     "execution_count": 51,
     "metadata": {},
     "output_type": "execute_result"
    }
   ],
   "source": [
    "from sklearn.metrics import SCORERS\n",
    "sorted(SCORERS.keys())"
   ]
  },
  {
   "cell_type": "code",
   "execution_count": 52,
   "id": "69ef4cb1",
   "metadata": {
    "execution": {
     "iopub.execute_input": "2022-07-14T14:40:01.405651Z",
     "iopub.status.busy": "2022-07-14T14:40:01.405216Z",
     "iopub.status.idle": "2022-07-14T14:40:01.410133Z",
     "shell.execute_reply": "2022-07-14T14:40:01.408921Z"
    },
    "papermill": {
     "duration": 0.046412,
     "end_time": "2022-07-14T14:40:01.413283",
     "exception": false,
     "start_time": "2022-07-14T14:40:01.366871",
     "status": "completed"
    },
    "tags": []
   },
   "outputs": [],
   "source": [
    "# opt.best_params_"
   ]
  },
  {
   "cell_type": "markdown",
   "id": "3d2883e0",
   "metadata": {
    "papermill": {
     "duration": 0.036123,
     "end_time": "2022-07-14T14:40:01.485729",
     "exception": false,
     "start_time": "2022-07-14T14:40:01.449606",
     "status": "completed"
    },
    "tags": []
   },
   "source": [
    "Opt's best parameters gained were as follows -  \n",
    "\n",
    "OrderedDict([('colsample_bytree', 0.33031378603108447),\n",
    "             ('learning_rate', 0.007130191055161543),\n",
    "             ('max_depth', 5),\n",
    "             ('min_child_weight', 3),\n",
    "             ('n_estimators', 2797),\n",
    "             ('num_parallel_tree', 1),\n",
    "             ('reg_alpha', 3.576151522896895),\n",
    "             ('reg_lambda', 3.801445342683552),\n",
    "             ('subsample', 0.8458732968476645)])"
   ]
  },
  {
   "cell_type": "code",
   "execution_count": 53,
   "id": "7eb3e645",
   "metadata": {
    "execution": {
     "iopub.execute_input": "2022-07-14T14:40:01.560491Z",
     "iopub.status.busy": "2022-07-14T14:40:01.560059Z",
     "iopub.status.idle": "2022-07-14T14:40:01.565180Z",
     "shell.execute_reply": "2022-07-14T14:40:01.563932Z"
    },
    "papermill": {
     "duration": 0.046617,
     "end_time": "2022-07-14T14:40:01.568844",
     "exception": false,
     "start_time": "2022-07-14T14:40:01.522227",
     "status": "completed"
    },
    "tags": []
   },
   "outputs": [],
   "source": [
    "# I don't currently run this cell.\n",
    "#from sklearn.model_selection import RandomizedSearchCV\n",
    "#clf = RandomizedSearchCV(xgb, param_grid, scoring = custom_scorer,\\\n",
    " #                        random_state=0)\n",
    "#clf = GridSearchCV(xgb, param_grid, scoring = custom_scorer)\n",
    "\n",
    "# Be careful running the following line, it may require too much memory\n",
    "#clf.fit(X_train, y_train)"
   ]
  },
  {
   "cell_type": "code",
   "execution_count": 54,
   "id": "2f0f4da4",
   "metadata": {
    "execution": {
     "iopub.execute_input": "2022-07-14T14:40:01.644969Z",
     "iopub.status.busy": "2022-07-14T14:40:01.644219Z",
     "iopub.status.idle": "2022-07-14T14:40:01.649590Z",
     "shell.execute_reply": "2022-07-14T14:40:01.648039Z"
    },
    "papermill": {
     "duration": 0.046713,
     "end_time": "2022-07-14T14:40:01.652405",
     "exception": false,
     "start_time": "2022-07-14T14:40:01.605692",
     "status": "completed"
    },
    "tags": []
   },
   "outputs": [],
   "source": [
    "# range(2,10)"
   ]
  },
  {
   "cell_type": "code",
   "execution_count": 55,
   "id": "03e38abc",
   "metadata": {
    "execution": {
     "iopub.execute_input": "2022-07-14T14:40:01.728242Z",
     "iopub.status.busy": "2022-07-14T14:40:01.727820Z",
     "iopub.status.idle": "2022-07-14T14:40:01.735544Z",
     "shell.execute_reply": "2022-07-14T14:40:01.734343Z"
    },
    "papermill": {
     "duration": 0.04915,
     "end_time": "2022-07-14T14:40:01.738654",
     "exception": false,
     "start_time": "2022-07-14T14:40:01.689504",
     "status": "completed"
    },
    "tags": []
   },
   "outputs": [],
   "source": [
    "param_grid = [\n",
    "  {'max_depth': range(2,10),\\\n",
    "  'learning_rate': np.arange(0.0001, 0.1, 0.01),\\\n",
    "  'n_estimators': [1000],\\\n",
    "  'min_child_weight': [1],\\\n",
    "  'colsample_bytree': [0.2],\\\n",
    "  'subsample': [0.2],\\\n",
    "  'reg_alpha': [10],\\\n",
    "  'reg_lambda': [10],\\\n",
    "  'num_parallel_tree': [1]}\n",
    "     ]\n",
    "# Best Params gained based on this param_grid were:\n",
    "#{'colsample_bytree': 0.2,\n",
    " #'learning_rate': 0.0001,\n",
    " #'max_depth': 2,\n",
    " #'min_child_weight': 1,\n",
    " #'n_estimators': 1000,\n",
    " #'num_parallel_tree': 1,\n",
    " #'reg_alpha': 10,\n",
    " #'reg_lambda': 10,\n",
    " #'subsample': 0.2}\n",
    "\n",
    "#max_depth=6,           # maximum depth of each tree - try 2 to 10\n",
    " #   learning_rate=0.01,    # effect of each tree - try 0.0001 to 0.1\n",
    "  #  n_estimators=1000,     # number of trees (that is, boosting rounds) - try 1000 to 8000\n",
    "   # min_child_weight=1,    # minimum number of houses in a leaf - try 1 to 10\n",
    "    #colsample_bytree=0.7,  # fraction of features (columns) per tree - try 0.2 to 1.0\n",
    "    #subsample=0.7,         # fraction of instances (rows) per tree - try 0.2 to 1.0\n",
    "    #reg_alpha=0.5,         # L1 regularization (like LASSO) - try 0.0 to 10.0\n",
    "    #reg_lambda=1.0,        # L2 regularization (like Ridge) - try 0.0 to 10.0\n",
    "    #num_parallel_tree=1,   # set > 1 for boosted random forests"
   ]
  },
  {
   "cell_type": "code",
   "execution_count": 56,
   "id": "10e1139f",
   "metadata": {
    "execution": {
     "iopub.execute_input": "2022-07-14T14:40:01.813079Z",
     "iopub.status.busy": "2022-07-14T14:40:01.812632Z",
     "iopub.status.idle": "2022-07-14T14:40:01.818258Z",
     "shell.execute_reply": "2022-07-14T14:40:01.816751Z"
    },
    "papermill": {
     "duration": 0.045396,
     "end_time": "2022-07-14T14:40:01.820903",
     "exception": false,
     "start_time": "2022-07-14T14:40:01.775507",
     "status": "completed"
    },
    "tags": []
   },
   "outputs": [],
   "source": [
    "from sklearn.metrics import make_scorer\n",
    "custom_scorer = make_scorer(score_dataset, greater_is_better=False)"
   ]
  },
  {
   "cell_type": "code",
   "execution_count": 57,
   "id": "0bc4af1a",
   "metadata": {
    "execution": {
     "iopub.execute_input": "2022-07-14T14:40:01.894493Z",
     "iopub.status.busy": "2022-07-14T14:40:01.894050Z",
     "iopub.status.idle": "2022-07-14T14:40:01.899509Z",
     "shell.execute_reply": "2022-07-14T14:40:01.897912Z"
    },
    "papermill": {
     "duration": 0.046239,
     "end_time": "2022-07-14T14:40:01.902664",
     "exception": false,
     "start_time": "2022-07-14T14:40:01.856425",
     "status": "completed"
    },
    "tags": []
   },
   "outputs": [],
   "source": [
    "# I don't currently run this cell.\n",
    "#from sklearn.model_selection import GridSearchCV\n",
    "#xgb = XGBRegressor()\n",
    "#clf = GridSearchCV(xgb, param_grid, scoring = custom_scorer)\n",
    "# Be careful running this line, it may require too much memory\n",
    "#clf.fit(X_train, y_train)"
   ]
  },
  {
   "cell_type": "code",
   "execution_count": 58,
   "id": "07f88bd9",
   "metadata": {
    "execution": {
     "iopub.execute_input": "2022-07-14T14:40:01.982632Z",
     "iopub.status.busy": "2022-07-14T14:40:01.981483Z",
     "iopub.status.idle": "2022-07-14T14:40:01.987455Z",
     "shell.execute_reply": "2022-07-14T14:40:01.986101Z"
    },
    "papermill": {
     "duration": 0.04932,
     "end_time": "2022-07-14T14:40:01.990085",
     "exception": false,
     "start_time": "2022-07-14T14:40:01.940765",
     "status": "completed"
    },
    "tags": []
   },
   "outputs": [],
   "source": [
    "# clf.best_params_"
   ]
  },
  {
   "cell_type": "markdown",
   "id": "925c66c1",
   "metadata": {
    "papermill": {
     "duration": 0.041907,
     "end_time": "2022-07-14T14:40:02.069542",
     "exception": false,
     "start_time": "2022-07-14T14:40:02.027635",
     "status": "completed"
    },
    "tags": []
   },
   "source": [
    "Just tuning these by hand can give you great results. However, you might like to try using one of scikit-learn's automatic [hyperparameter tuners](https://scikit-learn.org/stable/modules/grid_search.html). Or you could explore more advanced tuning libraries like [Optuna](https://optuna.readthedocs.io/en/stable/index.html) or [scikit-optimize](https://scikit-optimize.github.io/stable/).\n",
    "\n",
    "Here is how you can use Optuna with XGBoost:\n",
    "\n",
    "```\n",
    "import optuna\n",
    "\n",
    "def objective(trial):\n",
    "    xgb_params = dict(\n",
    "        max_depth=trial.suggest_int(\"max_depth\", 2, 10),\n",
    "        learning_rate=trial.suggest_float(\"learning_rate\", 1e-4, 1e-1, log=True),\n",
    "        n_estimators=trial.suggest_int(\"n_estimators\", 1000, 8000),\n",
    "        min_child_weight=trial.suggest_int(\"min_child_weight\", 1, 10),\n",
    "        colsample_bytree=trial.suggest_float(\"colsample_bytree\", 0.2, 1.0),\n",
    "        subsample=trial.suggest_float(\"subsample\", 0.2, 1.0),\n",
    "        reg_alpha=trial.suggest_float(\"reg_alpha\", 1e-4, 1e2, log=True),\n",
    "        reg_lambda=trial.suggest_float(\"reg_lambda\", 1e-4, 1e2, log=True),\n",
    "    )\n",
    "    xgb = XGBRegressor(**xgb_params)\n",
    "    return score_dataset(X_train, y_train, xgb)\n",
    "\n",
    "study = optuna.create_study(direction=\"minimize\")\n",
    "study.optimize(objective, n_trials=20)\n",
    "xgb_params = study.best_params\n",
    "```\n",
    "\n",
    "Copy this into a code cell if you'd like to use it, but be aware that it will take quite a while to run. After it's done, you might enjoy using some of [Optuna's visualizations](https://optuna.readthedocs.io/en/stable/tutorial/10_key_features/005_visualization.html)."
   ]
  },
  {
   "cell_type": "code",
   "execution_count": 59,
   "id": "498c16e6",
   "metadata": {
    "execution": {
     "iopub.execute_input": "2022-07-14T14:40:02.145468Z",
     "iopub.status.busy": "2022-07-14T14:40:02.145016Z",
     "iopub.status.idle": "2022-07-14T14:40:02.150132Z",
     "shell.execute_reply": "2022-07-14T14:40:02.148790Z"
    },
    "papermill": {
     "duration": 0.046088,
     "end_time": "2022-07-14T14:40:02.153217",
     "exception": false,
     "start_time": "2022-07-14T14:40:02.107129",
     "status": "completed"
    },
    "tags": []
   },
   "outputs": [],
   "source": [
    "# xgb_params"
   ]
  },
  {
   "cell_type": "code",
   "execution_count": 60,
   "id": "b05638df",
   "metadata": {
    "execution": {
     "iopub.execute_input": "2022-07-14T14:40:02.228342Z",
     "iopub.status.busy": "2022-07-14T14:40:02.227868Z",
     "iopub.status.idle": "2022-07-14T14:40:02.235115Z",
     "shell.execute_reply": "2022-07-14T14:40:02.233899Z"
    },
    "papermill": {
     "duration": 0.047521,
     "end_time": "2022-07-14T14:40:02.237568",
     "exception": false,
     "start_time": "2022-07-14T14:40:02.190047",
     "status": "completed"
    },
    "tags": []
   },
   "outputs": [],
   "source": [
    "# The following parameters were obtained with optuna, and they are the ones\n",
    "# I currently use in my model.\n",
    "xgb_params = {'max_depth': 8,\n",
    " 'learning_rate': 0.0030979892591252315,\n",
    " 'n_estimators': 4814,\n",
    " 'min_child_weight': 2,\n",
    " 'colsample_bytree': 0.2996065054377571,\n",
    " 'subsample': 0.7019237898243325,\n",
    " 'reg_alpha': 0.13988814702458416,\n",
    " 'reg_lambda': 0.011516065272666812}"
   ]
  },
  {
   "cell_type": "code",
   "execution_count": 61,
   "id": "29551acf",
   "metadata": {
    "execution": {
     "iopub.execute_input": "2022-07-14T14:40:02.313314Z",
     "iopub.status.busy": "2022-07-14T14:40:02.312712Z",
     "iopub.status.idle": "2022-07-14T14:42:35.553315Z",
     "shell.execute_reply": "2022-07-14T14:42:35.552100Z"
    },
    "papermill": {
     "duration": 153.313178,
     "end_time": "2022-07-14T14:42:35.586315",
     "exception": false,
     "start_time": "2022-07-14T14:40:02.273137",
     "status": "completed"
    },
    "tags": []
   },
   "outputs": [
    {
     "data": {
      "text/plain": [
       "0.11828619528482935"
      ]
     },
     "execution_count": 61,
     "metadata": {},
     "output_type": "execute_result"
    }
   ],
   "source": [
    "xgb = XGBRegressor(**xgb_params)\n",
    "score_dataset(X_train, y_train, xgb)"
   ]
  },
  {
   "cell_type": "markdown",
   "id": "ba46927a",
   "metadata": {
    "papermill": {
     "duration": 0.03592,
     "end_time": "2022-07-14T14:42:35.658690",
     "exception": false,
     "start_time": "2022-07-14T14:42:35.622770",
     "status": "completed"
    },
    "tags": []
   },
   "source": [
    "### I don't currently run this cell.\n",
    "from skopt import BayesSearchCV\n",
    "from sklearn.datasets import load_digits\n",
    "from sklearn.svm import SVC\n",
    "from sklearn.model_selection import train_test_split\n",
    "\n",
    "X, y = load_digits(n_class=10, return_X_y=True)\n",
    "X_train, X_test, y_train, y_test = train_test_split(X, y, train_size=0.75, test_size=.25, random_state=0)\n",
    "\n",
    "###### log-uniform: understand as search over p = exp(x) by varying x\n",
    "opt = BayesSearchCV(\n",
    "    SVC(),\n",
    "    {\n",
    "        'C': (1e-6, 1e+6, 'log-uniform'),\n",
    "        'gamma': (1e-6, 1e+1, 'log-uniform'),\n",
    "        'degree': (1, 8),  # integer valued parameter\n",
    "        'kernel': ['linear', 'poly', 'rbf'],  # categorical parameter\n",
    "    },\n",
    "    n_iter=32,\n",
    "    cv=3\n",
    ")\n",
    "\n",
    "opt.fit(X_train, y_train)\n",
    "\n",
    "print(\"val. score: %s\" % opt.best_score_)\n",
    "print(\"test score: %s\" % opt.score(X_test, y_test))"
   ]
  },
  {
   "cell_type": "markdown",
   "id": "8a72ed71",
   "metadata": {
    "execution": {
     "iopub.execute_input": "2022-07-12T15:10:47.922371Z",
     "iopub.status.busy": "2022-07-12T15:10:47.921999Z",
     "iopub.status.idle": "2022-07-12T15:51:17.007863Z",
     "shell.execute_reply": "2022-07-12T15:51:17.007026Z",
     "shell.execute_reply.started": "2022-07-12T15:10:47.922341Z"
    },
    "papermill": {
     "duration": 0.035604,
     "end_time": "2022-07-14T14:42:35.730484",
     "exception": false,
     "start_time": "2022-07-14T14:42:35.694880",
     "status": "completed"
    },
    "tags": []
   },
   "source": [
    "### I don't currently run this cell.\n",
    "`import optuna\n",
    "\n",
    "def objective(trial):\n",
    "    xgb_params = dict(\n",
    "        max_depth=trial.suggest_int(\"max_depth\", 2, 10),\n",
    "        learning_rate=trial.suggest_float(\"learning_rate\", 1e-4, 1e-1, log=True),\n",
    "        n_estimators=trial.suggest_int(\"n_estimators\", 1000, 8000),\n",
    "        min_child_weight=trial.suggest_int(\"min_child_weight\", 1, 10),\n",
    "        colsample_bytree=trial.suggest_float(\"colsample_bytree\", 0.2, 1.0),\n",
    "        subsample=trial.suggest_float(\"subsample\", 0.2, 1.0),\n",
    "        reg_alpha=trial.suggest_float(\"reg_alpha\", 1e-4, 1e2, log=True),\n",
    "        reg_lambda=trial.suggest_float(\"reg_lambda\", 1e-4, 1e2, log=True),\n",
    "    )\n",
    "    xgb = XGBRegressor(**xgb_params)\n",
    "    return score_dataset(X_train, y_train, xgb)\n",
    "\n",
    "study = optuna.create_study(direction=\"minimize\")\n",
    "study.optimize(objective, n_trials=20)\n",
    "xgb_params = study.best_params`"
   ]
  },
  {
   "cell_type": "markdown",
   "id": "ba37eac6",
   "metadata": {
    "papermill": {
     "duration": 0.036201,
     "end_time": "2022-07-14T14:42:35.802649",
     "exception": false,
     "start_time": "2022-07-14T14:42:35.766448",
     "status": "completed"
    },
    "tags": []
   },
   "source": [
    "### I don't currently run this cell.\n",
    "`from skopt import BayesSearchCV\n",
    "###### parameter ranges are specified by one of below\n",
    "from skopt.space import Real, Categorical, Integer\n",
    "\n",
    "from sklearn.datasets import load_iris\n",
    "from sklearn.svm import SVC\n",
    "from sklearn.model_selection import train_test_split\n",
    "\n",
    "X, y = load_iris(True)\n",
    "X_train, X_test, y_train, y_test = train_test_split(X, y,\n",
    "                                                     train_size=0.75,\n",
    "                                                     random_state=0)\n",
    "\n",
    "###### log-uniform: understand as search over p = exp(x) by varying x\n",
    "opt = BayesSearchCV(\n",
    "     SVC(),\n",
    "     {\n",
    "         'C': Real(1e-6, 1e+6, prior='log-uniform'),\n",
    "         'gamma': Real(1e-6, 1e+1, prior='log-uniform'),\n",
    "         'degree': Integer(1,8),\n",
    "         'kernel': Categorical(['linear', 'poly', 'rbf']),\n",
    "    },\n",
    "     n_iter=32,\n",
    "     random_state=0\n",
    " )\n",
    "\n",
    "###### executes bayesian optimization\n",
    "_ = opt.fit(X_train, y_train)\n",
    "\n",
    "###### model can be saved, used for predictions or scoring\n",
    "print(opt.score(X_test, y_test))`"
   ]
  },
  {
   "cell_type": "markdown",
   "id": "8bbd3d00",
   "metadata": {
    "papermill": {
     "duration": 0.035638,
     "end_time": "2022-07-14T14:42:35.875821",
     "exception": false,
     "start_time": "2022-07-14T14:42:35.840183",
     "status": "completed"
    },
    "tags": []
   },
   "source": [
    "### I don't currently run this cell.\n",
    "reg = GradientBoostingRegressor(n_estimators=50, random_state=0)\n",
    "\n",
    "###### Next, we need to define the bounds of the dimensions of the search space we want to explore and pick the objective. In this case the cross-validation mean absolute error of a gradient boosting regressor over the Boston dataset, as a function of its hyper-parameters.\n",
    "\n",
    "from skopt.space import Real, Integer\n",
    "from skopt.utils import use_named_args\n",
    "\n",
    "\n",
    "###### The list of hyper-parameters we want to optimize. For each one we define the\n",
    "###### bounds, the corresponding scikit-learn parameter name, as well as how to\n",
    "###### sample values from that dimension (`'log-uniform'` for the learning rate)\n",
    "space  = [Integer(1, 5, name='max_depth'),\n",
    "          Real(10**-5, 10**0, \"log-uniform\", name='learning_rate'),\n",
    "          Integer(1, n_features, name='max_features'),\n",
    "          Integer(2, 100, name='min_samples_split'),\n",
    "          Integer(1, 100, name='min_samples_leaf')]\n",
    "\n",
    "###### this decorator allows your objective function to receive a the parameters as\n",
    "###### keyword arguments. This is particularly convenient when you want to set\n",
    "###### scikit-learn estimator parameters\n",
    "@use_named_args(space)\n",
    "def objective(**params):\n",
    "    reg.set_params(**params)\n",
    "\n",
    "    return -np.mean(cross_val_score(reg, X, y, cv=5, n_jobs=-1,\n",
    "                                    scoring=\"neg_mean_absolute_error\"))\n",
    "\n",
    "###### Optimize all the things!\n",
    "from skopt import gp_minimize\n",
    "res_gp = gp_minimize(objective, space, n_calls=50, random_state=0)\n",
    "\n",
    "\"Best score=%.4f\" % res_gp.fun\n",
    "\n",
    "Out:\n",
    "\n",
    "'Best score=2.9593'\n",
    "\n",
    "print(\"\"\"Best parameters:\n",
    "- max_depth=%d\n",
    "- learning_rate=%.6f\n",
    "- max_features=%d\n",
    "- min_samples_split=%d\n",
    "- min_samples_leaf=%d\"\"\" % (res_gp.x[0], res_gp.x[1],\n",
    "                            res_gp.x[2], res_gp.x[3],\n",
    "                            res_gp.x[4]))\n",
    "\n",
    "from skopt.plots import plot_convergence\n",
    "\n",
    "plot_convergence(res_gp)"
   ]
  },
  {
   "cell_type": "markdown",
   "id": "1b221bee",
   "metadata": {
    "execution": {
     "iopub.execute_input": "2022-07-12T16:01:05.579602Z",
     "iopub.status.busy": "2022-07-12T16:01:05.579227Z",
     "iopub.status.idle": "2022-07-12T16:01:08.518926Z",
     "shell.execute_reply": "2022-07-12T16:01:08.517691Z",
     "shell.execute_reply.started": "2022-07-12T16:01:05.579573Z"
    },
    "papermill": {
     "duration": 0.035769,
     "end_time": "2022-07-14T14:42:35.947959",
     "exception": false,
     "start_time": "2022-07-14T14:42:35.912190",
     "status": "completed"
    },
    "tags": []
   },
   "source": [
    "### I don't currently run this cell.\n",
    "`from optuna.visualization import plot_contour\n",
    "from optuna.visualization import plot_edf\n",
    "from optuna.visualization import plot_intermediate_values\n",
    "from optuna.visualization import plot_optimization_history\n",
    "from optuna.visualization import plot_parallel_coordinate\n",
    "from optuna.visualization import plot_param_importances\n",
    "from optuna.visualization import plot_slice\n",
    "display(plot_optimization_history(study))\n",
    "display(plot_intermediate_values(study))\n",
    "display(plot_parallel_coordinate(study))\n",
    "display(plot_contour(study))\n",
    "display(plot_slice(study))\n",
    "display(plot_param_importances(study))\n",
    "display(plot_edf(study))`"
   ]
  },
  {
   "cell_type": "markdown",
   "id": "55c665a1",
   "metadata": {
    "papermill": {
     "duration": 0.038638,
     "end_time": "2022-07-14T14:42:36.023681",
     "exception": false,
     "start_time": "2022-07-14T14:42:35.985043",
     "status": "completed"
    },
    "tags": []
   },
   "source": [
    "# Step 5 - Train Model and Create Submissions #\n",
    "\n",
    "Once you're satisfied with everything, it's time to create your final predictions! This cell will:\n",
    "- create your feature set from the original data\n",
    "- train XGBoost on the training data\n",
    "- use the trained model to make predictions from the test set\n",
    "- save the predictions to a CSV file"
   ]
  },
  {
   "cell_type": "code",
   "execution_count": 62,
   "id": "ab8cc86a",
   "metadata": {
    "execution": {
     "iopub.execute_input": "2022-07-14T14:42:36.101317Z",
     "iopub.status.busy": "2022-07-14T14:42:36.100587Z",
     "iopub.status.idle": "2022-07-14T14:43:13.120869Z",
     "shell.execute_reply": "2022-07-14T14:43:13.119510Z"
    },
    "papermill": {
     "duration": 37.096118,
     "end_time": "2022-07-14T14:43:13.156372",
     "exception": false,
     "start_time": "2022-07-14T14:42:36.060254",
     "status": "completed"
    },
    "tags": []
   },
   "outputs": [
    {
     "name": "stdout",
     "output_type": "stream",
     "text": [
      "Your submission was successfully saved!\n"
     ]
    }
   ],
   "source": [
    "X_train, X_test = create_features(df_train, df_test)\n",
    "y_train = df_train.loc[:, \"SalePrice\"]\n",
    "\n",
    "xgb = XGBRegressor(**xgb_params)\n",
    "# XGB minimizes MSE, but competition loss is RMSLE\n",
    "# So, we need to log-transform y to train and exp-transform the predictions\n",
    "xgb.fit(X_train, np.log(y))\n",
    "predictions = np.exp(xgb.predict(X_test))\n",
    "\n",
    "output = pd.DataFrame({'Id': X_test.index, 'SalePrice': predictions})\n",
    "output.to_csv('my_submission.csv', index=False)\n",
    "print(\"Your submission was successfully saved!\")"
   ]
  },
  {
   "cell_type": "markdown",
   "id": "ab98e54f",
   "metadata": {
    "papermill": {
     "duration": 0.036198,
     "end_time": "2022-07-14T14:43:13.230712",
     "exception": false,
     "start_time": "2022-07-14T14:43:13.194514",
     "status": "completed"
    },
    "tags": []
   },
   "source": [
    "To submit these predictions to the competition, follow these steps:\n",
    "\n",
    "1. Begin by clicking on the blue **Save Version** button in the top right corner of the window.  This will generate a pop-up window.\n",
    "2. Ensure that the **Save and Run All** option is selected, and then click on the blue **Save** button.\n",
    "3. This generates a window in the bottom left corner of the notebook.  After it has finished running, click on the number to the right of the **Save Version** button.  This pulls up a list of versions on the right of the screen.  Click on the ellipsis **(...)** to the right of the most recent version, and select **Open in Viewer**.  This brings you into view mode of the same page. You will need to scroll down to get back to these instructions.\n",
    "4. Click on the **Output** tab on the right of the screen.  Then, click on the file you would like to submit, and click on the blue **Submit** button to submit your results to the leaderboard.\n",
    "\n",
    "You have now successfully submitted to the competition!\n",
    "\n",
    "# Next Steps #\n",
    "\n",
    "If you want to keep working to improve your performance, select the blue **Edit** button in the top right of the screen. Then you can change your code and repeat the process. There's a lot of room to improve, and you will climb up the leaderboard as you work.\n",
    "\n",
    "Be sure to check out [other users' notebooks](https://www.kaggle.com/c/house-prices-advanced-regression-techniques/notebooks) in this competition. You'll find lots of great ideas for new features and as well as other ways to discover more things about the dataset or make better predictions. There's also the [discussion forum](https://www.kaggle.com/c/house-prices-advanced-regression-techniques/discussion), where you can share ideas with other Kagglers.\n",
    "\n",
    "Have fun Kaggling!"
   ]
  },
  {
   "cell_type": "markdown",
   "id": "5ca2cb2d",
   "metadata": {
    "papermill": {
     "duration": 0.038587,
     "end_time": "2022-07-14T14:43:13.311446",
     "exception": false,
     "start_time": "2022-07-14T14:43:13.272859",
     "status": "completed"
    },
    "tags": []
   },
   "source": [
    "---\n",
    "\n",
    "\n",
    "\n",
    "\n",
    "*Have questions or comments? Visit the [course discussion forum](https://www.kaggle.com/learn/feature-engineering/discussion) to chat with other learners.*"
   ]
  }
 ],
 "metadata": {
  "kernelspec": {
   "display_name": "Python 3",
   "language": "python",
   "name": "python3"
  },
  "language_info": {
   "codemirror_mode": {
    "name": "ipython",
    "version": 3
   },
   "file_extension": ".py",
   "mimetype": "text/x-python",
   "name": "python",
   "nbconvert_exporter": "python",
   "pygments_lexer": "ipython3",
   "version": "3.7.12"
  },
  "papermill": {
   "default_parameters": {},
   "duration": 408.115802,
   "end_time": "2022-07-14T14:43:14.274270",
   "environment_variables": {},
   "exception": null,
   "input_path": "__notebook__.ipynb",
   "output_path": "__notebook__.ipynb",
   "parameters": {},
   "start_time": "2022-07-14T14:36:26.158468",
   "version": "2.3.4"
  }
 },
 "nbformat": 4,
 "nbformat_minor": 5
}
