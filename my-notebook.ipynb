{
 "cells": [
  {
   "cell_type": "markdown",
   "id": "f568a549",
   "metadata": {
    "papermill": {
     "duration": 0.010086,
     "end_time": "2022-06-15T17:02:24.972887",
     "exception": false,
     "start_time": "2022-06-15T17:02:24.962801",
     "status": "completed"
    },
    "tags": []
   },
   "source": [
    "## **Set up and importing libraries**"
   ]
  },
  {
   "cell_type": "code",
   "execution_count": 1,
   "id": "67750909",
   "metadata": {
    "_cell_guid": "b1076dfc-b9ad-4769-8c92-a6c4dae69d19",
    "_uuid": "8f2839f25d086af736a60e9eeb907d3b93b6e0e5",
    "execution": {
     "iopub.execute_input": "2022-06-15T17:02:24.989118Z",
     "iopub.status.busy": "2022-06-15T17:02:24.988107Z",
     "iopub.status.idle": "2022-06-15T17:02:26.209014Z",
     "shell.execute_reply": "2022-06-15T17:02:26.207232Z"
    },
    "papermill": {
     "duration": 1.232097,
     "end_time": "2022-06-15T17:02:26.211638",
     "exception": false,
     "start_time": "2022-06-15T17:02:24.979541",
     "status": "completed"
    },
    "tags": []
   },
   "outputs": [
    {
     "name": "stdout",
     "output_type": "stream",
     "text": [
      "Setup Complete\n"
     ]
    }
   ],
   "source": [
    "# importing libraries\n",
    "import pandas as pd\n",
    "pd.plotting.register_matplotlib_converters()\n",
    "import matplotlib.pyplot as plt\n",
    "%matplotlib inline\n",
    "import seaborn as sns\n",
    "print(\"Setup Complete\")"
   ]
  },
  {
   "cell_type": "markdown",
   "id": "5449d620",
   "metadata": {
    "papermill": {
     "duration": 0.006256,
     "end_time": "2022-06-15T17:02:26.224591",
     "exception": false,
     "start_time": "2022-06-15T17:02:26.218335",
     "status": "completed"
    },
    "tags": []
   },
   "source": [
    "## **Download Dataset - Covid19 deaths and vaccinations**"
   ]
  },
  {
   "cell_type": "code",
   "execution_count": 2,
   "id": "750b3db9",
   "metadata": {
    "execution": {
     "iopub.execute_input": "2022-06-15T17:02:26.239664Z",
     "iopub.status.busy": "2022-06-15T17:02:26.239105Z",
     "iopub.status.idle": "2022-06-15T17:02:26.641206Z",
     "shell.execute_reply": "2022-06-15T17:02:26.640188Z"
    },
    "papermill": {
     "duration": 0.41239,
     "end_time": "2022-06-15T17:02:26.643587",
     "exception": false,
     "start_time": "2022-06-15T17:02:26.231197",
     "status": "completed"
    },
    "tags": []
   },
   "outputs": [
    {
     "data": {
      "text/html": [
       "<div>\n",
       "<style scoped>\n",
       "    .dataframe tbody tr th:only-of-type {\n",
       "        vertical-align: middle;\n",
       "    }\n",
       "\n",
       "    .dataframe tbody tr th {\n",
       "        vertical-align: top;\n",
       "    }\n",
       "\n",
       "    .dataframe thead th {\n",
       "        text-align: right;\n",
       "    }\n",
       "</style>\n",
       "<table border=\"1\" class=\"dataframe\">\n",
       "  <thead>\n",
       "    <tr style=\"text-align: right;\">\n",
       "      <th></th>\n",
       "      <th>iso_code</th>\n",
       "      <th>continent</th>\n",
       "      <th>location</th>\n",
       "      <th>date</th>\n",
       "      <th>total_cases</th>\n",
       "      <th>new_cases</th>\n",
       "      <th>total_deaths</th>\n",
       "      <th>new_deaths</th>\n",
       "      <th>total_vaccinations</th>\n",
       "      <th>people_vaccinated</th>\n",
       "      <th>people_fully_vaccinated</th>\n",
       "      <th>total_boosters</th>\n",
       "      <th>new_vaccinations</th>\n",
       "    </tr>\n",
       "  </thead>\n",
       "  <tbody>\n",
       "    <tr>\n",
       "      <th>0</th>\n",
       "      <td>AFG</td>\n",
       "      <td>Asia</td>\n",
       "      <td>Afghanistan</td>\n",
       "      <td>24/02/20</td>\n",
       "      <td>5.0</td>\n",
       "      <td>5.0</td>\n",
       "      <td>NaN</td>\n",
       "      <td>NaN</td>\n",
       "      <td>NaN</td>\n",
       "      <td>NaN</td>\n",
       "      <td>NaN</td>\n",
       "      <td>NaN</td>\n",
       "      <td>NaN</td>\n",
       "    </tr>\n",
       "    <tr>\n",
       "      <th>1</th>\n",
       "      <td>AFG</td>\n",
       "      <td>Asia</td>\n",
       "      <td>Afghanistan</td>\n",
       "      <td>25/02/20</td>\n",
       "      <td>5.0</td>\n",
       "      <td>0.0</td>\n",
       "      <td>NaN</td>\n",
       "      <td>NaN</td>\n",
       "      <td>NaN</td>\n",
       "      <td>NaN</td>\n",
       "      <td>NaN</td>\n",
       "      <td>NaN</td>\n",
       "      <td>NaN</td>\n",
       "    </tr>\n",
       "    <tr>\n",
       "      <th>2</th>\n",
       "      <td>AFG</td>\n",
       "      <td>Asia</td>\n",
       "      <td>Afghanistan</td>\n",
       "      <td>26/02/20</td>\n",
       "      <td>5.0</td>\n",
       "      <td>0.0</td>\n",
       "      <td>NaN</td>\n",
       "      <td>NaN</td>\n",
       "      <td>NaN</td>\n",
       "      <td>NaN</td>\n",
       "      <td>NaN</td>\n",
       "      <td>NaN</td>\n",
       "      <td>NaN</td>\n",
       "    </tr>\n",
       "    <tr>\n",
       "      <th>3</th>\n",
       "      <td>AFG</td>\n",
       "      <td>Asia</td>\n",
       "      <td>Afghanistan</td>\n",
       "      <td>27/02/20</td>\n",
       "      <td>5.0</td>\n",
       "      <td>0.0</td>\n",
       "      <td>NaN</td>\n",
       "      <td>NaN</td>\n",
       "      <td>NaN</td>\n",
       "      <td>NaN</td>\n",
       "      <td>NaN</td>\n",
       "      <td>NaN</td>\n",
       "      <td>NaN</td>\n",
       "    </tr>\n",
       "    <tr>\n",
       "      <th>4</th>\n",
       "      <td>AFG</td>\n",
       "      <td>Asia</td>\n",
       "      <td>Afghanistan</td>\n",
       "      <td>28/02/20</td>\n",
       "      <td>5.0</td>\n",
       "      <td>0.0</td>\n",
       "      <td>NaN</td>\n",
       "      <td>NaN</td>\n",
       "      <td>NaN</td>\n",
       "      <td>NaN</td>\n",
       "      <td>NaN</td>\n",
       "      <td>NaN</td>\n",
       "      <td>NaN</td>\n",
       "    </tr>\n",
       "  </tbody>\n",
       "</table>\n",
       "</div>"
      ],
      "text/plain": [
       "  iso_code continent     location      date  total_cases  new_cases  \\\n",
       "0      AFG      Asia  Afghanistan  24/02/20          5.0        5.0   \n",
       "1      AFG      Asia  Afghanistan  25/02/20          5.0        0.0   \n",
       "2      AFG      Asia  Afghanistan  26/02/20          5.0        0.0   \n",
       "3      AFG      Asia  Afghanistan  27/02/20          5.0        0.0   \n",
       "4      AFG      Asia  Afghanistan  28/02/20          5.0        0.0   \n",
       "\n",
       "   total_deaths  new_deaths  total_vaccinations  people_vaccinated  \\\n",
       "0           NaN         NaN                 NaN                NaN   \n",
       "1           NaN         NaN                 NaN                NaN   \n",
       "2           NaN         NaN                 NaN                NaN   \n",
       "3           NaN         NaN                 NaN                NaN   \n",
       "4           NaN         NaN                 NaN                NaN   \n",
       "\n",
       "   people_fully_vaccinated  total_boosters  new_vaccinations  \n",
       "0                      NaN             NaN               NaN  \n",
       "1                      NaN             NaN               NaN  \n",
       "2                      NaN             NaN               NaN  \n",
       "3                      NaN             NaN               NaN  \n",
       "4                      NaN             NaN               NaN  "
      ]
     },
     "execution_count": 2,
     "metadata": {},
     "output_type": "execute_result"
    }
   ],
   "source": [
    "# downloading dataset (covid19 data deaths and vaccinations) and presenting first 5 rows\n",
    "file_path = \"../input/covid19-data-deaths-and-vaccinations/covid_data_cleaned.csv\"\n",
    "my_data = pd.read_csv(file_path, parse_dates = True)\n",
    "# Displaying first few rows of data\n",
    "my_data.head()"
   ]
  },
  {
   "cell_type": "markdown",
   "id": "a5e10226",
   "metadata": {
    "papermill": {
     "duration": 0.006846,
     "end_time": "2022-06-15T17:02:26.657724",
     "exception": false,
     "start_time": "2022-06-15T17:02:26.650878",
     "status": "completed"
    },
    "tags": []
   },
   "source": [
    "## **Missing Values**"
   ]
  },
  {
   "cell_type": "code",
   "execution_count": 3,
   "id": "4c34d18d",
   "metadata": {
    "execution": {
     "iopub.execute_input": "2022-06-15T17:02:26.673905Z",
     "iopub.status.busy": "2022-06-15T17:02:26.672897Z",
     "iopub.status.idle": "2022-06-15T17:02:26.765018Z",
     "shell.execute_reply": "2022-06-15T17:02:26.763900Z"
    },
    "papermill": {
     "duration": 0.102833,
     "end_time": "2022-06-15T17:02:26.767597",
     "exception": false,
     "start_time": "2022-06-15T17:02:26.664764",
     "status": "completed"
    },
    "tags": []
   },
   "outputs": [
    {
     "data": {
      "text/plain": [
       "iso_code                        0\n",
       "continent                   10723\n",
       "location                        0\n",
       "date                            0\n",
       "total_cases                  6838\n",
       "new_cases                    7051\n",
       "total_deaths                25116\n",
       "new_deaths                  25119\n",
       "total_vaccinations         133572\n",
       "people_vaccinated          136019\n",
       "people_fully_vaccinated    138517\n",
       "total_boosters             161152\n",
       "new_vaccinations           142523\n",
       "dtype: int64"
      ]
     },
     "execution_count": 3,
     "metadata": {},
     "output_type": "execute_result"
    }
   ],
   "source": [
    "# Checking for missing values in all columns\n",
    "my_data.isnull().sum()"
   ]
  },
  {
   "cell_type": "markdown",
   "id": "327a7250",
   "metadata": {
    "papermill": {
     "duration": 0.006688,
     "end_time": "2022-06-15T17:02:26.781383",
     "exception": false,
     "start_time": "2022-06-15T17:02:26.774695",
     "status": "completed"
    },
    "tags": []
   },
   "source": [
    "## **Size of dataset**"
   ]
  },
  {
   "cell_type": "code",
   "execution_count": 4,
   "id": "5a847ccd",
   "metadata": {
    "execution": {
     "iopub.execute_input": "2022-06-15T17:02:26.797461Z",
     "iopub.status.busy": "2022-06-15T17:02:26.797049Z",
     "iopub.status.idle": "2022-06-15T17:02:26.802226Z",
     "shell.execute_reply": "2022-06-15T17:02:26.801490Z"
    },
    "papermill": {
     "duration": 0.015357,
     "end_time": "2022-06-15T17:02:26.803938",
     "exception": false,
     "start_time": "2022-06-15T17:02:26.788581",
     "status": "completed"
    },
    "tags": []
   },
   "outputs": [
    {
     "data": {
      "text/plain": [
       "(183583, 13)"
      ]
     },
     "execution_count": 4,
     "metadata": {},
     "output_type": "execute_result"
    }
   ],
   "source": [
    "# How many rows and columns are in the downloaded dataset\n",
    "my_data.shape"
   ]
  },
  {
   "cell_type": "markdown",
   "id": "7d8b727a",
   "metadata": {
    "papermill": {
     "duration": 0.007256,
     "end_time": "2022-06-15T17:02:26.818340",
     "exception": false,
     "start_time": "2022-06-15T17:02:26.811084",
     "status": "completed"
    },
    "tags": []
   },
   "source": [
    "## **Filter to include only most recent date**"
   ]
  },
  {
   "cell_type": "code",
   "execution_count": 5,
   "id": "6c24177f",
   "metadata": {
    "execution": {
     "iopub.execute_input": "2022-06-15T17:02:26.835984Z",
     "iopub.status.busy": "2022-06-15T17:02:26.835045Z",
     "iopub.status.idle": "2022-06-15T17:02:26.894169Z",
     "shell.execute_reply": "2022-06-15T17:02:26.892113Z"
    },
    "papermill": {
     "duration": 0.071236,
     "end_time": "2022-06-15T17:02:26.897478",
     "exception": false,
     "start_time": "2022-06-15T17:02:26.826242",
     "status": "completed"
    },
    "tags": []
   },
   "outputs": [
    {
     "name": "stdout",
     "output_type": "stream",
     "text": [
      "Number of different dates: 854\n",
      "Most recent date: 31/12/21\n"
     ]
    }
   ],
   "source": [
    "# How many different dates are in the downloaded dataset?\n",
    "print(f'Number of different dates: {my_data.date.nunique()}')\n",
    "# What is the last (most recent) date in the downloaded dataset?\n",
    "print(f'Most recent date: {my_data.date.max()}')"
   ]
  },
  {
   "cell_type": "code",
   "execution_count": 6,
   "id": "4a379dae",
   "metadata": {
    "execution": {
     "iopub.execute_input": "2022-06-15T17:02:26.914136Z",
     "iopub.status.busy": "2022-06-15T17:02:26.913191Z",
     "iopub.status.idle": "2022-06-15T17:02:26.998884Z",
     "shell.execute_reply": "2022-06-15T17:02:26.997579Z"
    },
    "papermill": {
     "duration": 0.096455,
     "end_time": "2022-06-15T17:02:27.001360",
     "exception": false,
     "start_time": "2022-06-15T17:02:26.904905",
     "status": "completed"
    },
    "tags": []
   },
   "outputs": [
    {
     "data": {
      "text/html": [
       "<div>\n",
       "<style scoped>\n",
       "    .dataframe tbody tr th:only-of-type {\n",
       "        vertical-align: middle;\n",
       "    }\n",
       "\n",
       "    .dataframe tbody tr th {\n",
       "        vertical-align: top;\n",
       "    }\n",
       "\n",
       "    .dataframe thead th {\n",
       "        text-align: right;\n",
       "    }\n",
       "</style>\n",
       "<table border=\"1\" class=\"dataframe\">\n",
       "  <thead>\n",
       "    <tr style=\"text-align: right;\">\n",
       "      <th></th>\n",
       "      <th>iso_code</th>\n",
       "      <th>continent</th>\n",
       "      <th>location</th>\n",
       "      <th>date</th>\n",
       "      <th>total_cases</th>\n",
       "      <th>new_cases</th>\n",
       "      <th>total_deaths</th>\n",
       "      <th>new_deaths</th>\n",
       "      <th>total_vaccinations</th>\n",
       "      <th>people_vaccinated</th>\n",
       "      <th>people_fully_vaccinated</th>\n",
       "      <th>total_boosters</th>\n",
       "      <th>new_vaccinations</th>\n",
       "    </tr>\n",
       "  </thead>\n",
       "  <tbody>\n",
       "    <tr>\n",
       "      <th>676</th>\n",
       "      <td>AFG</td>\n",
       "      <td>Asia</td>\n",
       "      <td>Afghanistan</td>\n",
       "      <td>31/12/21</td>\n",
       "      <td>158084.0</td>\n",
       "      <td>28.0</td>\n",
       "      <td>7356.0</td>\n",
       "      <td>0.0</td>\n",
       "      <td>NaN</td>\n",
       "      <td>NaN</td>\n",
       "      <td>NaN</td>\n",
       "      <td>NaN</td>\n",
       "      <td>NaN</td>\n",
       "    </tr>\n",
       "    <tr>\n",
       "      <th>1487</th>\n",
       "      <td>OWID_AFR</td>\n",
       "      <td>NaN</td>\n",
       "      <td>Africa</td>\n",
       "      <td>31/12/21</td>\n",
       "      <td>9756168.0</td>\n",
       "      <td>52550.0</td>\n",
       "      <td>228453.0</td>\n",
       "      <td>241.0</td>\n",
       "      <td>303508220.0</td>\n",
       "      <td>193654677.0</td>\n",
       "      <td>125198111.0</td>\n",
       "      <td>892142.0</td>\n",
       "      <td>2944695.0</td>\n",
       "    </tr>\n",
       "    <tr>\n",
       "      <th>2286</th>\n",
       "      <td>ALB</td>\n",
       "      <td>Europe</td>\n",
       "      <td>Albania</td>\n",
       "      <td>31/12/21</td>\n",
       "      <td>210224.0</td>\n",
       "      <td>1325.0</td>\n",
       "      <td>3217.0</td>\n",
       "      <td>5.0</td>\n",
       "      <td>NaN</td>\n",
       "      <td>NaN</td>\n",
       "      <td>NaN</td>\n",
       "      <td>NaN</td>\n",
       "      <td>NaN</td>\n",
       "    </tr>\n",
       "    <tr>\n",
       "      <th>3085</th>\n",
       "      <td>DZA</td>\n",
       "      <td>Africa</td>\n",
       "      <td>Algeria</td>\n",
       "      <td>31/12/21</td>\n",
       "      <td>218432.0</td>\n",
       "      <td>395.0</td>\n",
       "      <td>6276.0</td>\n",
       "      <td>5.0</td>\n",
       "      <td>NaN</td>\n",
       "      <td>NaN</td>\n",
       "      <td>NaN</td>\n",
       "      <td>NaN</td>\n",
       "      <td>NaN</td>\n",
       "    </tr>\n",
       "    <tr>\n",
       "      <th>3878</th>\n",
       "      <td>AND</td>\n",
       "      <td>Europe</td>\n",
       "      <td>Andorra</td>\n",
       "      <td>31/12/21</td>\n",
       "      <td>23740.0</td>\n",
       "      <td>618.0</td>\n",
       "      <td>140.0</td>\n",
       "      <td>0.0</td>\n",
       "      <td>NaN</td>\n",
       "      <td>NaN</td>\n",
       "      <td>NaN</td>\n",
       "      <td>NaN</td>\n",
       "      <td>NaN</td>\n",
       "    </tr>\n",
       "  </tbody>\n",
       "</table>\n",
       "</div>"
      ],
      "text/plain": [
       "      iso_code continent     location      date  total_cases  new_cases  \\\n",
       "676        AFG      Asia  Afghanistan  31/12/21     158084.0       28.0   \n",
       "1487  OWID_AFR       NaN       Africa  31/12/21    9756168.0    52550.0   \n",
       "2286       ALB    Europe      Albania  31/12/21     210224.0     1325.0   \n",
       "3085       DZA    Africa      Algeria  31/12/21     218432.0      395.0   \n",
       "3878       AND    Europe      Andorra  31/12/21      23740.0      618.0   \n",
       "\n",
       "      total_deaths  new_deaths  total_vaccinations  people_vaccinated  \\\n",
       "676         7356.0         0.0                 NaN                NaN   \n",
       "1487      228453.0       241.0         303508220.0        193654677.0   \n",
       "2286        3217.0         5.0                 NaN                NaN   \n",
       "3085        6276.0         5.0                 NaN                NaN   \n",
       "3878         140.0         0.0                 NaN                NaN   \n",
       "\n",
       "      people_fully_vaccinated  total_boosters  new_vaccinations  \n",
       "676                       NaN             NaN               NaN  \n",
       "1487              125198111.0        892142.0         2944695.0  \n",
       "2286                      NaN             NaN               NaN  \n",
       "3085                      NaN             NaN               NaN  \n",
       "3878                      NaN             NaN               NaN  "
      ]
     },
     "execution_count": 6,
     "metadata": {},
     "output_type": "execute_result"
    }
   ],
   "source": [
    "# We will filter the data to look at data from the most recent date only.\n",
    "my_data2 =  my_data[my_data.date == my_data.date.max()]\n",
    "# display the first 5 rows of the dataset for the most recent date.\n",
    "my_data2.head()"
   ]
  },
  {
   "cell_type": "code",
   "execution_count": 7,
   "id": "cc6d6478",
   "metadata": {
    "execution": {
     "iopub.execute_input": "2022-06-15T17:02:27.018080Z",
     "iopub.status.busy": "2022-06-15T17:02:27.017685Z",
     "iopub.status.idle": "2022-06-15T17:02:27.022483Z",
     "shell.execute_reply": "2022-06-15T17:02:27.021282Z"
    },
    "papermill": {
     "duration": 0.015698,
     "end_time": "2022-06-15T17:02:27.024606",
     "exception": false,
     "start_time": "2022-06-15T17:02:27.008908",
     "status": "completed"
    },
    "tags": []
   },
   "outputs": [],
   "source": [
    "# For this analysis I am going to remove all rows that contain at least one missing value\n",
    "# clean_data = my_data.dropna()\n",
    "\n",
    "# How many rows and columns in the cleaned dataset after removing all rows containing missing values\n",
    "# clean_data.shape"
   ]
  },
  {
   "cell_type": "code",
   "execution_count": 8,
   "id": "9b631796",
   "metadata": {
    "execution": {
     "iopub.execute_input": "2022-06-15T17:02:27.041911Z",
     "iopub.status.busy": "2022-06-15T17:02:27.041305Z",
     "iopub.status.idle": "2022-06-15T17:02:27.049364Z",
     "shell.execute_reply": "2022-06-15T17:02:27.047952Z"
    },
    "papermill": {
     "duration": 0.019526,
     "end_time": "2022-06-15T17:02:27.051698",
     "exception": false,
     "start_time": "2022-06-15T17:02:27.032172",
     "status": "completed"
    },
    "tags": []
   },
   "outputs": [
    {
     "data": {
      "text/plain": [
       "Index(['iso_code', 'continent', 'location', 'date', 'total_cases', 'new_cases',\n",
       "       'total_deaths', 'new_deaths', 'total_vaccinations', 'people_vaccinated',\n",
       "       'people_fully_vaccinated', 'total_boosters', 'new_vaccinations'],\n",
       "      dtype='object')"
      ]
     },
     "execution_count": 8,
     "metadata": {},
     "output_type": "execute_result"
    }
   ],
   "source": [
    "# Names of columns in the dataset\n",
    "my_data.columns"
   ]
  },
  {
   "cell_type": "code",
   "execution_count": 9,
   "id": "30517426",
   "metadata": {
    "execution": {
     "iopub.execute_input": "2022-06-15T17:02:27.069898Z",
     "iopub.status.busy": "2022-06-15T17:02:27.069515Z",
     "iopub.status.idle": "2022-06-15T17:02:27.073099Z",
     "shell.execute_reply": "2022-06-15T17:02:27.072375Z"
    },
    "papermill": {
     "duration": 0.014975,
     "end_time": "2022-06-15T17:02:27.074948",
     "exception": false,
     "start_time": "2022-06-15T17:02:27.059973",
     "status": "completed"
    },
    "tags": []
   },
   "outputs": [],
   "source": [
    "# I am going to first drop all the columns I don't use, \n",
    "# and then drop rows with NAs, in order to reduce the amount of lossed data."
   ]
  },
  {
   "cell_type": "code",
   "execution_count": 10,
   "id": "52399085",
   "metadata": {
    "execution": {
     "iopub.execute_input": "2022-06-15T17:02:27.092083Z",
     "iopub.status.busy": "2022-06-15T17:02:27.091551Z",
     "iopub.status.idle": "2022-06-15T17:02:27.095178Z",
     "shell.execute_reply": "2022-06-15T17:02:27.094530Z"
    },
    "papermill": {
     "duration": 0.014549,
     "end_time": "2022-06-15T17:02:27.097159",
     "exception": false,
     "start_time": "2022-06-15T17:02:27.082610",
     "status": "completed"
    },
    "tags": []
   },
   "outputs": [],
   "source": [
    "# cols = [\"continent\", \"total_cases\", \"total_vaccinations\"]\n",
    "# continent_data1 = my_data[cols]\n",
    "# clean_data1 = continent_data1.dropna()\n",
    "#Printing the size of original data after dropping columns, and of cleaned data\n",
    "#print(\"Size of original continent data:\", continent_data.shape,\\\n",
    "#     \"\\n\", \"-\"*45, \"\\n\", \"Size of cleaned data:\",\\\n",
    "#     clean_data1.shape, \"\\n\", \"-\"*45, \"\\n\",\\\n",
    "#      \"Size of cleaned data without removing columns:\", clean_data.shape)\n",
    "# We see that in comparison to the original clean data (14602 rows), we now\n",
    "# retain more data (43757 rows). We will continue now the analysis using \n",
    "# the df \"clean_data1\" which retains more rows of data in comparison with \n",
    "# the original \"clean_data\" df."
   ]
  },
  {
   "cell_type": "markdown",
   "id": "5c304f17",
   "metadata": {
    "papermill": {
     "duration": 0.007119,
     "end_time": "2022-06-15T17:02:27.111843",
     "exception": false,
     "start_time": "2022-06-15T17:02:27.104724",
     "status": "completed"
    },
    "tags": []
   },
   "source": [
    "## **Remove missing values**"
   ]
  },
  {
   "cell_type": "code",
   "execution_count": 11,
   "id": "b882efa4",
   "metadata": {
    "execution": {
     "iopub.execute_input": "2022-06-15T17:02:27.129593Z",
     "iopub.status.busy": "2022-06-15T17:02:27.129049Z",
     "iopub.status.idle": "2022-06-15T17:02:27.139788Z",
     "shell.execute_reply": "2022-06-15T17:02:27.138280Z"
    },
    "papermill": {
     "duration": 0.022707,
     "end_time": "2022-06-15T17:02:27.142349",
     "exception": false,
     "start_time": "2022-06-15T17:02:27.119642",
     "status": "completed"
    },
    "tags": []
   },
   "outputs": [
    {
     "name": "stdout",
     "output_type": "stream",
     "text": [
      "Size of original continent data for the most recent date (31/12/2021): (238, 4) \n",
      " ------------------------------------------------------------------------------ \n",
      " Size of cleaned data: (81, 4)\n"
     ]
    }
   ],
   "source": [
    "# I am now going to use my_data2, which contains data for the most recent\n",
    "# date (31/12/21) only.\n",
    "cols = [\"continent\", \"location\", \"total_cases\", \"total_vaccinations\"]\n",
    "continent_data2 = my_data2[cols]\n",
    "clean_data2 = continent_data2.dropna()\n",
    "#Printing the size of original data after dropping columns, and of cleaned data\n",
    "print(\"Size of original continent data for the most recent date (31/12/2021):\",\\\n",
    "      continent_data2.shape,\\\n",
    "     \"\\n\", \"-\"*78, \"\\n\", \"Size of cleaned data:\",\\\n",
    "     clean_data2.shape)\n",
    "# We now have 81 rows, in comparison with the original dataset for 31/12/21\n",
    "# which had 238 rows."
   ]
  },
  {
   "cell_type": "code",
   "execution_count": 12,
   "id": "faec9a0c",
   "metadata": {
    "execution": {
     "iopub.execute_input": "2022-06-15T17:02:27.159599Z",
     "iopub.status.busy": "2022-06-15T17:02:27.159168Z",
     "iopub.status.idle": "2022-06-15T17:02:27.181392Z",
     "shell.execute_reply": "2022-06-15T17:02:27.179812Z"
    },
    "papermill": {
     "duration": 0.033691,
     "end_time": "2022-06-15T17:02:27.183760",
     "exception": false,
     "start_time": "2022-06-15T17:02:27.150069",
     "status": "completed"
    },
    "tags": []
   },
   "outputs": [
    {
     "name": "stdout",
     "output_type": "stream",
     "text": [
      "Number of countries:\n",
      " ------------------------- \n",
      " Raw data: 243 \n",
      " ------------------------- \n",
      " Clean data: 81\n"
     ]
    }
   ],
   "source": [
    "# How many rows for each country, and how many unique countries in the dataset\n",
    "# before and after removing rows with missing values\n",
    "print(\"Number of countries:\\n\", \"-\"*25, \"\\n\",\\\n",
    "      \"Raw data:\", my_data.location.nunique(),\\\n",
    "      \"\\n\", \"-\"*25, \"\\n\", \"Clean data:\",\\\n",
    "      clean_data2.location.nunique())\n",
    "\n",
    "# There are 243 unique countries in the dataset before remvoing missing values, \n",
    "# and 81 unique countries after removing all rows with missing values"
   ]
  },
  {
   "cell_type": "markdown",
   "id": "5cf6741d",
   "metadata": {
    "papermill": {
     "duration": 0.007644,
     "end_time": "2022-06-15T17:02:27.199212",
     "exception": false,
     "start_time": "2022-06-15T17:02:27.191568",
     "status": "completed"
    },
    "tags": []
   },
   "source": [
    "## **Processing**"
   ]
  },
  {
   "cell_type": "code",
   "execution_count": 13,
   "id": "0cc82117",
   "metadata": {
    "execution": {
     "iopub.execute_input": "2022-06-15T17:02:27.217279Z",
     "iopub.status.busy": "2022-06-15T17:02:27.216745Z",
     "iopub.status.idle": "2022-06-15T17:02:27.247869Z",
     "shell.execute_reply": "2022-06-15T17:02:27.246815Z"
    },
    "papermill": {
     "duration": 0.042856,
     "end_time": "2022-06-15T17:02:27.250079",
     "exception": false,
     "start_time": "2022-06-15T17:02:27.207223",
     "status": "completed"
    },
    "tags": []
   },
   "outputs": [
    {
     "name": "stderr",
     "output_type": "stream",
     "text": [
      "/opt/conda/lib/python3.7/site-packages/ipykernel_launcher.py:3: FutureWarning: Indexing with multiple keys (implicitly converted to a tuple of keys) will be deprecated, use a list instead.\n",
      "  This is separate from the ipykernel package so we can avoid doing imports until\n"
     ]
    },
    {
     "data": {
      "text/html": [
       "<div>\n",
       "<style scoped>\n",
       "    .dataframe tbody tr th:only-of-type {\n",
       "        vertical-align: middle;\n",
       "    }\n",
       "\n",
       "    .dataframe tbody tr th {\n",
       "        vertical-align: top;\n",
       "    }\n",
       "\n",
       "    .dataframe thead th {\n",
       "        text-align: right;\n",
       "    }\n",
       "</style>\n",
       "<table border=\"1\" class=\"dataframe\">\n",
       "  <thead>\n",
       "    <tr style=\"text-align: right;\">\n",
       "      <th></th>\n",
       "      <th>Continent</th>\n",
       "      <th>Total cases (Millions)</th>\n",
       "      <th>Total vacc. (Millions)</th>\n",
       "    </tr>\n",
       "  </thead>\n",
       "  <tbody>\n",
       "    <tr>\n",
       "      <th>4</th>\n",
       "      <td>Oceania</td>\n",
       "      <td>0.01</td>\n",
       "      <td>8.19</td>\n",
       "    </tr>\n",
       "    <tr>\n",
       "      <th>0</th>\n",
       "      <td>Africa</td>\n",
       "      <td>2.10</td>\n",
       "      <td>62.63</td>\n",
       "    </tr>\n",
       "    <tr>\n",
       "      <th>5</th>\n",
       "      <td>South America</td>\n",
       "      <td>38.77</td>\n",
       "      <td>613.73</td>\n",
       "    </tr>\n",
       "    <tr>\n",
       "      <th>3</th>\n",
       "      <td>North America</td>\n",
       "      <td>59.23</td>\n",
       "      <td>645.66</td>\n",
       "    </tr>\n",
       "    <tr>\n",
       "      <th>2</th>\n",
       "      <td>Europe</td>\n",
       "      <td>72.23</td>\n",
       "      <td>930.19</td>\n",
       "    </tr>\n",
       "    <tr>\n",
       "      <th>1</th>\n",
       "      <td>Asia</td>\n",
       "      <td>61.14</td>\n",
       "      <td>5,195.89</td>\n",
       "    </tr>\n",
       "  </tbody>\n",
       "</table>\n",
       "</div>"
      ],
      "text/plain": [
       "       Continent  Total cases (Millions)  Total vacc. (Millions)\n",
       "4        Oceania                    0.01                    8.19\n",
       "0         Africa                    2.10                   62.63\n",
       "5  South America                   38.77                  613.73\n",
       "3  North America                   59.23                  645.66\n",
       "2         Europe                   72.23                  930.19\n",
       "1           Asia                   61.14                5,195.89"
      ]
     },
     "metadata": {},
     "output_type": "display_data"
    },
    {
     "data": {
      "text/plain": [
       "Continent                  object\n",
       "Total cases (Millions)    float64\n",
       "Total vacc. (Millions)    float64\n",
       "dtype: object"
      ]
     },
     "metadata": {},
     "output_type": "display_data"
    }
   ],
   "source": [
    "# Processing the clean dataset in order to show total cases and total vaccinations per continent\n",
    "# (in Millions)\n",
    "continent_data = clean_data2.groupby(\"continent\")[\"continent\", \"total_cases\",\n",
    "                                                 \"total_vaccinations\"].sum()/1000000\n",
    "continent_data = continent_data.astype(float)\n",
    "continent_data.reset_index(inplace = True)\n",
    "\n",
    "continent_data.columns = [\"Continent\", \"Total cases (Millions)\", \"Total vacc. (Millions)\"]\n",
    "continent_data.sort_values(by = \"Total vacc. (Millions)\", inplace = True)\n",
    "\n",
    "# Setting display style for float values as commas, no decimal places.\n",
    "pd.options.display.float_format = '{:,.2f}'.format\n",
    "\n",
    "# Displaying the processed dataset.\n",
    "display(continent_data)\n",
    "\n",
    "# Displaying the type of the columns in the dataset.\n",
    "display(continent_data.dtypes)"
   ]
  },
  {
   "cell_type": "markdown",
   "id": "67226ebf",
   "metadata": {
    "papermill": {
     "duration": 0.007941,
     "end_time": "2022-06-15T17:02:27.266279",
     "exception": false,
     "start_time": "2022-06-15T17:02:27.258338",
     "status": "completed"
    },
    "tags": []
   },
   "source": [
    "## **Data Visualization of the Results**"
   ]
  },
  {
   "cell_type": "code",
   "execution_count": 14,
   "id": "97898911",
   "metadata": {
    "execution": {
     "iopub.execute_input": "2022-06-15T17:02:27.285446Z",
     "iopub.status.busy": "2022-06-15T17:02:27.284482Z",
     "iopub.status.idle": "2022-06-15T17:02:27.721227Z",
     "shell.execute_reply": "2022-06-15T17:02:27.720315Z"
    },
    "papermill": {
     "duration": 0.449063,
     "end_time": "2022-06-15T17:02:27.723640",
     "exception": false,
     "start_time": "2022-06-15T17:02:27.274577",
     "status": "completed"
    },
    "tags": []
   },
   "outputs": [
    {
     "data": {
      "image/png": "[encoded data removed]",
      "text/plain": [
       "<Figure size 648x432 with 1 Axes>"
      ]
     },
     "metadata": {
      "needs_background": "light"
     },
     "output_type": "display_data"
    }
   ],
   "source": [
    "# Creating a bar graph for total cases vs. total vaccinations per continent.\n",
    "\n",
    "# Setting options and style.\n",
    "pd.options.display.float_format = '{:,.2f}'.format\n",
    "plt.figure(figsize = (9,6))\n",
    "sns.set(font_scale = 1)\n",
    "sns.set_style(\"whitegrid\")\n",
    "\n",
    "# Setting the title.\n",
    "plt.title(\"Total Covid Cases by Total Vaccinations per Continent\\nas of 31/12/2021\",\\\n",
    "          fontsize = 20)\n",
    "\n",
    "# Creating a bar plot.\n",
    "s = sns.barplot(data = continent_data, x = \"Total vacc. (Millions)\", \n",
    "                y = \"Total cases (Millions)\")\n",
    "s.set_xticklabels(labels = continent_data[\"Total vacc. (Millions)\"].map('{:,.0f}'.format), size = 12)\n",
    "#s.set_yticklabels(labels = continent_data[\"Total cases (Millions)\"]\\\n",
    " #                 .map('{:,.0f}'.format.sort_values()), size = 12)\n",
    "\n",
    "# Setting bar labels as continent names.\n",
    "plt.bar_label(s.containers[0], labels = continent_data[\"Continent\"], padding = 14)\n",
    "# Setting bar labels with values of total cases.\n",
    "plt.bar_label(s.containers[0], labels = continent_data[\"Total cases (Millions)\"]\\\n",
    "                 .map('{:,.2f}'.format), padding = 0)\n",
    "# Setting x and y axes' labels and size.\n",
    "s.set_xlabel(\"Total vacc. (Millions)\", size = 20)\n",
    "s.set_ylabel(\"Total cases (Millions)\", size = 20)\n",
    "\n",
    "plt.show()\n",
    "\n",
    "# Saving the figure.\n",
    "fig = s.get_figure()\n",
    "fig.savefig(\"figure.png\")\n"
   ]
  },
  {
   "cell_type": "markdown",
   "id": "c2f3d1d3",
   "metadata": {
    "papermill": {
     "duration": 0.009003,
     "end_time": "2022-06-15T17:02:27.741577",
     "exception": false,
     "start_time": "2022-06-15T17:02:27.732574",
     "status": "completed"
    },
    "tags": []
   },
   "source": [
    "## **Summary**"
   ]
  },
  {
   "cell_type": "markdown",
   "id": "bd93a711",
   "metadata": {
    "papermill": {
     "duration": 0.008524,
     "end_time": "2022-06-15T17:02:27.759135",
     "exception": false,
     "start_time": "2022-06-15T17:02:27.750611",
     "status": "completed"
    },
    "tags": []
   },
   "source": [
    "The graph above presents the results of analysing this covid dataset, for the most recent date present in the dataset: 31/12/2021. The graph shows a relationship between the number of total vaccinations per continent and the number of total cases per continent. A greater number of vaccinations is associated with a greater number of total cases for all continents, except for Asia. Asia has the largest number of total vaccinations by far, yet its number of total cases is lower in comparison with Europe for instance. \n",
    "  \n",
    "***Please note***: Missing values have been removed from this dataset, which may have affected the results as presented in the graph above. Also please note the scale of the X-axis is not adjusted."
   ]
  }
 ],
 "metadata": {
  "kernelspec": {
   "display_name": "Python 3",
   "language": "python",
   "name": "python3"
  },
  "language_info": {
   "codemirror_mode": {
    "name": "ipython",
    "version": 3
   },
   "file_extension": ".py",
   "mimetype": "text/x-python",
   "name": "python",
   "nbconvert_exporter": "python",
   "pygments_lexer": "ipython3",
   "version": "3.7.12"
  },
  "papermill": {
   "default_parameters": {},
   "duration": 14.975237,
   "end_time": "2022-06-15T17:02:28.490008",
   "environment_variables": {},
   "exception": null,
   "input_path": "__notebook__.ipynb",
   "output_path": "__notebook__.ipynb",
   "parameters": {},
   "start_time": "2022-06-15T17:02:13.514771",
   "version": "2.3.4"
  }
 },
 "nbformat": 4,
 "nbformat_minor": 5
}
