{
 "cells": [
  {
   "cell_type": "markdown",
   "metadata": {
    "id": "OUYHXL71HNxx"
   },
   "source": [
    "<center>\n",
    "    <img src=\"https://gitlab.com/ibm/skills-network/courses/placeholder101/-/raw/master/labs/module%201/images/IDSNlogo.png\" width=\"300\" alt=\"cognitiveclass.ai logo\"  />\n",
    "</center>\n"
   ]
  },
  {
   "cell_type": "markdown",
   "metadata": {
    "id": "pKJCVZr8y4BP"
   },
   "source": [
    "# **Insurance Business Modelling and Basic Actuarial Calculations**\n"
   ]
  },
  {
   "cell_type": "markdown",
   "metadata": {
    "id": "uH9A8WQ76Rcr"
   },
   "source": [
    "Estimated time needed: **45** minutes\n"
   ]
  },
  {
   "cell_type": "markdown",
   "metadata": {
    "id": "yjCFTdFa6VDH"
   },
   "source": [
    "In this lab, you will learn how to build a mathematical model of an insurance company using Risk Process and how to do risk and revenue assessment.\n"
   ]
  },
  {
   "cell_type": "markdown",
   "metadata": {
    "id": "Apb3foqf92Lm"
   },
   "source": [
    "## Prerequisites\n",
    "\n",
    "*   Basic Python knowledge\n",
    "*   Basic Probability theory knowledge\n",
    "*   Basic Integral calculus knowledge\n"
   ]
  },
  {
   "cell_type": "markdown",
   "metadata": {
    "id": "Gsl2a5rr98bZ"
   },
   "source": [
    "## Objectives\n"
   ]
  },
  {
   "cell_type": "markdown",
   "metadata": {
    "id": "PD3g-zxj9-fe"
   },
   "source": [
    "After completing this lab, you will be able to:\n"
   ]
  },
  {
   "cell_type": "markdown",
   "metadata": {
    "id": "nyTW1I04-EBt"
   },
   "source": [
    "*   Build a model of an Insurance Company with Risk Process.\n",
    "    *   Understand the Classical Risk Process.\n",
    "*   Understand basic actuarial approximations and their limitations.\n",
    "    *   Use Actuarial approximations for Risk Assessment of the Classical Risk Process.\n",
    "*   Calculate the Ruin Probability of the Classical Risk Process using Monte Carlo method and compare it to theoretical results.\n"
   ]
  },
  {
   "cell_type": "markdown",
   "metadata": {
    "id": "hfcnsbT8ERLW"
   },
   "source": [
    "## Introduction\n"
   ]
  },
  {
   "cell_type": "markdown",
   "metadata": {
    "id": "mrOUvYlwEWCw"
   },
   "source": [
    "The performance of an insurance company and other financial institutions should be evaluated in terms of profitability and risk.\n",
    "In this lab, we consider the average earned capital as a measure of profitability and the company ruin probability (on a fixed time interval) as a measure of risk.\n",
    "Evolution of the company's capital can be modelled by a stochastic process, the so-called Risk Process.\n",
    "Estimating ruin probability of an insurance company is an important practical problem, but it appears a difficult theoretical and computational task. In case of simplified Risk Process (in particular the Classical Risk Process) approximations are used to estimate the ruin probability. In a general case, we can apply Monte Carlo method, i.e. modeling stochastic trajectories of the company's reserves evolution.\n",
    "In this lab, we'll deal with both the Classical and a Generalized model, and assess profitability and risk.\n"
   ]
  },
  {
   "cell_type": "markdown",
   "metadata": {
    "id": "BSBO94jlEjYU"
   },
   "source": [
    "## Classical Risk Process\n"
   ]
  },
  {
   "cell_type": "markdown",
   "metadata": {
    "id": "ZLe856dJLqGn"
   },
   "source": [
    "The Classical Risk Process describes an insurance company with an initial capital $u$ through incoming cash premiums and outgoing claims. Premiums arrive at a constant rate $c>0$ and claims happen at random time moments and are random values.\n"
   ]
  },
  {
   "cell_type": "markdown",
   "metadata": {
    "id": "Di7lTpGTPmGF"
   },
   "source": [
    "<left>\n",
    "    <img src=\"https://cf-courses-data.s3.us.cloud-object-storage.appdomain.cloud/insurance-risk-assessment-with-montecarlo-method-using-apache-spark/images/RiskProcess.JPG\" width=\"500\" alt=\"Classical Risk Process\"  />\n",
    "</left>\n"
   ]
  },
  {
   "cell_type": "markdown",
   "metadata": {
    "id": "Dub44TR8Lj6O"
   },
   "source": [
    "${\\xi *t} = u + ct - \\sum\\nolimits*{k = 1}^{{N_t}} {{z_k}}$ ,\n"
   ]
  },
  {
   "cell_type": "markdown",
   "metadata": {
    "id": "SzgkxnLZK4fG"
   },
   "source": [
    "where  ${\\xi \\_t}$ is the capital of the insurance company at the time moment $t$ ;\n",
    "\n",
    "$u$ is the initial state of the process (the initial capital of the company);\n",
    "\n",
    "$c$ is the rate of premium income;\n",
    "\n",
    "$N_t$ is the number of claims that arrived before time $t$;\n",
    "\n",
    "${z_k, 1\\leq k\\leq N_t}$ are independent identically distributed random variables (claims) with distribution function $F(\\cdot)$ and mean value $\\mu=\\int\\_0^\\infty zdF(z)$.\n",
    "\n",
    "In the classical risk process, the flow of claims is the Poisson process, i.e. $N_t$ is a discrete random variable with Poisson distribution,\n",
    "$P{N_t=k}=\\frac{(\\lambda t)^k}{k!}e^{-\\lambda t}$.\n"
   ]
  },
  {
   "cell_type": "markdown",
   "metadata": {
    "id": "hQJC1x5oNz6k"
   },
   "source": [
    "## CALCULATIONS FOR THE CLASSICAL RISK PROCESS\n"
   ]
  },
  {
   "cell_type": "markdown",
   "metadata": {
    "id": "dhGo-YtbnaZv"
   },
   "source": [
    "In the case of the Classical Risk Process, it is possible to calculate different functional of the process analytically.\n"
   ]
  },
  {
   "cell_type": "markdown",
   "metadata": {
    "id": "OkMf7L_w2cKR"
   },
   "source": [
    "## The Mean\n"
   ]
  },
  {
   "cell_type": "markdown",
   "metadata": {
    "id": "UHLEdUQG27BT"
   },
   "source": [
    "In the case of the Classical Risk Process, the mean (expected) value ${\\rm{E}}{\\xi \\_t} $ at time $ t $  can be found as\n"
   ]
  },
  {
   "cell_type": "markdown",
   "metadata": {
    "id": "e2a0wKjH2em6"
   },
   "source": [
    "${\\rm{E}}{\\xi \\_t} = (u + ct - \\lambda \\mu t) \\* \\varphi (u) = (u + (c - \\lambda \\mu )t)\\*\\varphi (u)$, where $\\varphi (u)$ is the non ruin probability.\n"
   ]
  },
  {
   "cell_type": "markdown",
   "metadata": {
    "id": "vUXFtz9_5ZRu"
   },
   "source": [
    "## The Variance\n"
   ]
  },
  {
   "cell_type": "markdown",
   "metadata": {
    "id": "vp8kInKL5pr5"
   },
   "source": [
    "The same for the variance ${\\rm{D}}{X_t} $,\n"
   ]
  },
  {
   "cell_type": "markdown",
   "metadata": {
    "id": "OBWKAXjpuP11"
   },
   "source": [
    "${\\rm{D}}{X_t} = {\\rm{E}}{({X_t} - {\\rm{E}}{X_t})^2} = \\lambda t{d^2}$ ,\n",
    "\n",
    "where\n",
    "\n",
    "${d^2}{\\rm{ = E}}{({z_i})^2} = \\int\\_0^\\infty  {{z^2}dF(z)} $.\n"
   ]
  },
  {
   "cell_type": "markdown",
   "metadata": {
    "id": "oxqDH4Mw6KgK"
   },
   "source": [
    "For example, in the simplest case of exponentially distributed claims, $F(z) = 1 - {e^{ - z/\\mu }}$, we have $d = \\mu $.\n"
   ]
  },
  {
   "cell_type": "markdown",
   "metadata": {
    "id": "gJ0jJ6ng5hK-"
   },
   "source": [
    "## The Ruin Probability\n"
   ]
  },
  {
   "cell_type": "markdown",
   "metadata": {
    "id": "JAgxxWLI7pAo"
   },
   "source": [
    "Calculating (or even estimating) the ruin probability appears to be a more complicated problem.\n",
    "In the simplest case of the Classical Risk Process with exponentially distributed claim sizes, $F(z) = 1 - {e^{ - z/\\mu }}$,  the ruin probability can be found as $\\psi (u)  =  {1 \\over {1 + \\rho }}\\exp \\left( { - ,,{{\\rho u} \\over {\\left( {1 + \\rho } \\right)\\mu }}} \\right),,when ,\\rho  > 0$ ,\n",
    "\n",
    "$\\psi (u) = 1,,when ,\\rho  \\le 0$ ,\n",
    "\n",
    "where\n",
    "\n",
    "$\\rho  = {{c } \\over {\\lambda \\mu }} - 1$ .\n",
    "\n",
    "In the case of the Classical Risk Process with arbitrary claim distribution $ F(z) $, the ruin probability cannot be found analytically, but we can find an upper bound $\\psi (u) \\le {e^{ - Ru}}$, where\n",
    "$ R $ is the root of the following equation (the existence is assumed)\n",
    "\n",
    "${\\lambda  \\over {c }}\\int\\_0^{ + \\infty } {{e^{Ry}}\\left( {1 - F(y)} \\right)dy}  = 1$.\n"
   ]
  },
  {
   "cell_type": "markdown",
   "metadata": {
    "id": "4HT2MBkCD3pJ"
   },
   "source": [
    "## NUMERICAL EXPERIMENTS\n"
   ]
  },
  {
   "cell_type": "markdown",
   "metadata": {
    "id": "11yQkMAMTV2M"
   },
   "source": [
    "Now let's simulate different Risk Processes and compare the numerical results with the theoretical ones.\n"
   ]
  },
  {
   "cell_type": "markdown",
   "metadata": {
    "id": "YuBO7Cl0ifaP"
   },
   "source": [
    "We consider risk process with INITIAL_CAPITAL, with premium arrival at a constant INCOME_INTENSITY rate, claims are independent and identically distributed non-negative random variables (here we consider exponentially distributed claim size with positive CLAIM_MEAN) and arrive according to a Poisson process with INCOME_INTENSITY rate.\n"
   ]
  },
  {
   "cell_type": "code",
   "execution_count": 2,
   "metadata": {
    "id": "0idPZJOAzOUw"
   },
   "outputs": [],
   "source": [
    "MAXTIME = 10000          # simulation period\n",
    "INCOME_INTENSITY = 1  # income intensity per time unit\n",
    "CLAIM_INTENSITY = 1   # time between claims is exponentially distributed \n",
    "CLAIM_MEAN = 0.8        # claims are exponentially distributed with CLAIM MEAN, should be >0\n",
    "TRAJEC_NUM = 100     # number of trajectories simulated"
   ]
  },
  {
   "cell_type": "markdown",
   "metadata": {
    "id": "vuFnE654qg6B"
   },
   "source": [
    "## THEORETICAL CALCULATIONS\n"
   ]
  },
  {
   "cell_type": "markdown",
   "metadata": {
    "id": "Sgg91ZJwqn-6"
   },
   "source": [
    "Let's define riskprocess_theo(seed_capital) function of the seed (initial) capital that will return \\[RuinProbability, MeanValue] values for an infinite time interval. Please, insert correct parameter to the function replacing ##YOUR CODE GOES HERE## with your code.\n"
   ]
  },
  {
   "cell_type": "code",
   "execution_count": 3,
   "metadata": {
    "id": "ggC9ykguz1OP"
   },
   "outputs": [],
   "source": [
    "from math import exp #Importing exp function\n",
    "def riskprocess_theo(seed_capital): \n",
    "  Ro=(INCOME_INTENSITY)/(CLAIM_INTENSITY*CLAIM_MEAN)-1\n",
    "  if (Ro>0):\n",
    "    RuinProb_Theo=exp(-Ro*seed_capital/((Ro+1)*CLAIM_INTENSITY))/(Ro+1) #Calculating Ruin Probability on infinite time interval\n",
    "  else:RuinProb_Theo=1\n",
    "  Mean_Theo=(1-RuinProb_Theo)*(seed_capital+(INCOME_INTENSITY-CLAIM_INTENSITY*CLAIM_MEAN)*MAXTIME) #Calculating Mean\n",
    "  return [RuinProb_Theo,Mean_Theo] \n"
   ]
  },
  {
   "cell_type": "markdown",
   "metadata": {
    "id": "iX2SxENxOenT"
   },
   "source": [
    "If you are stuck, please *Double*-click **here** for the solution.\n",
    "\n",
    "<!-- The answer is below:\n",
    " Mean_Theo=(1-RuinProb_Theo)*(seed_capital+(INCOME_INTENSITY-CLAIM_INTENSITY*CLAIM_MEAN)*MAXTIME) \n",
    "-->\n",
    "\n",
    "<!-- The answer is below:\n",
    "   while (time < MAXTIME)and(capital>=0):\n",
    "     ...\n",
    "      time+=time_step\n",
    "-->\n"
   ]
  },
  {
   "cell_type": "markdown",
   "metadata": {
    "id": "R5E3MA4UOfwu"
   },
   "source": [
    "## MONTE CARLO SIMULATION\n"
   ]
  },
  {
   "cell_type": "markdown",
   "metadata": {
    "id": "zfTz1MUbs4lp"
   },
   "source": [
    "Now let's simulate the same Risk Process using Monte Carlo method. Please, define capital variation by replacing ##YOUR CODE GOES HERE## with your code.\n"
   ]
  },
  {
   "cell_type": "code",
   "execution_count": 4,
   "metadata": {
    "id": "Bau_E7BwzBeQ"
   },
   "outputs": [],
   "source": [
    "import random\n",
    "import time\n",
    "from operator import add\n",
    "def riskprocess(seed_capital): \n",
    "  RuinProb_MC = 0\n",
    "  Mean_MC = 0\n",
    "  i=0\n",
    "  for i in range(TRAJEC_NUM):\n",
    "    time = 0\n",
    "    capital=seed_capital\n",
    "    while (time < MAXTIME)and(capital>=0):\n",
    "      time_step=random.expovariate(CLAIM_INTENSITY)\n",
    "      time+=time_step\n",
    "      capital += INCOME_INTENSITY * time_step - random.expovariate(1/CLAIM_MEAN)\n",
    "    if (capital<0): #in case of ruin\n",
    "      RuinProb_MC+=1/TRAJEC_NUM \n",
    "    else: \n",
    "      Mean_MC+=capital/TRAJEC_NUM # we add obtained capital if we do not ruin\n",
    "  return [RuinProb_MC,Mean_MC]"
   ]
  },
  {
   "cell_type": "markdown",
   "metadata": {
    "id": "sJ8LpNbJ3FLU"
   },
   "source": [
    "If you are stuck, please *Double*-click **here** for the solution.\n",
    "\n",
    "<!-- The answer is below:\n",
    "   while (time < MAXTIME)and(capital>=0):\n",
    "     ...\n",
    "      time+=time_step\n",
    "-->\n"
   ]
  },
  {
   "cell_type": "markdown",
   "metadata": {
    "id": "P9m7IaRZYZgU"
   },
   "source": [
    "Now we can test our functions.\n"
   ]
  },
  {
   "cell_type": "code",
   "execution_count": 5,
   "metadata": {
    "id": "pg1UpN6pX54O"
   },
   "outputs": [
    {
     "name": "stdout",
     "output_type": "stream",
     "text": [
      " Resunts for MonteCarlo. Mean capital earned = 1850.494947712731 Ruin Probability = 0.07\n"
     ]
    }
   ],
   "source": [
    "[RuinProbMC,MeanMC]=riskprocess(10)\n",
    "print(\" Resunts for MonteCarlo. Mean capital earned =\",MeanMC,\"Ruin Probability =\", RuinProbMC)"
   ]
  },
  {
   "cell_type": "code",
   "execution_count": 7,
   "metadata": {
    "id": "4CZRoF89qFB1"
   },
   "outputs": [
    {
     "name": "stdout",
     "output_type": "stream",
     "text": [
      "Theoretical resuts Mean Value = 1792.3808645555264 Ruin Probability (infinite time) = 0.10826822658929017\n"
     ]
    }
   ],
   "source": [
    "[RuinProb_Theo,Mean_Theo]=riskprocess_theo(10)\n",
    "print(\"Theoretical resuts Mean Value =\",Mean_Theo,\"Ruin Probability (infinite time) =\",RuinProb_Theo)"
   ]
  },
  {
   "cell_type": "markdown",
   "metadata": {
    "id": "lrzUpkrsb0a3"
   },
   "source": [
    "Now let's build the plot of Ruin Probability as a function of an initial capital. To do this, we have to generate an array of seed capital values and apply our function.\n"
   ]
  },
  {
   "cell_type": "code",
   "execution_count": 9,
   "metadata": {
    "id": "-9YXHk81cKoE"
   },
   "outputs": [],
   "source": [
    "import numpy as np\n",
    "seed_capital_array = np.arange(0, 20, 2).tolist() # Generating Seed Capital array\n",
    "[RuinProbMCarray,MeanMCarray]=np.array([riskprocess(u) for u in seed_capital_array]).transpose() # Starting Monte Carlo simulation for each Seed Capital value\n",
    "[RuinProbTheoarray,MeanTheoarray]=np.array([riskprocess_theo(u) for u in seed_capital_array]).transpose() # Applying theoretical fourmulas for each Seed Capital value"
   ]
  },
  {
   "cell_type": "markdown",
   "metadata": {
    "id": "2-RP9fYA0GOI"
   },
   "source": [
    "Now lets plot theoretical vs simulation results.\n"
   ]
  },
  {
   "cell_type": "code",
   "execution_count": 10,
   "metadata": {
    "id": "YwYx0kS2hpA_"
   },
   "outputs": [],
   "source": [
    "import matplotlib.pyplot as plt"
   ]
  },
  {
   "cell_type": "code",
   "execution_count": 11,
   "metadata": {
    "id": "dx_BrZR8hvFR"
   },
   "outputs": [
    {
     "data": {
      "image/png": "[encoded data removed]",
      "text/plain": [
       "<Figure size 1080x720 with 1 Axes>"
      ]
     },
     "metadata": {
      "needs_background": "light"
     },
     "output_type": "display_data"
    }
   ],
   "source": [
    "fig, ax = plt.subplots()\n",
    "ax.plot(seed_capital_array, RuinProbTheoarray, label = 'Theoretical Ruin Probability, $\\infty $ time interval')\n",
    "ax.plot(seed_capital_array, RuinProbMCarray, label = 'Monte Carlo Ruin Probability')\n",
    "ax.set_ylabel('Ruin Probability')\n",
    "ax.set_xlabel('Seed Capital')\n",
    "ax.legend()\n",
    "fig.set_figheight(10)\n",
    "fig.set_figwidth(15)\n",
    "plt.show()"
   ]
  },
  {
   "cell_type": "markdown",
   "metadata": {
    "id": "JRdXAtTZ0OCr"
   },
   "source": [
    "Note, that theoretical Ruin Probability is calculated for an infinite time interval so it can be considered as an upper bound. Also the accuracy depends on the number of the trajectories (TRAJEC_NUM) of Monte Carlo method.\n"
   ]
  },
  {
   "cell_type": "code",
   "execution_count": 12,
   "metadata": {
    "id": "aUsx6BVz1DOb"
   },
   "outputs": [
    {
     "data": {
      "image/png": "[encoded data removed]",
      "text/plain": [
       "<Figure size 1080x720 with 1 Axes>"
      ]
     },
     "metadata": {
      "needs_background": "light"
     },
     "output_type": "display_data"
    }
   ],
   "source": [
    "fig, ax = plt.subplots()\n",
    "ax.plot(seed_capital_array, MeanTheoarray, label = 'Theoretical Expected Capital')\n",
    "ax.plot(seed_capital_array, MeanMCarray, label = 'Monte Carlo Expected Capital')\n",
    "ax.set_ylabel('Expected Capital')\n",
    "ax.set_xlabel('Seed Capital')\n",
    "ax.legend()\n",
    "fig.set_figheight(10)\n",
    "fig.set_figwidth(15)\n",
    "plt.show()"
   ]
  },
  {
   "cell_type": "markdown",
   "metadata": {
    "id": "n70cd5Uw9PfQ"
   },
   "source": [
    "You can increase TRAJEC_NUM to get more accurate results.\n"
   ]
  },
  {
   "cell_type": "markdown",
   "metadata": {
    "id": "0-3v_XPzSw3t"
   },
   "source": [
    "## Authors\n"
   ]
  },
  {
   "cell_type": "markdown",
   "metadata": {
    "id": "XJLreu9ITNNO"
   },
   "source": [
    "[Bogdan Norkin](https://www.researchgate.net/profile/Bogdan-Norkin?utm_medium=Exinfluencer&utm_source=Exinfluencer&utm_content=000026UJ&utm_term=10006555&utm_id=NA-SkillsNetwork-Channel-SkillsNetworkQuickLabsinsurancebusinessmodellingandbasicactuarialcalculations26470173-2021-01-01)\n"
   ]
  },
  {
   "cell_type": "markdown",
   "metadata": {
    "id": "U0UYEduOTjM9"
   },
   "source": [
    "Copyright © 2021 IBM Corporation. This notebook and its source code are released under the terms of the [MIT License](https://cognitiveclass.ai/mit-license/?utm_medium=Exinfluencer&utm_source=Exinfluencer&utm_content=000026UJ&utm_term=10006555&utm_id=NA-SkillsNetwork-Channel-SkillsNetworkQuickLabsinsurancebusinessmodellingandbasicactuarialcalculations26470173-2021-01-01).\n"
   ]
  }
 ],
 "metadata": {
  "colab": {
   "collapsed_sections": [],
   "name": "Insurance Business Modelling.ipynb",
   "provenance": [],
   "toc_visible": true
  },
  "kernelspec": {
   "display_name": "Python",
   "language": "python",
   "name": "conda-env-python-py"
  },
  "language_info": {
   "codemirror_mode": {
    "name": "ipython",
    "version": 3
   },
   "file_extension": ".py",
   "mimetype": "text/x-python",
   "name": "python",
   "nbconvert_exporter": "python",
   "pygments_lexer": "ipython3",
   "version": "3.7.12"
  }
 },
 "nbformat": 4,
 "nbformat_minor": 4
}
